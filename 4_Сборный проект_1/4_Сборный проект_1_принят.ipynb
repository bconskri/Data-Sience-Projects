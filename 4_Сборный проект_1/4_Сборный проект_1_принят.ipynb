{
 "cells": [
  {
   "cell_type": "markdown",
   "metadata": {},
   "source": [
    "**Привет!**\n",
    "\n",
    "Меня зовут Матушевич Ольга, и я буду проверять твой проект. Предлагаю общаться на «ты» :) Но если это не удобно - дай знать, и мы перейдем на \"вы\". \n",
    "\n",
    "Моя основная цель — не указать на совершенные тобою ошибки, а поделиться своим опытом и помочь тебе стать аналитиком данных. Ты уже проделал большую работу над проектом, но давай сделаем его еще лучше. Ниже ты найдешь мои комментарии - пожалуйста, не перемещай, не изменяй и не удаляй их. Я буду использовать цветовую разметку:\n",
    "\n",
    "<div class=\"alert alert-danger\">\n",
    "<b>Комментарий ревьюера:</b> Так выделены самые важные замечания. Без их отработки проект не будет принят. </div>\n",
    "\n",
    "<div class=\"alert alert-warning\">\n",
    "<b>Комментарий ревьюера:</b> Так выделены небольшие замечания. Одна-два таких замечания в проекте допустимы, но если их будет больше - тебе будет необходимо внести исправления. Это как тестовое задание при приеме на работу: очень много мелких ошибок могут стать причиной отказа кандидату. \n",
    "\n",
    "</div>\n",
    "\n",
    "<div class=\"alert alert-success\">\n",
    "<b>Комментарий ревьюера:</b> Так я выделяю все остальные комментарии.</div>\n",
    "\n",
    "Давай работать над проектом в диалоге: если ты что-то меняешь в проекте или отвечаешь на мои комменатри — пиши об этом. Мне будет легче отследить изменения, если ты выделишь свои комментарии:\n",
    "<div class=\"alert alert-info\"> <b>Комментарий студента:</b> Например, вот так.</div>\n",
    "\n",
    "Всё это поможет выполнить повторную проверку твоего проекта оперативнее. "
   ]
  },
  {
   "cell_type": "markdown",
   "metadata": {
    "toc": true
   },
   "source": [
    "<h1>Table of Contents<span class=\"tocSkip\"></span></h1>\n",
    "<div class=\"toc\"><ul class=\"toc-item\"><li><span><a href=\"#Сборный-проект.-Закономерности,-определяющие-успешность-игры-для-планирования-рекламной-кампании\" data-toc-modified-id=\"Сборный-проект.-Закономерности,-определяющие-успешность-игры-для-планирования-рекламной-кампании-1\">Сборный проект. Закономерности, определяющие успешность игры для планирования рекламной кампании</a></span><ul class=\"toc-item\"><li><span><a href=\"#Описание-проекта\" data-toc-modified-id=\"Описание-проекта-1.1\">Описание проекта</a></span><ul class=\"toc-item\"><li><span><a href=\"#Описание-данных\" data-toc-modified-id=\"Описание-данных-1.1.1\">Описание данных</a></span></li></ul></li><li><span><a href=\"#1.-Откроем-файлы-с-данными-и-изучим-общую-информацию\" data-toc-modified-id=\"1.-Откроем-файлы-с-данными-и-изучим-общую-информацию-1.2\">1. Откроем файлы с данными и изучим общую информацию</a></span></li><li><span><a href=\"#2.-Подготовим-данные\" data-toc-modified-id=\"2.-Подготовим-данные-1.3\">2. Подготовим данные</a></span></li><li><span><a href=\"#3.-Проведем-исследовательский-анализ-данных\" data-toc-modified-id=\"3.-Проведем-исследовательский-анализ-данных-1.4\">3. Проведем исследовательский анализ данных</a></span><ul class=\"toc-item\"><li><span><a href=\"#Вывод-по-исследовательскому-анализу-данных:\" data-toc-modified-id=\"Вывод-по-исследовательскому-анализу-данных:-1.4.1\">Вывод по исследовательскому анализу данных:</a></span></li></ul></li><li><span><a href=\"#4.-Составьте-портрет-пользователя-каждого-региона\" data-toc-modified-id=\"4.-Составьте-портрет-пользователя-каждого-региона-1.5\">4. Составьте портрет пользователя каждого региона</a></span><ul class=\"toc-item\"><li><span><a href=\"#Вывод-по-пользователям-регионов:\" data-toc-modified-id=\"Вывод-по-пользователям-регионов:-1.5.1\">Вывод по пользователям регионов:</a></span></li></ul></li><li><span><a href=\"#5.-Проверьте-гипотезы\" data-toc-modified-id=\"5.-Проверьте-гипотезы-1.6\">5. Проверьте гипотезы</a></span><ul class=\"toc-item\"><li><span><a href=\"#Средние-пользовательские-рейтинги-платформ-Xbox-One-и-PC-одинаковые\" data-toc-modified-id=\"Средние-пользовательские-рейтинги-платформ-Xbox-One-и-PC-одинаковые-1.6.1\">Средние пользовательские рейтинги платформ Xbox One и PC одинаковые</a></span></li><li><span><a href=\"#Средние-пользовательские-рейтинги-жанров-Action-и-Sports-разные\" data-toc-modified-id=\"Средние-пользовательские-рейтинги-жанров-Action-и-Sports-разные-1.6.2\">Средние пользовательские рейтинги жанров Action и Sports разные</a></span></li></ul></li><li><span><a href=\"#6.-Общий-вывод\" data-toc-modified-id=\"6.-Общий-вывод-1.7\">6. Общий вывод</a></span></li></ul></li></ul></div>"
   ]
  },
  {
   "cell_type": "markdown",
   "metadata": {},
   "source": [
    "# Сборный проект. Закономерности, определяющие успешность игры для планирования рекламной кампании"
   ]
  },
  {
   "cell_type": "markdown",
   "metadata": {},
   "source": [
    "## Описание проекта"
   ]
  },
  {
   "cell_type": "markdown",
   "metadata": {},
   "source": [
    "Вы работаете в интернет-магазине «Стримчик», который продаёт по всему миру компьютерные игры. Из открытых источников доступны исторические данные о продажах игр, оценки пользователей и экспертов, жанры и платформы (например, Xbox или PlayStation). Вам нужно выявить определяющие успешность игры закономерности. Это позволит сделать ставку на потенциально популярный продукт и спланировать рекламные кампании.  \n",
    "\n",
    "Перед вами данные до 2016 года. Представим, что сейчас декабрь 2016 г., и вы планируете кампанию на 2017-й. Нужно отработать принцип работы с данными. Неважно, прогнозируете ли вы продажи на 2017 год по данным 2016-го или же 2027-й — по данным 2026 года.  \n",
    "\n",
    "В наборе данных попадается аббревиатура ESRB (Entertainment Software Rating Board) — это ассоциация, определяющая возрастной рейтинг компьютерных игр. ESRB оценивает игровой контент и присваивает ему подходящую возрастную категорию, например, «Для взрослых», «Для детей младшего возраста» или «Для подростков».  \n"
   ]
  },
  {
   "cell_type": "markdown",
   "metadata": {},
   "source": [
    "### Описание данных  \n",
    "\n"
   ]
  },
  {
   "cell_type": "markdown",
   "metadata": {},
   "source": [
    "- Name — название игры  \n",
    "- Platform — платформа  \n",
    "- Year_of_Release — год выпуска  \n",
    "- Genre — жанр игры  \n",
    "- NA_sales — продажи в Северной Америке (миллионы проданных копий)  \n",
    "- EU_sales — продажи в Европе (миллионы проданных копий)  \n",
    "- JP_sales — продажи в Японии (миллионы проданных копий)  \n",
    "- Other_sales — продажи в других странах (миллионы проданных копий)  \n",
    "- Critic_Score — оценка критиков (максимум 100)  \n",
    "- User_Score — оценка пользователей (максимум 10)  \n",
    "- Rating — рейтинг от организации ESRB (англ. Entertainment Software Rating Board). Эта ассоциация определяет рейтинг компьютерных игр и присваивает им подходящую возрастную категорию.  \n",
    "\n",
    "Данные за 2016 год могут быть неполными.\n",
    "\n",
    "**Целью исследования** является выявление закономерностей, определяющих успешность игры . Орделить потенциально популярный продукт чтобы спланировать рекламные кампании на 2017 год."
   ]
  },
  {
   "cell_type": "markdown",
   "metadata": {},
   "source": [
    "<div class=\"alert alert-success\">\n",
    "<b>Комментарий ревьюера:</b> Отличное вступление. Дополнительно стоило прописать и явно выделить <b>цель исследования.</b> </div>\n",
    "\n",
    "><div class=\"alert alert-info\"> Дописал</div>"
   ]
  },
  {
   "cell_type": "markdown",
   "metadata": {},
   "source": [
    "<div class=\"alert alert-success\">\n",
    "<b>Комментарий ревьюера v2:</b> Цель хорошо сформулирована. </div>"
   ]
  },
  {
   "cell_type": "markdown",
   "metadata": {},
   "source": [
    "## 1. Откроем файлы с данными и изучим общую информацию"
   ]
  },
  {
   "cell_type": "code",
   "execution_count": 1,
   "metadata": {},
   "outputs": [],
   "source": [
    "!pip install seaborn>=0.11 -U"
   ]
  },
  {
   "cell_type": "markdown",
   "metadata": {},
   "source": [
    "<div class=\"alert alert-success\">\n",
    "<b>Комментарий ревьюера:</b> Отлично. </div>"
   ]
  },
  {
   "cell_type": "code",
   "execution_count": 2,
   "metadata": {},
   "outputs": [],
   "source": [
    "#загрузка библиотек\n",
    "import pandas as pd\n",
    "import matplotlib.pyplot as plt\n",
    "import seaborn as sns\n",
    "import numpy as np\n",
    "from scipy import stats as st\n",
    "# importing \"copy\" for copy operations \n",
    "import copy \n",
    "from IPython.display import display, HTML, display_html\n",
    "#установим точность float 2 знака\n",
    "pd.set_option(\"precision\", 2)"
   ]
  },
  {
   "cell_type": "code",
   "execution_count": 3,
   "metadata": {
    "scrolled": true
   },
   "outputs": [
    {
     "name": "stdout",
     "output_type": "stream",
     "text": [
      "Таблица games\n"
     ]
    },
    {
     "data": {
      "text/html": [
       "<div>\n",
       "<style scoped>\n",
       "    .dataframe tbody tr th:only-of-type {\n",
       "        vertical-align: middle;\n",
       "    }\n",
       "\n",
       "    .dataframe tbody tr th {\n",
       "        vertical-align: top;\n",
       "    }\n",
       "\n",
       "    .dataframe thead th {\n",
       "        text-align: right;\n",
       "    }\n",
       "</style>\n",
       "<table border=\"1\" class=\"dataframe\">\n",
       "  <thead>\n",
       "    <tr style=\"text-align: right;\">\n",
       "      <th></th>\n",
       "      <th>Name</th>\n",
       "      <th>Platform</th>\n",
       "      <th>Year_of_Release</th>\n",
       "      <th>Genre</th>\n",
       "      <th>NA_sales</th>\n",
       "      <th>EU_sales</th>\n",
       "      <th>JP_sales</th>\n",
       "      <th>Other_sales</th>\n",
       "      <th>Critic_Score</th>\n",
       "      <th>User_Score</th>\n",
       "      <th>Rating</th>\n",
       "    </tr>\n",
       "  </thead>\n",
       "  <tbody>\n",
       "    <tr>\n",
       "      <td>0</td>\n",
       "      <td>Wii Sports</td>\n",
       "      <td>Wii</td>\n",
       "      <td>2006.0</td>\n",
       "      <td>Sports</td>\n",
       "      <td>41.36</td>\n",
       "      <td>28.96</td>\n",
       "      <td>3.77</td>\n",
       "      <td>8.45</td>\n",
       "      <td>76.0</td>\n",
       "      <td>8</td>\n",
       "      <td>E</td>\n",
       "    </tr>\n",
       "    <tr>\n",
       "      <td>1</td>\n",
       "      <td>Super Mario Bros.</td>\n",
       "      <td>NES</td>\n",
       "      <td>1985.0</td>\n",
       "      <td>Platform</td>\n",
       "      <td>29.08</td>\n",
       "      <td>3.58</td>\n",
       "      <td>6.81</td>\n",
       "      <td>0.77</td>\n",
       "      <td>NaN</td>\n",
       "      <td>NaN</td>\n",
       "      <td>NaN</td>\n",
       "    </tr>\n",
       "    <tr>\n",
       "      <td>2</td>\n",
       "      <td>Mario Kart Wii</td>\n",
       "      <td>Wii</td>\n",
       "      <td>2008.0</td>\n",
       "      <td>Racing</td>\n",
       "      <td>15.68</td>\n",
       "      <td>12.76</td>\n",
       "      <td>3.79</td>\n",
       "      <td>3.29</td>\n",
       "      <td>82.0</td>\n",
       "      <td>8.3</td>\n",
       "      <td>E</td>\n",
       "    </tr>\n",
       "    <tr>\n",
       "      <td>3</td>\n",
       "      <td>Wii Sports Resort</td>\n",
       "      <td>Wii</td>\n",
       "      <td>2009.0</td>\n",
       "      <td>Sports</td>\n",
       "      <td>15.61</td>\n",
       "      <td>10.93</td>\n",
       "      <td>3.28</td>\n",
       "      <td>2.95</td>\n",
       "      <td>80.0</td>\n",
       "      <td>8</td>\n",
       "      <td>E</td>\n",
       "    </tr>\n",
       "    <tr>\n",
       "      <td>4</td>\n",
       "      <td>Pokemon Red/Pokemon Blue</td>\n",
       "      <td>GB</td>\n",
       "      <td>1996.0</td>\n",
       "      <td>Role-Playing</td>\n",
       "      <td>11.27</td>\n",
       "      <td>8.89</td>\n",
       "      <td>10.22</td>\n",
       "      <td>1.00</td>\n",
       "      <td>NaN</td>\n",
       "      <td>NaN</td>\n",
       "      <td>NaN</td>\n",
       "    </tr>\n",
       "    <tr>\n",
       "      <td>5</td>\n",
       "      <td>Tetris</td>\n",
       "      <td>GB</td>\n",
       "      <td>1989.0</td>\n",
       "      <td>Puzzle</td>\n",
       "      <td>23.20</td>\n",
       "      <td>2.26</td>\n",
       "      <td>4.22</td>\n",
       "      <td>0.58</td>\n",
       "      <td>NaN</td>\n",
       "      <td>NaN</td>\n",
       "      <td>NaN</td>\n",
       "    </tr>\n",
       "    <tr>\n",
       "      <td>6</td>\n",
       "      <td>New Super Mario Bros.</td>\n",
       "      <td>DS</td>\n",
       "      <td>2006.0</td>\n",
       "      <td>Platform</td>\n",
       "      <td>11.28</td>\n",
       "      <td>9.14</td>\n",
       "      <td>6.50</td>\n",
       "      <td>2.88</td>\n",
       "      <td>89.0</td>\n",
       "      <td>8.5</td>\n",
       "      <td>E</td>\n",
       "    </tr>\n",
       "    <tr>\n",
       "      <td>7</td>\n",
       "      <td>Wii Play</td>\n",
       "      <td>Wii</td>\n",
       "      <td>2006.0</td>\n",
       "      <td>Misc</td>\n",
       "      <td>13.96</td>\n",
       "      <td>9.18</td>\n",
       "      <td>2.93</td>\n",
       "      <td>2.84</td>\n",
       "      <td>58.0</td>\n",
       "      <td>6.6</td>\n",
       "      <td>E</td>\n",
       "    </tr>\n",
       "    <tr>\n",
       "      <td>8</td>\n",
       "      <td>New Super Mario Bros. Wii</td>\n",
       "      <td>Wii</td>\n",
       "      <td>2009.0</td>\n",
       "      <td>Platform</td>\n",
       "      <td>14.44</td>\n",
       "      <td>6.94</td>\n",
       "      <td>4.70</td>\n",
       "      <td>2.24</td>\n",
       "      <td>87.0</td>\n",
       "      <td>8.4</td>\n",
       "      <td>E</td>\n",
       "    </tr>\n",
       "    <tr>\n",
       "      <td>9</td>\n",
       "      <td>Duck Hunt</td>\n",
       "      <td>NES</td>\n",
       "      <td>1984.0</td>\n",
       "      <td>Shooter</td>\n",
       "      <td>26.93</td>\n",
       "      <td>0.63</td>\n",
       "      <td>0.28</td>\n",
       "      <td>0.47</td>\n",
       "      <td>NaN</td>\n",
       "      <td>NaN</td>\n",
       "      <td>NaN</td>\n",
       "    </tr>\n",
       "  </tbody>\n",
       "</table>\n",
       "</div>"
      ],
      "text/plain": [
       "                        Name Platform  Year_of_Release         Genre  \\\n",
       "0                 Wii Sports      Wii           2006.0        Sports   \n",
       "1          Super Mario Bros.      NES           1985.0      Platform   \n",
       "2             Mario Kart Wii      Wii           2008.0        Racing   \n",
       "3          Wii Sports Resort      Wii           2009.0        Sports   \n",
       "4   Pokemon Red/Pokemon Blue       GB           1996.0  Role-Playing   \n",
       "5                     Tetris       GB           1989.0        Puzzle   \n",
       "6      New Super Mario Bros.       DS           2006.0      Platform   \n",
       "7                   Wii Play      Wii           2006.0          Misc   \n",
       "8  New Super Mario Bros. Wii      Wii           2009.0      Platform   \n",
       "9                  Duck Hunt      NES           1984.0       Shooter   \n",
       "\n",
       "   NA_sales  EU_sales  JP_sales  Other_sales  Critic_Score User_Score Rating  \n",
       "0     41.36     28.96      3.77         8.45          76.0          8      E  \n",
       "1     29.08      3.58      6.81         0.77           NaN        NaN    NaN  \n",
       "2     15.68     12.76      3.79         3.29          82.0        8.3      E  \n",
       "3     15.61     10.93      3.28         2.95          80.0          8      E  \n",
       "4     11.27      8.89     10.22         1.00           NaN        NaN    NaN  \n",
       "5     23.20      2.26      4.22         0.58           NaN        NaN    NaN  \n",
       "6     11.28      9.14      6.50         2.88          89.0        8.5      E  \n",
       "7     13.96      9.18      2.93         2.84          58.0        6.6      E  \n",
       "8     14.44      6.94      4.70         2.24          87.0        8.4      E  \n",
       "9     26.93      0.63      0.28         0.47           NaN        NaN    NaN  "
      ]
     },
     "metadata": {},
     "output_type": "display_data"
    },
    {
     "data": {
      "text/plain": [
       "(16715, 11)"
      ]
     },
     "metadata": {},
     "output_type": "display_data"
    },
    {
     "data": {
      "text/plain": [
       "Name                object\n",
       "Platform            object\n",
       "Year_of_Release    float64\n",
       "Genre               object\n",
       "NA_sales           float64\n",
       "EU_sales           float64\n",
       "JP_sales           float64\n",
       "Other_sales        float64\n",
       "Critic_Score       float64\n",
       "User_Score          object\n",
       "Rating              object\n",
       "dtype: object"
      ]
     },
     "metadata": {},
     "output_type": "display_data"
    },
    {
     "data": {
      "text/html": [
       "<div>\n",
       "<style scoped>\n",
       "    .dataframe tbody tr th:only-of-type {\n",
       "        vertical-align: middle;\n",
       "    }\n",
       "\n",
       "    .dataframe tbody tr th {\n",
       "        vertical-align: top;\n",
       "    }\n",
       "\n",
       "    .dataframe thead th {\n",
       "        text-align: right;\n",
       "    }\n",
       "</style>\n",
       "<table border=\"1\" class=\"dataframe\">\n",
       "  <thead>\n",
       "    <tr style=\"text-align: right;\">\n",
       "      <th></th>\n",
       "      <th>percent_of_nulls</th>\n",
       "    </tr>\n",
       "  </thead>\n",
       "  <tbody>\n",
       "    <tr>\n",
       "      <td>Critic_Score</td>\n",
       "      <td>51.32%</td>\n",
       "    </tr>\n",
       "    <tr>\n",
       "      <td>Rating</td>\n",
       "      <td>40.48%</td>\n",
       "    </tr>\n",
       "    <tr>\n",
       "      <td>User_Score</td>\n",
       "      <td>40.09%</td>\n",
       "    </tr>\n",
       "    <tr>\n",
       "      <td>Year_of_Release</td>\n",
       "      <td>1.61%</td>\n",
       "    </tr>\n",
       "    <tr>\n",
       "      <td>Name</td>\n",
       "      <td>0.01%</td>\n",
       "    </tr>\n",
       "    <tr>\n",
       "      <td>Genre</td>\n",
       "      <td>0.01%</td>\n",
       "    </tr>\n",
       "    <tr>\n",
       "      <td>Platform</td>\n",
       "      <td>0.00%</td>\n",
       "    </tr>\n",
       "    <tr>\n",
       "      <td>NA_sales</td>\n",
       "      <td>0.00%</td>\n",
       "    </tr>\n",
       "    <tr>\n",
       "      <td>EU_sales</td>\n",
       "      <td>0.00%</td>\n",
       "    </tr>\n",
       "    <tr>\n",
       "      <td>JP_sales</td>\n",
       "      <td>0.00%</td>\n",
       "    </tr>\n",
       "    <tr>\n",
       "      <td>Other_sales</td>\n",
       "      <td>0.00%</td>\n",
       "    </tr>\n",
       "  </tbody>\n",
       "</table>\n",
       "</div>"
      ],
      "text/plain": [
       "                percent_of_nulls\n",
       "Critic_Score              51.32%\n",
       "Rating                    40.48%\n",
       "User_Score                40.09%\n",
       "Year_of_Release            1.61%\n",
       "Name                       0.01%\n",
       "Genre                      0.01%\n",
       "Platform                   0.00%\n",
       "NA_sales                   0.00%\n",
       "EU_sales                   0.00%\n",
       "JP_sales                   0.00%\n",
       "Other_sales                0.00%"
      ]
     },
     "metadata": {},
     "output_type": "display_data"
    },
    {
     "data": {
      "text/plain": [
       "Need for Speed: Most Wanted           12\n",
       "FIFA 14                                9\n",
       "Ratatouille                            9\n",
       "LEGO Marvel Super Heroes               9\n",
       "Madden NFL 07                          9\n",
       "                                      ..\n",
       "Tamagotchi no Appare! Niji Venture     1\n",
       "Ridge Racer DS                         1\n",
       "LEGO Battles: Ninjago                  1\n",
       "Arthur! Ready to Race                  1\n",
       "Langrisser: Re:Incarnation Tensei      1\n",
       "Name: Name, Length: 11560, dtype: int64"
      ]
     },
     "metadata": {},
     "output_type": "display_data"
    },
    {
     "data": {
      "text/plain": [
       "PS2     2161\n",
       "DS      2151\n",
       "PS3     1331\n",
       "Wii     1320\n",
       "X360    1262\n",
       "PSP     1209\n",
       "PS      1197\n",
       "PC       974\n",
       "XB       824\n",
       "GBA      822\n",
       "GC       556\n",
       "3DS      520\n",
       "PSV      430\n",
       "PS4      392\n",
       "N64      319\n",
       "XOne     247\n",
       "SNES     239\n",
       "SAT      173\n",
       "WiiU     147\n",
       "2600     133\n",
       "NES       98\n",
       "GB        98\n",
       "DC        52\n",
       "GEN       29\n",
       "NG        12\n",
       "WS         6\n",
       "SCD        6\n",
       "3DO        3\n",
       "TG16       2\n",
       "PCFX       1\n",
       "GG         1\n",
       "Name: Platform, dtype: int64"
      ]
     },
     "metadata": {},
     "output_type": "display_data"
    },
    {
     "data": {
      "text/plain": [
       "Action          3369\n",
       "Sports          2348\n",
       "Misc            1750\n",
       "Role-Playing    1498\n",
       "Shooter         1323\n",
       "Adventure       1303\n",
       "Racing          1249\n",
       "Platform         888\n",
       "Simulation       873\n",
       "Fighting         849\n",
       "Strategy         683\n",
       "Puzzle           580\n",
       "NaN                2\n",
       "Name: Genre, dtype: int64"
      ]
     },
     "metadata": {},
     "output_type": "display_data"
    },
    {
     "data": {
      "text/plain": [
       "NaN    6701\n",
       "tbd    2424\n",
       "7.8     324\n",
       "8       290\n",
       "8.2     282\n",
       "       ... \n",
       "0.7       2\n",
       "0.3       2\n",
       "0.6       2\n",
       "9.7       1\n",
       "0         1\n",
       "Name: User_Score, Length: 97, dtype: int64"
      ]
     },
     "metadata": {},
     "output_type": "display_data"
    },
    {
     "data": {
      "text/plain": [
       "NaN     6766\n",
       "E       3990\n",
       "T       2961\n",
       "M       1563\n",
       "E10+    1420\n",
       "EC         8\n",
       "K-A        3\n",
       "RP         3\n",
       "AO         1\n",
       "Name: Rating, dtype: int64"
      ]
     },
     "metadata": {},
     "output_type": "display_data"
    },
    {
     "data": {
      "text/html": [
       "<div>\n",
       "<style scoped>\n",
       "    .dataframe tbody tr th:only-of-type {\n",
       "        vertical-align: middle;\n",
       "    }\n",
       "\n",
       "    .dataframe tbody tr th {\n",
       "        vertical-align: top;\n",
       "    }\n",
       "\n",
       "    .dataframe thead th {\n",
       "        text-align: right;\n",
       "    }\n",
       "</style>\n",
       "<table border=\"1\" class=\"dataframe\">\n",
       "  <thead>\n",
       "    <tr style=\"text-align: right;\">\n",
       "      <th></th>\n",
       "      <th>Year_of_Release</th>\n",
       "      <th>NA_sales</th>\n",
       "      <th>EU_sales</th>\n",
       "      <th>JP_sales</th>\n",
       "      <th>Other_sales</th>\n",
       "      <th>Critic_Score</th>\n",
       "    </tr>\n",
       "  </thead>\n",
       "  <tbody>\n",
       "    <tr>\n",
       "      <td>count</td>\n",
       "      <td>16446.00</td>\n",
       "      <td>16715.00</td>\n",
       "      <td>16715.00</td>\n",
       "      <td>16715.00</td>\n",
       "      <td>16715.00</td>\n",
       "      <td>8137.00</td>\n",
       "    </tr>\n",
       "    <tr>\n",
       "      <td>mean</td>\n",
       "      <td>2006.48</td>\n",
       "      <td>0.26</td>\n",
       "      <td>0.15</td>\n",
       "      <td>0.08</td>\n",
       "      <td>0.05</td>\n",
       "      <td>68.97</td>\n",
       "    </tr>\n",
       "    <tr>\n",
       "      <td>std</td>\n",
       "      <td>5.88</td>\n",
       "      <td>0.81</td>\n",
       "      <td>0.50</td>\n",
       "      <td>0.31</td>\n",
       "      <td>0.19</td>\n",
       "      <td>13.94</td>\n",
       "    </tr>\n",
       "    <tr>\n",
       "      <td>min</td>\n",
       "      <td>1980.00</td>\n",
       "      <td>0.00</td>\n",
       "      <td>0.00</td>\n",
       "      <td>0.00</td>\n",
       "      <td>0.00</td>\n",
       "      <td>13.00</td>\n",
       "    </tr>\n",
       "    <tr>\n",
       "      <td>25%</td>\n",
       "      <td>2003.00</td>\n",
       "      <td>0.00</td>\n",
       "      <td>0.00</td>\n",
       "      <td>0.00</td>\n",
       "      <td>0.00</td>\n",
       "      <td>60.00</td>\n",
       "    </tr>\n",
       "    <tr>\n",
       "      <td>50%</td>\n",
       "      <td>2007.00</td>\n",
       "      <td>0.08</td>\n",
       "      <td>0.02</td>\n",
       "      <td>0.00</td>\n",
       "      <td>0.01</td>\n",
       "      <td>71.00</td>\n",
       "    </tr>\n",
       "    <tr>\n",
       "      <td>75%</td>\n",
       "      <td>2010.00</td>\n",
       "      <td>0.24</td>\n",
       "      <td>0.11</td>\n",
       "      <td>0.04</td>\n",
       "      <td>0.03</td>\n",
       "      <td>79.00</td>\n",
       "    </tr>\n",
       "    <tr>\n",
       "      <td>max</td>\n",
       "      <td>2016.00</td>\n",
       "      <td>41.36</td>\n",
       "      <td>28.96</td>\n",
       "      <td>10.22</td>\n",
       "      <td>10.57</td>\n",
       "      <td>98.00</td>\n",
       "    </tr>\n",
       "  </tbody>\n",
       "</table>\n",
       "</div>"
      ],
      "text/plain": [
       "       Year_of_Release  NA_sales  EU_sales  JP_sales  Other_sales  \\\n",
       "count         16446.00  16715.00  16715.00  16715.00     16715.00   \n",
       "mean           2006.48      0.26      0.15      0.08         0.05   \n",
       "std               5.88      0.81      0.50      0.31         0.19   \n",
       "min            1980.00      0.00      0.00      0.00         0.00   \n",
       "25%            2003.00      0.00      0.00      0.00         0.00   \n",
       "50%            2007.00      0.08      0.02      0.00         0.01   \n",
       "75%            2010.00      0.24      0.11      0.04         0.03   \n",
       "max            2016.00     41.36     28.96     10.22        10.57   \n",
       "\n",
       "       Critic_Score  \n",
       "count       8137.00  \n",
       "mean          68.97  \n",
       "std           13.94  \n",
       "min           13.00  \n",
       "25%           60.00  \n",
       "50%           71.00  \n",
       "75%           79.00  \n",
       "max           98.00  "
      ]
     },
     "metadata": {},
     "output_type": "display_data"
    },
    {
     "name": "stdout",
     "output_type": "stream",
     "text": [
      "Количество полных дубликатов: 0\n"
     ]
    }
   ],
   "source": [
    "#откроем датасет\n",
    "games = pd.read_csv('/datasets/games.csv')\n",
    "#проанализируем данные\n",
    "def dataexam(dat):\n",
    "    display(dat.head(10))\n",
    "    display(dat.shape)\n",
    "    display(dat.dtypes)\n",
    "    #посмотрим долю пустых значений в каждой колонке данных\n",
    "    gaps_in_the_data = (pd\n",
    "                    .DataFrame({'percent_of_nulls':dat.isna().sum()/len(dat)})\n",
    "                    .sort_values(by='percent_of_nulls', ascending=False)\n",
    "                   )\n",
    "    gaps_in_the_data['percent_of_nulls'] = gaps_in_the_data['percent_of_nulls'].map(lambda x: '{:.2%}'.format(x))\n",
    "    display(gaps_in_the_data)\n",
    "    #посмотрим состав значений категоральных переменных\n",
    "    display(dat['Name'].value_counts(dropna=False))\n",
    "    display(dat['Platform'].value_counts(dropna=False))\n",
    "    display(dat['Genre'].value_counts(dropna=False))\n",
    "    display(dat['User_Score'].value_counts(dropna=False))\n",
    "    display(dat['Rating'].value_counts(dropna=False))\n",
    "    #посмотрим диапазоны значений\n",
    "    display(dat.describe())\n",
    "    #Посчитаем количество полных дубликатов\n",
    "    print('Количество полных дубликатов:', dat.duplicated().sum())\n",
    "\n",
    "print('Таблица','games')\n",
    "dataexam(games)"
   ]
  },
  {
   "cell_type": "markdown",
   "metadata": {},
   "source": [
    "<div class=\"alert alert-success\">\n",
    "<b>Комментарий ревьюера:</b> Прекрасная функция. </div>"
   ]
  },
  {
   "cell_type": "markdown",
   "metadata": {},
   "source": [
    "**Вывод:**\n",
    "\n",
    "Заголовки серий данных в разном регистре.  \n",
    "\n",
    "Год выпуска имеет тип float, хотя данные целые. Critic_score имеет тип float, хотя данные целые. User_Score имеет тип object, хотя оценка пользователей должна быть числовой. \n",
    "\n",
    "Critic_score, User_Score, Rating, Year_of_Release, Name, Genre содержат пропущенные данные.  \n",
    "\n",
    "User_Score имеет непонятные данные - tbd 2424 записи. 15% - многовато. Это значит To be determined - \"будет определено\" (в смысле \"будет определено позже\"). Удалять не будем. Заменим на Nan - рейтинга пока нет.  \n",
    "\n",
    "Строк полных дубликатов нет.   "
   ]
  },
  {
   "cell_type": "markdown",
   "metadata": {},
   "source": [
    "<div class=\"alert alert-success\">\n",
    "<b>Комментарий ревьюера:</b> Наблюдения верны. </div>"
   ]
  },
  {
   "cell_type": "code",
   "execution_count": 4,
   "metadata": {},
   "outputs": [
    {
     "data": {
      "text/html": [
       "<div>\n",
       "<style scoped>\n",
       "    .dataframe tbody tr th:only-of-type {\n",
       "        vertical-align: middle;\n",
       "    }\n",
       "\n",
       "    .dataframe tbody tr th {\n",
       "        vertical-align: top;\n",
       "    }\n",
       "\n",
       "    .dataframe thead th {\n",
       "        text-align: right;\n",
       "    }\n",
       "</style>\n",
       "<table border=\"1\" class=\"dataframe\">\n",
       "  <thead>\n",
       "    <tr style=\"text-align: right;\">\n",
       "      <th></th>\n",
       "      <th>Name</th>\n",
       "      <th>Platform</th>\n",
       "      <th>Year_of_Release</th>\n",
       "      <th>Genre</th>\n",
       "      <th>NA_sales</th>\n",
       "      <th>EU_sales</th>\n",
       "      <th>JP_sales</th>\n",
       "      <th>Other_sales</th>\n",
       "      <th>Critic_Score</th>\n",
       "      <th>User_Score</th>\n",
       "      <th>Rating</th>\n",
       "    </tr>\n",
       "  </thead>\n",
       "  <tbody>\n",
       "    <tr>\n",
       "      <td>119</td>\n",
       "      <td>Zumba Fitness</td>\n",
       "      <td>Wii</td>\n",
       "      <td>2010.0</td>\n",
       "      <td>Sports</td>\n",
       "      <td>3.45</td>\n",
       "      <td>2.59</td>\n",
       "      <td>0.00</td>\n",
       "      <td>0.66</td>\n",
       "      <td>NaN</td>\n",
       "      <td>tbd</td>\n",
       "      <td>E</td>\n",
       "    </tr>\n",
       "    <tr>\n",
       "      <td>301</td>\n",
       "      <td>Namco Museum: 50th Anniversary</td>\n",
       "      <td>PS2</td>\n",
       "      <td>2005.0</td>\n",
       "      <td>Misc</td>\n",
       "      <td>2.08</td>\n",
       "      <td>1.35</td>\n",
       "      <td>0.00</td>\n",
       "      <td>0.54</td>\n",
       "      <td>61.0</td>\n",
       "      <td>tbd</td>\n",
       "      <td>E10+</td>\n",
       "    </tr>\n",
       "    <tr>\n",
       "      <td>520</td>\n",
       "      <td>Zumba Fitness 2</td>\n",
       "      <td>Wii</td>\n",
       "      <td>2011.0</td>\n",
       "      <td>Sports</td>\n",
       "      <td>1.51</td>\n",
       "      <td>1.03</td>\n",
       "      <td>0.00</td>\n",
       "      <td>0.27</td>\n",
       "      <td>NaN</td>\n",
       "      <td>tbd</td>\n",
       "      <td>T</td>\n",
       "    </tr>\n",
       "    <tr>\n",
       "      <td>645</td>\n",
       "      <td>uDraw Studio</td>\n",
       "      <td>Wii</td>\n",
       "      <td>2010.0</td>\n",
       "      <td>Misc</td>\n",
       "      <td>1.65</td>\n",
       "      <td>0.57</td>\n",
       "      <td>0.00</td>\n",
       "      <td>0.20</td>\n",
       "      <td>71.0</td>\n",
       "      <td>tbd</td>\n",
       "      <td>E</td>\n",
       "    </tr>\n",
       "    <tr>\n",
       "      <td>657</td>\n",
       "      <td>Frogger's Adventures: Temple of the Frog</td>\n",
       "      <td>GBA</td>\n",
       "      <td>NaN</td>\n",
       "      <td>Adventure</td>\n",
       "      <td>2.15</td>\n",
       "      <td>0.18</td>\n",
       "      <td>0.00</td>\n",
       "      <td>0.07</td>\n",
       "      <td>73.0</td>\n",
       "      <td>tbd</td>\n",
       "      <td>E</td>\n",
       "    </tr>\n",
       "    <tr>\n",
       "      <td>718</td>\n",
       "      <td>Just Dance Kids</td>\n",
       "      <td>Wii</td>\n",
       "      <td>2010.0</td>\n",
       "      <td>Misc</td>\n",
       "      <td>1.52</td>\n",
       "      <td>0.54</td>\n",
       "      <td>0.00</td>\n",
       "      <td>0.18</td>\n",
       "      <td>NaN</td>\n",
       "      <td>tbd</td>\n",
       "      <td>E</td>\n",
       "    </tr>\n",
       "    <tr>\n",
       "      <td>726</td>\n",
       "      <td>Dance Dance Revolution X2</td>\n",
       "      <td>PS2</td>\n",
       "      <td>2009.0</td>\n",
       "      <td>Simulation</td>\n",
       "      <td>1.09</td>\n",
       "      <td>0.85</td>\n",
       "      <td>0.00</td>\n",
       "      <td>0.28</td>\n",
       "      <td>NaN</td>\n",
       "      <td>tbd</td>\n",
       "      <td>E10+</td>\n",
       "    </tr>\n",
       "    <tr>\n",
       "      <td>821</td>\n",
       "      <td>The Incredibles</td>\n",
       "      <td>GBA</td>\n",
       "      <td>2004.0</td>\n",
       "      <td>Action</td>\n",
       "      <td>1.15</td>\n",
       "      <td>0.77</td>\n",
       "      <td>0.04</td>\n",
       "      <td>0.10</td>\n",
       "      <td>55.0</td>\n",
       "      <td>tbd</td>\n",
       "      <td>E</td>\n",
       "    </tr>\n",
       "    <tr>\n",
       "      <td>881</td>\n",
       "      <td>Who wants to be a millionaire</td>\n",
       "      <td>PC</td>\n",
       "      <td>1999.0</td>\n",
       "      <td>Misc</td>\n",
       "      <td>1.94</td>\n",
       "      <td>0.00</td>\n",
       "      <td>0.00</td>\n",
       "      <td>0.00</td>\n",
       "      <td>NaN</td>\n",
       "      <td>tbd</td>\n",
       "      <td>E</td>\n",
       "    </tr>\n",
       "    <tr>\n",
       "      <td>1047</td>\n",
       "      <td>Tetris Worlds</td>\n",
       "      <td>GBA</td>\n",
       "      <td>2001.0</td>\n",
       "      <td>Puzzle</td>\n",
       "      <td>1.25</td>\n",
       "      <td>0.39</td>\n",
       "      <td>0.00</td>\n",
       "      <td>0.06</td>\n",
       "      <td>65.0</td>\n",
       "      <td>tbd</td>\n",
       "      <td>E</td>\n",
       "    </tr>\n",
       "  </tbody>\n",
       "</table>\n",
       "</div>"
      ],
      "text/plain": [
       "                                          Name Platform  Year_of_Release  \\\n",
       "119                              Zumba Fitness      Wii           2010.0   \n",
       "301             Namco Museum: 50th Anniversary      PS2           2005.0   \n",
       "520                            Zumba Fitness 2      Wii           2011.0   \n",
       "645                               uDraw Studio      Wii           2010.0   \n",
       "657   Frogger's Adventures: Temple of the Frog      GBA              NaN   \n",
       "718                            Just Dance Kids      Wii           2010.0   \n",
       "726                  Dance Dance Revolution X2      PS2           2009.0   \n",
       "821                            The Incredibles      GBA           2004.0   \n",
       "881              Who wants to be a millionaire       PC           1999.0   \n",
       "1047                             Tetris Worlds      GBA           2001.0   \n",
       "\n",
       "           Genre  NA_sales  EU_sales  JP_sales  Other_sales  Critic_Score  \\\n",
       "119       Sports      3.45      2.59      0.00         0.66           NaN   \n",
       "301         Misc      2.08      1.35      0.00         0.54          61.0   \n",
       "520       Sports      1.51      1.03      0.00         0.27           NaN   \n",
       "645         Misc      1.65      0.57      0.00         0.20          71.0   \n",
       "657    Adventure      2.15      0.18      0.00         0.07          73.0   \n",
       "718         Misc      1.52      0.54      0.00         0.18           NaN   \n",
       "726   Simulation      1.09      0.85      0.00         0.28           NaN   \n",
       "821       Action      1.15      0.77      0.04         0.10          55.0   \n",
       "881         Misc      1.94      0.00      0.00         0.00           NaN   \n",
       "1047      Puzzle      1.25      0.39      0.00         0.06          65.0   \n",
       "\n",
       "     User_Score Rating  \n",
       "119         tbd      E  \n",
       "301         tbd   E10+  \n",
       "520         tbd      T  \n",
       "645         tbd      E  \n",
       "657         tbd      E  \n",
       "718         tbd      E  \n",
       "726         tbd   E10+  \n",
       "821         tbd      E  \n",
       "881         tbd      E  \n",
       "1047        tbd      E  "
      ]
     },
     "metadata": {},
     "output_type": "display_data"
    }
   ],
   "source": [
    "#посмотрим на \"сомнительные данные\"\n",
    "display(games[games['User_Score'].str.strip() == 'tbd'].head(10))\n",
    "#ничего общего не видно"
   ]
  },
  {
   "cell_type": "markdown",
   "metadata": {},
   "source": [
    "<div class=\"alert alert-success\">\n",
    "<b>Комментарий ревьюера:</b> Даже если ты удалишь из ячейки выше display - результат не измениться. Этот метод нужен, когда после вывода на печать таблицы мы продолжаем код в той же ячейке. Можно использовать и print, но display лучше.</div>"
   ]
  },
  {
   "cell_type": "markdown",
   "metadata": {},
   "source": [
    "## 2. Подготовим данные"
   ]
  },
  {
   "cell_type": "code",
   "execution_count": 5,
   "metadata": {
    "scrolled": true
   },
   "outputs": [
    {
     "data": {
      "text/html": [
       "<div>\n",
       "<style scoped>\n",
       "    .dataframe tbody tr th:only-of-type {\n",
       "        vertical-align: middle;\n",
       "    }\n",
       "\n",
       "    .dataframe tbody tr th {\n",
       "        vertical-align: top;\n",
       "    }\n",
       "\n",
       "    .dataframe thead th {\n",
       "        text-align: right;\n",
       "    }\n",
       "</style>\n",
       "<table border=\"1\" class=\"dataframe\">\n",
       "  <thead>\n",
       "    <tr style=\"text-align: right;\">\n",
       "      <th></th>\n",
       "      <th>name</th>\n",
       "      <th>platform</th>\n",
       "      <th>year_of_release</th>\n",
       "      <th>genre</th>\n",
       "      <th>na_sales</th>\n",
       "      <th>eu_sales</th>\n",
       "      <th>jp_sales</th>\n",
       "      <th>other_sales</th>\n",
       "      <th>critic_score</th>\n",
       "      <th>user_score</th>\n",
       "      <th>rating</th>\n",
       "      <th>total_sales</th>\n",
       "    </tr>\n",
       "  </thead>\n",
       "  <tbody>\n",
       "    <tr>\n",
       "      <td>0</td>\n",
       "      <td>Wii Sports</td>\n",
       "      <td>Wii</td>\n",
       "      <td>2006</td>\n",
       "      <td>Sports</td>\n",
       "      <td>41.36</td>\n",
       "      <td>28.96</td>\n",
       "      <td>3.77</td>\n",
       "      <td>8.45</td>\n",
       "      <td>76</td>\n",
       "      <td>8.0</td>\n",
       "      <td>E</td>\n",
       "      <td>82.54</td>\n",
       "    </tr>\n",
       "    <tr>\n",
       "      <td>1</td>\n",
       "      <td>Super Mario Bros.</td>\n",
       "      <td>NES</td>\n",
       "      <td>1985</td>\n",
       "      <td>Platform</td>\n",
       "      <td>29.08</td>\n",
       "      <td>3.58</td>\n",
       "      <td>6.81</td>\n",
       "      <td>0.77</td>\n",
       "      <td>NaN</td>\n",
       "      <td>NaN</td>\n",
       "      <td>NaN</td>\n",
       "      <td>40.24</td>\n",
       "    </tr>\n",
       "    <tr>\n",
       "      <td>2</td>\n",
       "      <td>Mario Kart Wii</td>\n",
       "      <td>Wii</td>\n",
       "      <td>2008</td>\n",
       "      <td>Racing</td>\n",
       "      <td>15.68</td>\n",
       "      <td>12.76</td>\n",
       "      <td>3.79</td>\n",
       "      <td>3.29</td>\n",
       "      <td>82</td>\n",
       "      <td>8.3</td>\n",
       "      <td>E</td>\n",
       "      <td>35.52</td>\n",
       "    </tr>\n",
       "    <tr>\n",
       "      <td>3</td>\n",
       "      <td>Wii Sports Resort</td>\n",
       "      <td>Wii</td>\n",
       "      <td>2009</td>\n",
       "      <td>Sports</td>\n",
       "      <td>15.61</td>\n",
       "      <td>10.93</td>\n",
       "      <td>3.28</td>\n",
       "      <td>2.95</td>\n",
       "      <td>80</td>\n",
       "      <td>8.0</td>\n",
       "      <td>E</td>\n",
       "      <td>32.77</td>\n",
       "    </tr>\n",
       "    <tr>\n",
       "      <td>4</td>\n",
       "      <td>Pokemon Red/Pokemon Blue</td>\n",
       "      <td>GB</td>\n",
       "      <td>1996</td>\n",
       "      <td>Role-Playing</td>\n",
       "      <td>11.27</td>\n",
       "      <td>8.89</td>\n",
       "      <td>10.22</td>\n",
       "      <td>1.00</td>\n",
       "      <td>NaN</td>\n",
       "      <td>NaN</td>\n",
       "      <td>NaN</td>\n",
       "      <td>31.38</td>\n",
       "    </tr>\n",
       "    <tr>\n",
       "      <td>...</td>\n",
       "      <td>...</td>\n",
       "      <td>...</td>\n",
       "      <td>...</td>\n",
       "      <td>...</td>\n",
       "      <td>...</td>\n",
       "      <td>...</td>\n",
       "      <td>...</td>\n",
       "      <td>...</td>\n",
       "      <td>...</td>\n",
       "      <td>...</td>\n",
       "      <td>...</td>\n",
       "      <td>...</td>\n",
       "    </tr>\n",
       "    <tr>\n",
       "      <td>16710</td>\n",
       "      <td>Samurai Warriors: Sanada Maru</td>\n",
       "      <td>PS3</td>\n",
       "      <td>2016</td>\n",
       "      <td>Action</td>\n",
       "      <td>0.00</td>\n",
       "      <td>0.00</td>\n",
       "      <td>0.01</td>\n",
       "      <td>0.00</td>\n",
       "      <td>NaN</td>\n",
       "      <td>NaN</td>\n",
       "      <td>NaN</td>\n",
       "      <td>0.01</td>\n",
       "    </tr>\n",
       "    <tr>\n",
       "      <td>16711</td>\n",
       "      <td>LMA Manager 2007</td>\n",
       "      <td>X360</td>\n",
       "      <td>2006</td>\n",
       "      <td>Sports</td>\n",
       "      <td>0.00</td>\n",
       "      <td>0.01</td>\n",
       "      <td>0.00</td>\n",
       "      <td>0.00</td>\n",
       "      <td>NaN</td>\n",
       "      <td>NaN</td>\n",
       "      <td>NaN</td>\n",
       "      <td>0.01</td>\n",
       "    </tr>\n",
       "    <tr>\n",
       "      <td>16712</td>\n",
       "      <td>Haitaka no Psychedelica</td>\n",
       "      <td>PSV</td>\n",
       "      <td>2016</td>\n",
       "      <td>Adventure</td>\n",
       "      <td>0.00</td>\n",
       "      <td>0.00</td>\n",
       "      <td>0.01</td>\n",
       "      <td>0.00</td>\n",
       "      <td>NaN</td>\n",
       "      <td>NaN</td>\n",
       "      <td>NaN</td>\n",
       "      <td>0.01</td>\n",
       "    </tr>\n",
       "    <tr>\n",
       "      <td>16713</td>\n",
       "      <td>Spirits &amp; Spells</td>\n",
       "      <td>GBA</td>\n",
       "      <td>2003</td>\n",
       "      <td>Platform</td>\n",
       "      <td>0.01</td>\n",
       "      <td>0.00</td>\n",
       "      <td>0.00</td>\n",
       "      <td>0.00</td>\n",
       "      <td>NaN</td>\n",
       "      <td>NaN</td>\n",
       "      <td>NaN</td>\n",
       "      <td>0.01</td>\n",
       "    </tr>\n",
       "    <tr>\n",
       "      <td>16714</td>\n",
       "      <td>Winning Post 8 2016</td>\n",
       "      <td>PSV</td>\n",
       "      <td>2016</td>\n",
       "      <td>Simulation</td>\n",
       "      <td>0.00</td>\n",
       "      <td>0.00</td>\n",
       "      <td>0.01</td>\n",
       "      <td>0.00</td>\n",
       "      <td>NaN</td>\n",
       "      <td>NaN</td>\n",
       "      <td>NaN</td>\n",
       "      <td>0.01</td>\n",
       "    </tr>\n",
       "  </tbody>\n",
       "</table>\n",
       "<p>16713 rows × 12 columns</p>\n",
       "</div>"
      ],
      "text/plain": [
       "                                name platform  year_of_release         genre  \\\n",
       "0                         Wii Sports      Wii             2006        Sports   \n",
       "1                  Super Mario Bros.      NES             1985      Platform   \n",
       "2                     Mario Kart Wii      Wii             2008        Racing   \n",
       "3                  Wii Sports Resort      Wii             2009        Sports   \n",
       "4           Pokemon Red/Pokemon Blue       GB             1996  Role-Playing   \n",
       "...                              ...      ...              ...           ...   \n",
       "16710  Samurai Warriors: Sanada Maru      PS3             2016        Action   \n",
       "16711               LMA Manager 2007     X360             2006        Sports   \n",
       "16712        Haitaka no Psychedelica      PSV             2016     Adventure   \n",
       "16713               Spirits & Spells      GBA             2003      Platform   \n",
       "16714            Winning Post 8 2016      PSV             2016    Simulation   \n",
       "\n",
       "       na_sales  eu_sales  jp_sales  other_sales  critic_score  user_score  \\\n",
       "0         41.36     28.96      3.77         8.45            76         8.0   \n",
       "1         29.08      3.58      6.81         0.77           NaN         NaN   \n",
       "2         15.68     12.76      3.79         3.29            82         8.3   \n",
       "3         15.61     10.93      3.28         2.95            80         8.0   \n",
       "4         11.27      8.89     10.22         1.00           NaN         NaN   \n",
       "...         ...       ...       ...          ...           ...         ...   \n",
       "16710      0.00      0.00      0.01         0.00           NaN         NaN   \n",
       "16711      0.00      0.01      0.00         0.00           NaN         NaN   \n",
       "16712      0.00      0.00      0.01         0.00           NaN         NaN   \n",
       "16713      0.01      0.00      0.00         0.00           NaN         NaN   \n",
       "16714      0.00      0.00      0.01         0.00           NaN         NaN   \n",
       "\n",
       "      rating  total_sales  \n",
       "0          E        82.54  \n",
       "1        NaN        40.24  \n",
       "2          E        35.52  \n",
       "3          E        32.77  \n",
       "4        NaN        31.38  \n",
       "...      ...          ...  \n",
       "16710    NaN         0.01  \n",
       "16711    NaN         0.01  \n",
       "16712    NaN         0.01  \n",
       "16713    NaN         0.01  \n",
       "16714    NaN         0.01  \n",
       "\n",
       "[16713 rows x 12 columns]"
      ]
     },
     "metadata": {},
     "output_type": "display_data"
    }
   ],
   "source": [
    "#приведем название столбцов к нижнему регистру\n",
    "for name in games.columns:\n",
    "    games.rename(columns={name:name.lower()}, inplace=True)\n",
    "\n",
    "#разберемся с tbd в user_score\n",
    "games.loc[games['user_score'].str.strip() == 'tbd', 'user_score'] = float('nan')\n",
    "\n",
    "#преобразуем типы\n",
    "games['year_of_release'] = games['year_of_release'].astype('Int64')\n",
    "games['critic_score'] = games['critic_score'].astype('Int64')\n",
    "games['user_score'] = games['user_score'].astype('float64')\n",
    "\n",
    "#удалим пустые названия игр и пустые жанры\n",
    "games = games.drop(games[games['name'].isna() == True].index, axis=0)\n",
    "games = games.drop(games[games['genre'].isna() == True].index, axis=0)\n",
    "#пропуски в рейтингах пока не трогаю, чтобы не разбалансировать данные. Посмотрим понадобиться ли это в дальнейшем\n",
    "\n",
    "#добавим суммарные продажи по регионам\n",
    "games['total_sales'] = games['na_sales'] + games['eu_sales'] + games['jp_sales'] + games['other_sales']\n",
    "#\n",
    "display(games)\n"
   ]
  },
  {
   "cell_type": "markdown",
   "metadata": {},
   "source": [
    "<div class=\"alert alert-warning\">\n",
    "<b>Комментарий ревьюера:</b> Мне нравятся действия, которые ты выполнил. Стоит чуть больше пояснять их. Например, почему ты поступил с tbd именно так? Что с пропусками в critic_score и user_score ?</div>\n",
    "\n",
    "><div class=\"alert alert-info\"> Исправил</div>"
   ]
  },
  {
   "cell_type": "markdown",
   "metadata": {},
   "source": [
    "Аббревиатура tbd в колонке user_score значит to be determined, to be done - \"будет определено\" (в том смысле, что \"будет определено позже\"). То есть, данные пока не заполнены умышленно, так как еще не определились с рейтингом и будут заполнены позже.   \n",
    "Поэтому предлагаю заменить tbd на NaN.   \n",
    "\n",
    "Колонка raiting   \n",
    "Организация (ESRB), присуждающая рейтинги играм была основана в 1994 году. Соответственно, далеко не всем играм, выпущенным до этого года, присуждался рейтинг. Опять же вероятно рейтинга может еще не быть в свежих играх, так как организация просто не успела его присвоить. Заменять этот рейтинг на что-то расчетное и субьективное было бы некорректно. Оставим пропуски как есть.   \n",
    "\n",
    "Колонка critic_score\n",
    "Издания, освещающие рынок игр, стали появляться во второй половине 90-х (IGN в 1996, Igromania в 1997 и тд). Вполне вероятно, что далеко не всем играм, выпущенным до 1996 года, критики ставили оценки. Опять же, так как данные не за полный 2016 год, то и там вероятно наблюдать пустые значения. Заменять оценку critic_score на что-то расчетное и субьективное было бы некорректно. Оставим пропуски как есть.\n"
   ]
  },
  {
   "cell_type": "markdown",
   "metadata": {},
   "source": [
    "<div class=\"alert alert-success\">\n",
    "<b>Комментарий ревьюера v2:</b> Так намного понятней.</div>"
   ]
  },
  {
   "cell_type": "markdown",
   "metadata": {},
   "source": [
    "## 3. Проведем исследовательский анализ данных"
   ]
  },
  {
   "cell_type": "code",
   "execution_count": 6,
   "metadata": {},
   "outputs": [
    {
     "data": {
      "text/plain": [
       "Text(0.5, 1.0, 'Продажи игр по годам просле 1995 года')"
      ]
     },
     "execution_count": 6,
     "metadata": {},
     "output_type": "execute_result"
    },
    {
     "data": {
      "image/png": "[encoded data removed]",
      "text/plain": [
       "<Figure size 1080x288 with 1 Axes>"
      ]
     },
     "metadata": {
      "needs_background": "light"
     },
     "output_type": "display_data"
    },
    {
     "data": {
      "image/png": "[encoded data removed]",
      "text/plain": [
       "<Figure size 1080x288 with 1 Axes>"
      ]
     },
     "metadata": {
      "needs_background": "light"
     },
     "output_type": "display_data"
    },
    {
     "data": {
      "image/png": "[encoded data removed]",
      "text/plain": [
       "<Figure size 1080x288 with 1 Axes>"
      ]
     },
     "metadata": {
      "needs_background": "light"
     },
     "output_type": "display_data"
    }
   ],
   "source": [
    "#Посмотрим, сколько игр выпускалось в разные годы. Важны ли данные за все периоды?\n",
    "fig1, ax1 = plt.subplots(figsize=(15,4))\n",
    "ax = sns.countplot(x=\"year_of_release\", data=games, ax=ax1)\n",
    "ax1.xaxis.set_tick_params(rotation=45)\n",
    "ax1.set_title('Выпуск игр по годам')\n",
    "#построим такое же распределение по продажам по годам\n",
    "fig2, ax2 = plt.subplots(figsize=(15,4))\n",
    "ax = sns.barplot(x=\"year_of_release\", y=\"total_sales\", data=games, ax=ax2, ci=None)\n",
    "ax2.xaxis.set_tick_params(rotation=45)\n",
    "ax2.set_title('Продажи игр по годам')\n",
    "#построим такое же распределение по продажам по годам после 1995\n",
    "games_older1995 = games[games['year_of_release'] >= 1995]\n",
    "fig3, ax3 = plt.subplots(figsize=(15,4))\n",
    "ax = sns.barplot(x=\"year_of_release\", y=\"total_sales\", data=games_older1995, ax=ax3, ci=None)\n",
    "ax3.xaxis.set_tick_params(rotation=45)\n",
    "ax3.set_title('Продажи игр по годам просле 1995 года')"
   ]
  },
  {
   "cell_type": "markdown",
   "metadata": {},
   "source": [
    "<div class=\"alert alert-danger\">\n",
    "<b>Комментарий ревьюера:</b> Отличные графики. Но стоит добавить названия. И \"моложе 1995 года\" - не лучшая формулировка. Лучше \"после 1995 года\". </div>\n",
    "\n",
    "><div class=\"alert alert-info\"> Исправил</div>"
   ]
  },
  {
   "cell_type": "markdown",
   "metadata": {},
   "source": [
    "<div class=\"alert alert-success\">\n",
    "<b>Комментарий ревьюера v2:</b> Визуализации стало еще проще понять.</div>"
   ]
  },
  {
   "cell_type": "markdown",
   "metadata": {},
   "source": [
    "Мы видим двумодальное распределение. С модами 1997 и 2008-2009 годы. **Основное число игр вышло в период с 1995**. Опять же строить прогноз на 2017 год основываясь на данные продаж по платформам, которых уже не существует некорректно, поэтому можно отбросить данные до 1995 на этой стадии. Интересен тот факт, что игры до 1995 года показали более высокие продажи.     \n",
    " \n",
    "В период с 1995 по 2016 высокие продажи были в начале с 1996 по 2001. А с 2002 начали уменьшаться вплоть до 2011 года. В 2012-2014 годах произошел новый всплеск продаж.  "
   ]
  },
  {
   "cell_type": "markdown",
   "metadata": {},
   "source": [
    "<div class=\"alert alert-success\">\n",
    "<b>Комментарий ревьюера:</b> Хорошие наблюдения. </div>"
   ]
  },
  {
   "cell_type": "code",
   "execution_count": 7,
   "metadata": {},
   "outputs": [
    {
     "data": {
      "image/png": "[encoded data removed]",
      "text/plain": [
       "<Figure size 1080x288 with 1 Axes>"
      ]
     },
     "metadata": {
      "needs_background": "light"
     },
     "output_type": "display_data"
    },
    {
     "data": {
      "image/png": "[encoded data removed]",
      "text/plain": [
       "<Figure size 1080x288 with 1 Axes>"
      ]
     },
     "metadata": {
      "needs_background": "light"
     },
     "output_type": "display_data"
    }
   ],
   "source": [
    "#Посмотрим, как менялись продажи по платформам. \n",
    "#Выберим платформы с наибольшими суммарными продажами и построим распределение по годам.\n",
    "#Оценим, за какой характерный срок появляются новые и исчезают старые платформы?\n",
    "games_pivot = games.pivot_table(index=['platform'], values='total_sales', aggfunc='sum').reset_index()\\\n",
    "              .sort_values(by='total_sales', ascending=False)\n",
    "fig1, ax1 = plt.subplots(figsize=(15,4))\n",
    "ax = sns.barplot(x=\"platform\", y=\"total_sales\", data=games_pivot, palette=\"Blues_d\", ax=ax1, ci=None)\n",
    "ax1.xaxis.set_tick_params(rotation=45)\n",
    "ax1.set_title('Продажи игр по платформам за весь период данных')\n",
    "#\n",
    "games_older1995 = games[games['year_of_release'] >= 2002].pivot_table(index=['year_of_release','platform'], values='total_sales', aggfunc='sum')\\\n",
    "                    .reset_index().sort_values(by='total_sales', ascending=False)\n",
    "\n",
    "fig2, ax2 = plt.subplots(figsize=(15,4))\n",
    "ax = sns.barplot(x=\"year_of_release\", y=\"total_sales\", data=games_older1995[games_older1995['platform']\\\n",
    "                .isin(['PS2', 'X360', 'PS3', 'Wii', 'DS', 'PS'])], ax=ax2, hue='platform')\n",
    "ax2.xaxis.set_tick_params(rotation=45)\n",
    "ax2.set_title('Продажи игр ТОП платформ по годам');"
   ]
  },
  {
   "cell_type": "markdown",
   "metadata": {},
   "source": [
    "<div class=\"alert alert-danger\">\n",
    "<b>Комментарий ревьюера:</b> Опять отличные графики. И опять без названия. </div>\n",
    "\n",
    "><div class=\"alert alert-info\"> Исправил</div>"
   ]
  },
  {
   "cell_type": "markdown",
   "metadata": {},
   "source": [
    "<div class=\"alert alert-success\">\n",
    "<b>Комментарий ревьюера v2:</b> Так намного понятней.</div>"
   ]
  },
  {
   "cell_type": "markdown",
   "metadata": {},
   "source": [
    "Топ платформы за все время: 'PS2', 'X360', 'PS3', 'Wii', 'DS', 'PS'. PS устарела и исчезла из обращения в 2003 году.  \n",
    "Из графика видно, что **время жизни платформы примерно 10 лет**, дополнительно хочу отметить, что продажи по ТОП платформам в основном сосредоточены в период с 2006 по 2016.    \n",
    "**Так как время жизни платформы не более 10 лет, а нам нужен прогноз на 2017 год, логчно было бы взять данные для анализа за период с 2006 года, т.е. за последние 10 лет.**   \n",
    "\n",
    "Уменьшим на данном этапе выборку согласно выводам.       "
   ]
  },
  {
   "cell_type": "markdown",
   "metadata": {},
   "source": [
    "<div class=\"alert alert-danger\">\n",
    "<b>Комментарий ревьюера:</b> Время жизни платформы действительно до 10 лет. Т.е., те платформы, которые были 10, 9, 8 лет назад - сейчас уже как минимум идут на спад. Более того, время жизни продуктов (и платформ) вообще сокращается. Точно ли стоит брать такой большой промежуток времени? Не захватишь ли ты кроме прочего устаревшую информацию о популярных жанрах? И оценках? </div>\n",
    "\n",
    "><div class=\"alert alert-info\"> Все верно. Интервал большой. Дальнейший анализ как-раз сужает выборку</div>"
   ]
  },
  {
   "cell_type": "code",
   "execution_count": 8,
   "metadata": {},
   "outputs": [
    {
     "data": {
      "text/html": [
       "<div>\n",
       "<style scoped>\n",
       "    .dataframe tbody tr th:only-of-type {\n",
       "        vertical-align: middle;\n",
       "    }\n",
       "\n",
       "    .dataframe tbody tr th {\n",
       "        vertical-align: top;\n",
       "    }\n",
       "\n",
       "    .dataframe thead th {\n",
       "        text-align: right;\n",
       "    }\n",
       "</style>\n",
       "<table border=\"1\" class=\"dataframe\">\n",
       "  <thead>\n",
       "    <tr style=\"text-align: right;\">\n",
       "      <th></th>\n",
       "      <th>year_of_release</th>\n",
       "      <th>total_sales</th>\n",
       "    </tr>\n",
       "  </thead>\n",
       "  <tbody>\n",
       "    <tr>\n",
       "      <td>count</td>\n",
       "      <td>16.00</td>\n",
       "      <td>16.00</td>\n",
       "    </tr>\n",
       "    <tr>\n",
       "      <td>mean</td>\n",
       "      <td>12820.38</td>\n",
       "      <td>312.31</td>\n",
       "    </tr>\n",
       "    <tr>\n",
       "      <td>std</td>\n",
       "      <td>7038.88</td>\n",
       "      <td>345.78</td>\n",
       "    </tr>\n",
       "    <tr>\n",
       "      <td>min</td>\n",
       "      <td>4013.00</td>\n",
       "      <td>0.06</td>\n",
       "    </tr>\n",
       "    <tr>\n",
       "      <td>25%</td>\n",
       "      <td>7548.75</td>\n",
       "      <td>43.24</td>\n",
       "    </tr>\n",
       "    <tr>\n",
       "      <td>50%</td>\n",
       "      <td>12066.00</td>\n",
       "      <td>201.03</td>\n",
       "    </tr>\n",
       "    <tr>\n",
       "      <td>75%</td>\n",
       "      <td>20609.00</td>\n",
       "      <td>399.44</td>\n",
       "    </tr>\n",
       "    <tr>\n",
       "      <td>max</td>\n",
       "      <td>22121.00</td>\n",
       "      <td>952.99</td>\n",
       "    </tr>\n",
       "  </tbody>\n",
       "</table>\n",
       "</div>"
      ],
      "text/plain": [
       "       year_of_release  total_sales\n",
       "count            16.00        16.00\n",
       "mean          12820.38       312.31\n",
       "std            7038.88       345.78\n",
       "min            4013.00         0.06\n",
       "25%            7548.75        43.24\n",
       "50%           12066.00       201.03\n",
       "75%           20609.00       399.44\n",
       "max           22121.00       952.99"
      ]
     },
     "metadata": {},
     "output_type": "display_data"
    },
    {
     "data": {
      "text/html": [
       "<div>\n",
       "<style scoped>\n",
       "    .dataframe tbody tr th:only-of-type {\n",
       "        vertical-align: middle;\n",
       "    }\n",
       "\n",
       "    .dataframe tbody tr th {\n",
       "        vertical-align: top;\n",
       "    }\n",
       "\n",
       "    .dataframe thead th {\n",
       "        text-align: right;\n",
       "    }\n",
       "</style>\n",
       "<table border=\"1\" class=\"dataframe\">\n",
       "  <thead>\n",
       "    <tr style=\"text-align: right;\">\n",
       "      <th></th>\n",
       "      <th>year_of_release</th>\n",
       "      <th>total_sales</th>\n",
       "    </tr>\n",
       "    <tr>\n",
       "      <th>platform</th>\n",
       "      <th></th>\n",
       "      <th></th>\n",
       "    </tr>\n",
       "  </thead>\n",
       "  <tbody>\n",
       "    <tr>\n",
       "      <td>3DS</td>\n",
       "      <td>12081</td>\n",
       "      <td>257.81</td>\n",
       "    </tr>\n",
       "    <tr>\n",
       "      <td>DC</td>\n",
       "      <td>4015</td>\n",
       "      <td>0.06</td>\n",
       "    </tr>\n",
       "    <tr>\n",
       "      <td>DS</td>\n",
       "      <td>16076</td>\n",
       "      <td>655.35</td>\n",
       "    </tr>\n",
       "    <tr>\n",
       "      <td>GBA</td>\n",
       "      <td>4013</td>\n",
       "      <td>8.68</td>\n",
       "    </tr>\n",
       "    <tr>\n",
       "      <td>GC</td>\n",
       "      <td>4013</td>\n",
       "      <td>11.53</td>\n",
       "    </tr>\n",
       "    <tr>\n",
       "      <td>PC</td>\n",
       "      <td>22121</td>\n",
       "      <td>163.42</td>\n",
       "    </tr>\n",
       "    <tr>\n",
       "      <td>PS2</td>\n",
       "      <td>12051</td>\n",
       "      <td>265.80</td>\n",
       "    </tr>\n",
       "    <tr>\n",
       "      <td>PS3</td>\n",
       "      <td>22121</td>\n",
       "      <td>931.34</td>\n",
       "    </tr>\n",
       "    <tr>\n",
       "      <td>PS4</td>\n",
       "      <td>8058</td>\n",
       "      <td>314.14</td>\n",
       "    </tr>\n",
       "    <tr>\n",
       "      <td>PSP</td>\n",
       "      <td>20105</td>\n",
       "      <td>238.63</td>\n",
       "    </tr>\n",
       "    <tr>\n",
       "      <td>PSV</td>\n",
       "      <td>12081</td>\n",
       "      <td>53.81</td>\n",
       "    </tr>\n",
       "    <tr>\n",
       "      <td>Wii</td>\n",
       "      <td>22121</td>\n",
       "      <td>891.18</td>\n",
       "    </tr>\n",
       "    <tr>\n",
       "      <td>WiiU</td>\n",
       "      <td>10070</td>\n",
       "      <td>82.19</td>\n",
       "    </tr>\n",
       "    <tr>\n",
       "      <td>X360</td>\n",
       "      <td>22121</td>\n",
       "      <td>952.99</td>\n",
       "    </tr>\n",
       "    <tr>\n",
       "      <td>XB</td>\n",
       "      <td>6021</td>\n",
       "      <td>10.77</td>\n",
       "    </tr>\n",
       "    <tr>\n",
       "      <td>XOne</td>\n",
       "      <td>8058</td>\n",
       "      <td>159.32</td>\n",
       "    </tr>\n",
       "  </tbody>\n",
       "</table>\n",
       "</div>"
      ],
      "text/plain": [
       "          year_of_release  total_sales\n",
       "platform                              \n",
       "3DS                 12081       257.81\n",
       "DC                   4015         0.06\n",
       "DS                  16076       655.35\n",
       "GBA                  4013         8.68\n",
       "GC                   4013        11.53\n",
       "PC                  22121       163.42\n",
       "PS2                 12051       265.80\n",
       "PS3                 22121       931.34\n",
       "PS4                  8058       314.14\n",
       "PSP                 20105       238.63\n",
       "PSV                 12081        53.81\n",
       "Wii                 22121       891.18\n",
       "WiiU                10070        82.19\n",
       "X360                22121       952.99\n",
       "XB                   6021        10.77\n",
       "XOne                 8058       159.32"
      ]
     },
     "metadata": {},
     "output_type": "display_data"
    },
    {
     "data": {
      "image/png": "[encoded data removed]",
      "text/plain": [
       "<Figure size 1080x288 with 1 Axes>"
      ]
     },
     "metadata": {
      "needs_background": "light"
     },
     "output_type": "display_data"
    },
    {
     "data": {
      "image/png": "[encoded data removed]",
      "text/plain": [
       "<Figure size 1080x288 with 1 Axes>"
      ]
     },
     "metadata": {
      "needs_background": "light"
     },
     "output_type": "display_data"
    }
   ],
   "source": [
    "#построим такое же распределение по продажам по годам моложе 2006\n",
    "games_older2006 = games[games['year_of_release'] >= 2006].pivot_table(index=['year_of_release','platform'], values='total_sales', aggfunc='sum')\\\n",
    "                    .reset_index().sort_values(by='total_sales', ascending=False)\n",
    "\n",
    "\n",
    "display(games_older2006.groupby(by='platform').sum().describe())\n",
    "display(games_older2006.groupby(by='platform').sum())\n",
    "\n",
    "#посмотрим на рейтинг игр после 2006 года\n",
    "fig1, ax1 = plt.subplots(figsize=(15,4))\n",
    "ax = sns.barplot(x=\"platform\", y=\"total_sales\", data=games_older2006, palette=\"Blues_d\", ax=ax1, ci=None)\n",
    "ax1.xaxis.set_tick_params(rotation=45)\n",
    "ax1.set_title('Продажи игр по платформам после 2006 года')\n",
    "#\n",
    "fig2, ax2 = plt.subplots(figsize=(15,4))\n",
    "ax = sns.barplot(x=\"year_of_release\", y=\"total_sales\", data=games_older2006[games_older2006['platform']\\\n",
    "                                                            .isin(['Wii', 'X360', 'PS4', 'PS3', 'DS'])], ax=ax2, hue='platform')\n",
    "ax2.xaxis.set_tick_params(rotation=45)\n",
    "ax2.set_title('Продажи игр ТОП платформ после 2006 по годам');"
   ]
  },
  {
   "cell_type": "markdown",
   "metadata": {},
   "source": [
    "Вот такой рейтинг платформ будет более точным: **топ платформ по продажам за последние 10 лет - 'Wii', 'X360', 'PS4', 'PS3', 'DS'**.   \n",
    "Причем на смену PS3 пришла PS4 и PS3 уже морально устарела.   \n",
    "DS перестала использоваться в 2013 году. Wii перестала использоваться в 2014.   \n",
    "Продажи X360 к 2015 (2016 данные могут быть неполные) упали до минимальных.   \n",
    "Продажи PS4 последние годы только растут (2016 данные могут быть неполные).   \n",
    "\n",
    "**В выборке осталось много морально устаревших платформ. Их уже нет в 2016 году, в построении прогноза на 2017 год они нам не помогут.** \n",
    "**Возможно какие-то платформы в принципе ускользнули из виду, так как были рассмотрены топовые за слишком большой период, но ставшие неактуальными к его окончанию.**     \n",
    "Проанализируем дальше, **стоит ли брать такой большой период для прогноза на 2017 год.  \n",
    "Для этого посмотрим детальнее период с 2013.**\n",
    "\n",
    "<div class=\"alert alert-info\"> Выше описано почему я начал сужать выборку дальше</div>"
   ]
  },
  {
   "cell_type": "markdown",
   "metadata": {},
   "source": [
    "<div class=\"alert alert-success\">\n",
    "<b>Комментарий ревьюера v2:</b> Теперь с актуальным периодом определились..</div>"
   ]
  },
  {
   "cell_type": "code",
   "execution_count": 9,
   "metadata": {},
   "outputs": [
    {
     "data": {
      "text/html": [
       "<div>\n",
       "<style scoped>\n",
       "    .dataframe tbody tr th:only-of-type {\n",
       "        vertical-align: middle;\n",
       "    }\n",
       "\n",
       "    .dataframe tbody tr th {\n",
       "        vertical-align: top;\n",
       "    }\n",
       "\n",
       "    .dataframe thead th {\n",
       "        text-align: right;\n",
       "    }\n",
       "</style>\n",
       "<table border=\"1\" class=\"dataframe\">\n",
       "  <thead>\n",
       "    <tr style=\"text-align: right;\">\n",
       "      <th></th>\n",
       "      <th>platform</th>\n",
       "      <th>year_of_release</th>\n",
       "      <th>total_sales</th>\n",
       "    </tr>\n",
       "  </thead>\n",
       "  <tbody>\n",
       "    <tr>\n",
       "      <td>4</td>\n",
       "      <td>PS4</td>\n",
       "      <td>8058</td>\n",
       "      <td>314.14</td>\n",
       "    </tr>\n",
       "    <tr>\n",
       "      <td>3</td>\n",
       "      <td>PS3</td>\n",
       "      <td>8058</td>\n",
       "      <td>181.43</td>\n",
       "    </tr>\n",
       "    <tr>\n",
       "      <td>10</td>\n",
       "      <td>XOne</td>\n",
       "      <td>8058</td>\n",
       "      <td>159.32</td>\n",
       "    </tr>\n",
       "    <tr>\n",
       "      <td>0</td>\n",
       "      <td>3DS</td>\n",
       "      <td>8058</td>\n",
       "      <td>143.25</td>\n",
       "    </tr>\n",
       "    <tr>\n",
       "      <td>9</td>\n",
       "      <td>X360</td>\n",
       "      <td>8058</td>\n",
       "      <td>136.80</td>\n",
       "    </tr>\n",
       "    <tr>\n",
       "      <td>8</td>\n",
       "      <td>WiiU</td>\n",
       "      <td>8058</td>\n",
       "      <td>64.63</td>\n",
       "    </tr>\n",
       "    <tr>\n",
       "      <td>2</td>\n",
       "      <td>PC</td>\n",
       "      <td>8058</td>\n",
       "      <td>39.43</td>\n",
       "    </tr>\n",
       "    <tr>\n",
       "      <td>6</td>\n",
       "      <td>PSV</td>\n",
       "      <td>8058</td>\n",
       "      <td>32.99</td>\n",
       "    </tr>\n",
       "    <tr>\n",
       "      <td>7</td>\n",
       "      <td>Wii</td>\n",
       "      <td>8058</td>\n",
       "      <td>13.66</td>\n",
       "    </tr>\n",
       "    <tr>\n",
       "      <td>5</td>\n",
       "      <td>PSP</td>\n",
       "      <td>6042</td>\n",
       "      <td>3.50</td>\n",
       "    </tr>\n",
       "    <tr>\n",
       "      <td>1</td>\n",
       "      <td>DS</td>\n",
       "      <td>2013</td>\n",
       "      <td>1.54</td>\n",
       "    </tr>\n",
       "  </tbody>\n",
       "</table>\n",
       "</div>"
      ],
      "text/plain": [
       "   platform  year_of_release  total_sales\n",
       "4       PS4             8058       314.14\n",
       "3       PS3             8058       181.43\n",
       "10     XOne             8058       159.32\n",
       "0       3DS             8058       143.25\n",
       "9      X360             8058       136.80\n",
       "8      WiiU             8058        64.63\n",
       "2        PC             8058        39.43\n",
       "6       PSV             8058        32.99\n",
       "7       Wii             8058        13.66\n",
       "5       PSP             6042         3.50\n",
       "1        DS             2013         1.54"
      ]
     },
     "metadata": {},
     "output_type": "display_data"
    },
    {
     "data": {
      "text/html": [
       "<div>\n",
       "<style scoped>\n",
       "    .dataframe tbody tr th:only-of-type {\n",
       "        vertical-align: middle;\n",
       "    }\n",
       "\n",
       "    .dataframe tbody tr th {\n",
       "        vertical-align: top;\n",
       "    }\n",
       "\n",
       "    .dataframe thead th {\n",
       "        text-align: right;\n",
       "    }\n",
       "</style>\n",
       "<table border=\"1\" class=\"dataframe\">\n",
       "  <thead>\n",
       "    <tr style=\"text-align: right;\">\n",
       "      <th></th>\n",
       "      <th>year_of_release</th>\n",
       "      <th>total_sales</th>\n",
       "    </tr>\n",
       "  </thead>\n",
       "  <tbody>\n",
       "    <tr>\n",
       "      <td>count</td>\n",
       "      <td>11.00</td>\n",
       "      <td>11.00</td>\n",
       "    </tr>\n",
       "    <tr>\n",
       "      <td>mean</td>\n",
       "      <td>7325.18</td>\n",
       "      <td>99.15</td>\n",
       "    </tr>\n",
       "    <tr>\n",
       "      <td>std</td>\n",
       "      <td>1862.77</td>\n",
       "      <td>97.52</td>\n",
       "    </tr>\n",
       "    <tr>\n",
       "      <td>min</td>\n",
       "      <td>2013.00</td>\n",
       "      <td>1.54</td>\n",
       "    </tr>\n",
       "    <tr>\n",
       "      <td>25%</td>\n",
       "      <td>8058.00</td>\n",
       "      <td>23.32</td>\n",
       "    </tr>\n",
       "    <tr>\n",
       "      <td>50%</td>\n",
       "      <td>8058.00</td>\n",
       "      <td>64.63</td>\n",
       "    </tr>\n",
       "    <tr>\n",
       "      <td>75%</td>\n",
       "      <td>8058.00</td>\n",
       "      <td>151.29</td>\n",
       "    </tr>\n",
       "    <tr>\n",
       "      <td>max</td>\n",
       "      <td>8058.00</td>\n",
       "      <td>314.14</td>\n",
       "    </tr>\n",
       "  </tbody>\n",
       "</table>\n",
       "</div>"
      ],
      "text/plain": [
       "       year_of_release  total_sales\n",
       "count            11.00        11.00\n",
       "mean           7325.18        99.15\n",
       "std            1862.77        97.52\n",
       "min            2013.00         1.54\n",
       "25%            8058.00        23.32\n",
       "50%            8058.00        64.63\n",
       "75%            8058.00       151.29\n",
       "max            8058.00       314.14"
      ]
     },
     "metadata": {},
     "output_type": "display_data"
    },
    {
     "data": {
      "image/png": "[encoded data removed]",
      "text/plain": [
       "<Figure size 720x288 with 1 Axes>"
      ]
     },
     "metadata": {
      "needs_background": "light"
     },
     "output_type": "display_data"
    },
    {
     "data": {
      "image/png": "[encoded data removed]",
      "text/plain": [
       "<Figure size 1080x288 with 1 Axes>"
      ]
     },
     "metadata": {
      "needs_background": "light"
     },
     "output_type": "display_data"
    },
    {
     "data": {
      "image/png": "[encoded data removed]",
      "text/plain": [
       "<Figure size 1080x720 with 1 Axes>"
      ]
     },
     "metadata": {
      "needs_background": "light"
     },
     "output_type": "display_data"
    },
    {
     "data": {
      "image/png": "[encoded data removed]",
      "text/plain": [
       "<Figure size 1080x720 with 1 Axes>"
      ]
     },
     "metadata": {
      "needs_background": "light"
     },
     "output_type": "display_data"
    }
   ],
   "source": [
    "#построим такое же распределение по продажам по годам моложе 2013\n",
    "games_older2013 = copy.deepcopy(games[games['year_of_release'] >= 2013])\n",
    "\n",
    "games_older2013_pt = games_older2013.pivot_table(index=['year_of_release','platform'], values='total_sales', aggfunc='sum')\\\n",
    "                    .reset_index().sort_values(by='total_sales', ascending=False)\n",
    "\n",
    "platforms_older2013 = games_older2013_pt.groupby(by='platform').sum().reset_index().sort_values(by='total_sales', ascending=False)\n",
    "display(platforms_older2013)\n",
    "display(platforms_older2013.describe())\n",
    "\n",
    "#посмотрим на рейтинг игр после 2013 года. \n",
    "fig1, ax1 = plt.subplots(figsize=(10,4))\n",
    "ax = sns.barplot(x=\"platform\", y=\"total_sales\", data=games_older2013_pt, palette=\"Blues_d\", ax=ax1, ci=None)\n",
    "ax1.xaxis.set_tick_params(rotation=45)\n",
    "ax1.set_title('Продажи игр по платформам после 2013 года')\n",
    "\n",
    "#популярные платформы\n",
    "top_platform = ['PS4', 'XOne', '3DS', 'X360', 'WiiU', 'PC', 'PSV']\n",
    "#За топ примем все что попадает в межквартильный размах\n",
    "fig2, ax2 = plt.subplots(figsize=(15,4))\n",
    "ax = sns.barplot(x=\"year_of_release\", y=\"total_sales\", data=games_older2013_pt[games_older2013_pt['platform']\\\n",
    "                                                            .isin(top_platform)], ax=ax2, hue='platform')\n",
    "ax2.xaxis.set_tick_params(rotation=45)\n",
    "ax2.set_title('Продажи игр ТОП платформ после 2013 по годам');\n",
    "\n",
    "#Построим график «ящик с усами» по глобальным продажам игр в разбивке по платформам\n",
    "fig3, ax3 = plt.subplots(figsize=(15,10))\n",
    "ax = sns.boxplot(x=\"platform\", y=\"total_sales\", data=games_older2013[games_older2013['platform']\\\n",
    "                                                            .isin(top_platform)], ax=ax3)\n",
    "ax3.set_title('Ящики с усами по глобальным продажам игр в разбивке по платформам')\n",
    "plt.show()\n",
    "#\n",
    "fig4, ax4 = plt.subplots(figsize=(15,10))\n",
    "ax = sns.boxplot(x=\"platform\", y=\"total_sales\", data=games_older2013[games_older2013['platform']\\\n",
    "                                                            .isin(top_platform)], ax=ax4, showfliers=False)\n",
    "ax4.set_title('Ящики с усами по глобальным продажам игр в разбивке по платформам (без выбросов)');\n",
    "plt.show()"
   ]
  },
  {
   "cell_type": "markdown",
   "metadata": {},
   "source": [
    "<div class=\"alert alert-danger\">\n",
    "<b>Комментарий ревьюера:</b> Ты смотришь продажи, сгруппированыне по годам - этого условия в задании не было. Для задания \"Построим график «ящик с усами» по глобальным продажам игр в разбивке по платформам\" не нужно делать группировку по годам. Продажи каждой игры за 1 год нужно рассматрива как отдельное наблюдение для ящика с усами.</div>\n",
    "\n",
    "><div class=\"alert alert-info\"> Исправил</div>"
   ]
  },
  {
   "cell_type": "markdown",
   "metadata": {},
   "source": [
    "<div class=\"alert alert-success\">\n",
    "<b>Комментарий ревьюера v2:</b> Хорошо. И что сделал укрупненный график - отлично.</div>"
   ]
  },
  {
   "cell_type": "markdown",
   "metadata": {},
   "source": [
    "**Время жизни платформы примерно 10 лет.** \n",
    "\n",
    "Так как платформы со временем устаревают и теряют актуальность из выборки были исключены те, которых к 2017 году просто нет. Строить прогнозы продаж на их основании не целесообразно. **В результате за актуальный период для прогноза возьмем период с 2013 по 2017 года.**   \n",
    "\n",
    "Топ-платформ которые остались актуальными и функционируют последние годы, а именно с 2013 года: 'PS4', 'XOne', '3DS', 'X360', 'WiiU', 'PC', 'PSV'**.      \n",
    "\n",
    "Продажи в целом только падают. И значительно перераспределяются доли между платформами. Если в 2013 году была заметная лидирующая позиция X360 и 3DS, то **к 2015 продажи X360 значительно снизились. \n",
    "Построены бокс-плоты по продажам платформ с 2013 года. Медианы у всех на разном уровне.** \n",
    "\n",
    "**Лидером продаж попрежнему остается PS4. Далее в порядке убывания обьемов: 'XOne', '3DS', 'WiiU' и примерно равные обьемы 'PC', 'PSV'**"
   ]
  },
  {
   "cell_type": "markdown",
   "metadata": {},
   "source": [
    "<div class=\"alert alert-success\">\n",
    "<b>Комментарий ревьюера:</b> Хороший выбор перспективных платформ.</div>"
   ]
  },
  {
   "cell_type": "markdown",
   "metadata": {},
   "source": [
    "<div class=\"alert alert-danger\">\n",
    "<b>Комментарий ревьюера:</b> В итоге так и не понятно, каков же у тебя \"актуальный период\". Выше ты явно пишешь про \"с 2016 года\", ниже не явно считаешь \" 2013 года\". Второй вариант мне больше нравится, но стоило бы его зафиксировать не только в расчетах, но и текстом.</div>\n",
    "\n",
    "><div class=\"alert alert-info\"> Добавил явную формулировку актуального периода</div>\n"
   ]
  },
  {
   "cell_type": "markdown",
   "metadata": {},
   "source": [
    "<div class=\"alert alert-success\">\n",
    "<b>Комментарий ревьюера v2:</b> Хорошо.</div>"
   ]
  },
  {
   "cell_type": "code",
   "execution_count": 10,
   "metadata": {},
   "outputs": [
    {
     "data": {
      "image/png": "[encoded data removed]",
      "text/plain": [
       "<Figure size 1080x360 with 2 Axes>"
      ]
     },
     "metadata": {
      "needs_background": "light"
     },
     "output_type": "display_data"
    },
    {
     "name": "stdout",
     "output_type": "stream",
     "text": [
      "Коэффициент корреляции user_score: total_sales -  -0.031957110204556424\n",
      "Коэффициент корреляции critic_score: total_sales -  0.40656790206178095\n"
     ]
    }
   ],
   "source": [
    "#Посмотрим, как влияют на продажи внутри одной популярной платформы отзывы критиков.\n",
    "#Построим диаграмму рассеяния и посчитаем корреляцию между отзывами и продажами.\n",
    "def platform_corr_matrix(platform_filter):\n",
    "    fig, ax = plt.subplots(1 ,2, figsize=(15,5))\n",
    "    sns.scatterplot(x='user_score', y='total_sales', data=games_older2013[games_older2013['platform']==platform_filter], ax=ax[0])\n",
    "    sns.scatterplot(x='critic_score', y='total_sales', data=games_older2013[games_older2013['platform']==platform_filter], ax=ax[1])\n",
    "    fig.suptitle(platform_filter, fontsize=15)\n",
    "    ax[0].set(xlabel='Оценка пользователей')\n",
    "    ax[1].set(xlabel='Оценка критиков')\n",
    "    ax[0].set(ylabel='Количество продаж')\n",
    "    ax[1].set(ylabel='Количество продаж')\n",
    "    plt.show()\n",
    "    #Корреляция между оценками критиков и продажами\n",
    "    print('Коэффициент корреляции user_score: total_sales - ', \\\n",
    "      games_older2013[games_older2013['platform']==platform_filter]['user_score']\\\n",
    "      .astype('float64').corr(games_older2013[games_older2013['platform']==platform_filter]['total_sales']))\n",
    "    #Корреляция между оценками критиков и продажами\n",
    "    print('Коэффициент корреляции critic_score: total_sales - ', \\\n",
    "      games_older2013[games_older2013['platform']==platform_filter]['critic_score'].astype('float64')\\\n",
    "      .corr(games_older2013[games_older2013['platform']==platform_filter]['total_sales']))\n",
    "    return\n",
    "    \n",
    "platform_corr_matrix('PS4')"
   ]
  },
  {
   "cell_type": "markdown",
   "metadata": {},
   "source": [
    "**Корелляция между оценками пользователей и продаж не выявлена.   \n",
    "Корреляция между оценками критиков и продаж слабая.**"
   ]
  },
  {
   "cell_type": "markdown",
   "metadata": {},
   "source": [
    "<div class=\"alert alert-success\">\n",
    "<b>Комментарий ревьюера:</b> Все верно. На языке статистики такая связь (от 0,25 по модулю до 0,5 по модулю) называется \"слабой\", а не \"умеренной\".</div>\n",
    "\n",
    "><div class=\"alert alert-info\"> Исправил</div>"
   ]
  },
  {
   "cell_type": "markdown",
   "metadata": {},
   "source": [
    "<div class=\"alert alert-success\">\n",
    "<b>Комментарий ревьюера v2:</b>Так лучше.</div>"
   ]
  },
  {
   "cell_type": "code",
   "execution_count": 11,
   "metadata": {},
   "outputs": [
    {
     "data": {
      "image/png": "[encoded data removed]",
      "text/plain": [
       "<Figure size 1080x360 with 2 Axes>"
      ]
     },
     "metadata": {
      "needs_background": "light"
     },
     "output_type": "display_data"
    },
    {
     "name": "stdout",
     "output_type": "stream",
     "text": [
      "Коэффициент корреляции user_score: total_sales -  -0.06892505328279414\n",
      "Коэффициент корреляции critic_score: total_sales -  0.4169983280084017\n"
     ]
    },
    {
     "data": {
      "image/png": "[encoded data removed]",
      "text/plain": [
       "<Figure size 1080x360 with 2 Axes>"
      ]
     },
     "metadata": {
      "needs_background": "light"
     },
     "output_type": "display_data"
    },
    {
     "name": "stdout",
     "output_type": "stream",
     "text": [
      "Коэффициент корреляции user_score: total_sales -  0.24150411773563016\n",
      "Коэффициент корреляции critic_score: total_sales -  0.3570566142288103\n"
     ]
    },
    {
     "data": {
      "image/png": "[encoded data removed]",
      "text/plain": [
       "<Figure size 1080x360 with 2 Axes>"
      ]
     },
     "metadata": {
      "needs_background": "light"
     },
     "output_type": "display_data"
    },
    {
     "name": "stdout",
     "output_type": "stream",
     "text": [
      "Коэффициент корреляции user_score: total_sales -  -0.011742185147181342\n",
      "Коэффициент корреляции critic_score: total_sales -  0.3503445460228664\n"
     ]
    },
    {
     "data": {
      "image/png": "[encoded data removed]",
      "text/plain": [
       "<Figure size 1080x360 with 2 Axes>"
      ]
     },
     "metadata": {
      "needs_background": "light"
     },
     "output_type": "display_data"
    },
    {
     "name": "stdout",
     "output_type": "stream",
     "text": [
      "Коэффициент корреляции user_score: total_sales -  0.4193304819266187\n",
      "Коэффициент корреляции critic_score: total_sales -  0.3764149065423912\n"
     ]
    },
    {
     "data": {
      "image/png": "[encoded data removed]",
      "text/plain": [
       "<Figure size 1080x360 with 2 Axes>"
      ]
     },
     "metadata": {
      "needs_background": "light"
     },
     "output_type": "display_data"
    },
    {
     "name": "stdout",
     "output_type": "stream",
     "text": [
      "Коэффициент корреляции user_score: total_sales -  -0.0938418695247674\n",
      "Коэффициент корреляции critic_score: total_sales -  0.19603028294369382\n"
     ]
    },
    {
     "data": {
      "image/png": "[encoded data removed]",
      "text/plain": [
       "<Figure size 1080x360 with 2 Axes>"
      ]
     },
     "metadata": {
      "needs_background": "light"
     },
     "output_type": "display_data"
    },
    {
     "name": "stdout",
     "output_type": "stream",
     "text": [
      "Коэффициент корреляции user_score: total_sales -  0.0009424723319108626\n",
      "Коэффициент корреляции critic_score: total_sales -  0.2547423503068656\n"
     ]
    }
   ],
   "source": [
    "for each_platform in top_platform:\n",
    "    if each_platform != 'PS4':\n",
    "        platform_corr_matrix(each_platform)"
   ]
  },
  {
   "cell_type": "markdown",
   "metadata": {},
   "source": [
    "В основном **корреляция между оценками пользователей и продажами** либо не выявлена либо очень слабая. Исключение составляет только платформа WiiU, где покупатели прислушиваются к оценке пользователей.  \n",
    "При этом корелляция между оценками критиков и обьемами продаж в основном средняя. \n",
    "**Т.е. покупатели больше верят критикам, чем другим игрокам.**\n"
   ]
  },
  {
   "cell_type": "markdown",
   "metadata": {},
   "source": [
    "<div class=\"alert alert-success\">\n",
    "<b>Комментарий ревьюера:</b> Отлично.</div>"
   ]
  },
  {
   "cell_type": "code",
   "execution_count": 12,
   "metadata": {},
   "outputs": [
    {
     "data": {
      "image/png": "[encoded data removed]",
      "text/plain": [
       "<Figure size 864x720 with 2 Axes>"
      ]
     },
     "metadata": {
      "needs_background": "light"
     },
     "output_type": "display_data"
    }
   ],
   "source": [
    "#Посмотрите на общее распределение игр по жанрам. \n",
    "#Оценим, что можно сказать о самых прибыльных жанрах. Выделяются ли жанры с высокими и низкими продажами?\n",
    "platform_genre_sales = games_older2013.pivot_table(\n",
    "                        index='platform', \n",
    "                        columns='genre', \n",
    "                        values='total_sales', \n",
    "                        aggfunc=sum).fillna(0).applymap(float)\n",
    "\n",
    "fig1, ax1 = plt.subplots(figsize=(12,10))\n",
    "sns.heatmap(platform_genre_sales, annot=True, fmt=\".1f\", linewidths=.5, cmap=sns.color_palette(\"Blues\", 12));"
   ]
  },
  {
   "cell_type": "markdown",
   "metadata": {},
   "source": [
    "<div class=\"alert alert-warning\">\n",
    "<b>Комментарий ревьюера:</b> Интересный график. А точно ли \"суммарные продажи\" нас интересуют? Не будет ли интересно узнать, какой жанр продается \"стабильно лучше\", чем другие? А не набирает продажи просто за счет огромного количества игр в жанре?\n",
    "</div>\n",
    "\n",
    "><div class=\"alert alert-info\"> ?! Не придумал. Как это посмотреть на одном или малом числе графиков?</div>"
   ]
  },
  {
   "cell_type": "markdown",
   "metadata": {},
   "source": [
    "<div class=\"alert alert-warning\">\n",
    "<b>Комментарий ревьюера v2:</b> Можно взять в качестве aggfunc не сумму, а среднее или медиану. Или можно Построить ящик с усами - там как раз будет видно, в каком жанре больше выбросов, а в каком средние продажи выше.</div>"
   ]
  },
  {
   "cell_type": "markdown",
   "metadata": {},
   "source": [
    "### Вывод по исследовательскому анализу данных:\n"
   ]
  },
  {
   "cell_type": "markdown",
   "metadata": {},
   "source": [
    "- **Время жизни платформы примерно 10 лет.**   \n",
    "- Топ-платформ которые остались актуальными и функционируют последние годы, а именно с 2013 года: 'PS4', 'XOne', '3DS', 'X360', 'WiiU', 'PC', 'PSV'**.      \n",
    "- Продажи в целом только падают. И значительно перераспределяются доли между платформами. Если в 2013 году была заметная лидирующая позиция X360 и 3DS, то **к 2015 продажи X360 значительно снизились. \n",
    "- Лидером продаж в настоящее время попрежнему остается PS4. Далее в порядке убывания обьемов: 'XOne', '3DS', 'WiiU' и примерно равные 'PC', 'PSV'**\n",
    "- В основном **корреляция между оценками пользователей и продажами** либо не выявлена либо очень слабая. Исключение составляет только платформа WiiU, где покупатели прислушиваются к оценке пользователей. При этом корелляция между оценками критиков и обьемами продаж в основном средняя. **Т.е. покупатели больше верят критикам, чем другим игрокам.**\n",
    "- Самыми популярными являются жанры Action и Shooter. Самый провальный жанр Pazzle."
   ]
  },
  {
   "cell_type": "markdown",
   "metadata": {},
   "source": [
    "## 4. Составьте портрет пользователя каждого региона   \n",
    "\n",
    "Определите для пользователя каждого региона (NA, EU, JP):  \n",
    "- Самые популярные платформы (топ-5). Опишите различия в долях продаж.  \n",
    "- Самые популярные жанры (топ-5). Поясните разницу.  \n",
    "- Влияет ли рейтинг ESRB на продажи в отдельном регионе?  "
   ]
  },
  {
   "cell_type": "code",
   "execution_count": 13,
   "metadata": {},
   "outputs": [
    {
     "data": {
      "text/html": [
       "<style  type=\"text/css\" >\n",
       "</style><table id=\"T_9ab73ec6_6f74_11eb_b651_02420a3943dc\" style='display:inline'><caption>platform:eu_sales ratio</caption><thead>    <tr>        <th class=\"blank level0\" ></th>        <th class=\"col_heading level0 col0\" >platform</th>        <th class=\"col_heading level0 col1\" >eu_sales</th>    </tr></thead><tbody>\n",
       "                <tr>\n",
       "                        <th id=\"T_9ab73ec6_6f74_11eb_b651_02420a3943dclevel0_row0\" class=\"row_heading level0 row0\" >4</th>\n",
       "                        <td id=\"T_9ab73ec6_6f74_11eb_b651_02420a3943dcrow0_col0\" class=\"data row0 col0\" >PS4</td>\n",
       "                        <td id=\"T_9ab73ec6_6f74_11eb_b651_02420a3943dcrow0_col1\" class=\"data row0 col1\" >141.09</td>\n",
       "            </tr>\n",
       "            <tr>\n",
       "                        <th id=\"T_9ab73ec6_6f74_11eb_b651_02420a3943dclevel0_row1\" class=\"row_heading level0 row1\" >3</th>\n",
       "                        <td id=\"T_9ab73ec6_6f74_11eb_b651_02420a3943dcrow1_col0\" class=\"data row1 col0\" >PS3</td>\n",
       "                        <td id=\"T_9ab73ec6_6f74_11eb_b651_02420a3943dcrow1_col1\" class=\"data row1 col1\" >67.81</td>\n",
       "            </tr>\n",
       "            <tr>\n",
       "                        <th id=\"T_9ab73ec6_6f74_11eb_b651_02420a3943dclevel0_row2\" class=\"row_heading level0 row2\" >10</th>\n",
       "                        <td id=\"T_9ab73ec6_6f74_11eb_b651_02420a3943dcrow2_col0\" class=\"data row2 col0\" >XOne</td>\n",
       "                        <td id=\"T_9ab73ec6_6f74_11eb_b651_02420a3943dcrow2_col1\" class=\"data row2 col1\" >51.59</td>\n",
       "            </tr>\n",
       "            <tr>\n",
       "                        <th id=\"T_9ab73ec6_6f74_11eb_b651_02420a3943dclevel0_row3\" class=\"row_heading level0 row3\" >9</th>\n",
       "                        <td id=\"T_9ab73ec6_6f74_11eb_b651_02420a3943dcrow3_col0\" class=\"data row3 col0\" >X360</td>\n",
       "                        <td id=\"T_9ab73ec6_6f74_11eb_b651_02420a3943dcrow3_col1\" class=\"data row3 col1\" >42.52</td>\n",
       "            </tr>\n",
       "            <tr>\n",
       "                        <th id=\"T_9ab73ec6_6f74_11eb_b651_02420a3943dclevel0_row4\" class=\"row_heading level0 row4\" >0</th>\n",
       "                        <td id=\"T_9ab73ec6_6f74_11eb_b651_02420a3943dcrow4_col0\" class=\"data row4 col0\" >3DS</td>\n",
       "                        <td id=\"T_9ab73ec6_6f74_11eb_b651_02420a3943dcrow4_col1\" class=\"data row4 col1\" >30.96</td>\n",
       "            </tr>\n",
       "    </tbody></table><style  type=\"text/css\" >\n",
       "</style><table id=\"T_9ab7a7ee_6f74_11eb_b651_02420a3943dc\" style='display:inline'><caption>platform:na_sales ratio</caption><thead>    <tr>        <th class=\"blank level0\" ></th>        <th class=\"col_heading level0 col0\" >platform</th>        <th class=\"col_heading level0 col1\" >na_sales</th>    </tr></thead><tbody>\n",
       "                <tr>\n",
       "                        <th id=\"T_9ab7a7ee_6f74_11eb_b651_02420a3943dclevel0_row0\" class=\"row_heading level0 row0\" >4</th>\n",
       "                        <td id=\"T_9ab7a7ee_6f74_11eb_b651_02420a3943dcrow0_col0\" class=\"data row0 col0\" >PS4</td>\n",
       "                        <td id=\"T_9ab7a7ee_6f74_11eb_b651_02420a3943dcrow0_col1\" class=\"data row0 col1\" >108.74</td>\n",
       "            </tr>\n",
       "            <tr>\n",
       "                        <th id=\"T_9ab7a7ee_6f74_11eb_b651_02420a3943dclevel0_row1\" class=\"row_heading level0 row1\" >10</th>\n",
       "                        <td id=\"T_9ab7a7ee_6f74_11eb_b651_02420a3943dcrow1_col0\" class=\"data row1 col0\" >XOne</td>\n",
       "                        <td id=\"T_9ab7a7ee_6f74_11eb_b651_02420a3943dcrow1_col1\" class=\"data row1 col1\" >93.12</td>\n",
       "            </tr>\n",
       "            <tr>\n",
       "                        <th id=\"T_9ab7a7ee_6f74_11eb_b651_02420a3943dclevel0_row2\" class=\"row_heading level0 row2\" >9</th>\n",
       "                        <td id=\"T_9ab7a7ee_6f74_11eb_b651_02420a3943dcrow2_col0\" class=\"data row2 col0\" >X360</td>\n",
       "                        <td id=\"T_9ab7a7ee_6f74_11eb_b651_02420a3943dcrow2_col1\" class=\"data row2 col1\" >81.66</td>\n",
       "            </tr>\n",
       "            <tr>\n",
       "                        <th id=\"T_9ab7a7ee_6f74_11eb_b651_02420a3943dclevel0_row3\" class=\"row_heading level0 row3\" >3</th>\n",
       "                        <td id=\"T_9ab7a7ee_6f74_11eb_b651_02420a3943dcrow3_col0\" class=\"data row3 col0\" >PS3</td>\n",
       "                        <td id=\"T_9ab7a7ee_6f74_11eb_b651_02420a3943dcrow3_col1\" class=\"data row3 col1\" >63.50</td>\n",
       "            </tr>\n",
       "            <tr>\n",
       "                        <th id=\"T_9ab7a7ee_6f74_11eb_b651_02420a3943dclevel0_row4\" class=\"row_heading level0 row4\" >0</th>\n",
       "                        <td id=\"T_9ab7a7ee_6f74_11eb_b651_02420a3943dcrow4_col0\" class=\"data row4 col0\" >3DS</td>\n",
       "                        <td id=\"T_9ab7a7ee_6f74_11eb_b651_02420a3943dcrow4_col1\" class=\"data row4 col1\" >38.20</td>\n",
       "            </tr>\n",
       "    </tbody></table><style  type=\"text/css\" >\n",
       "</style><table id=\"T_9ab7e31c_6f74_11eb_b651_02420a3943dc\" style='display:inline'><caption>platform:jp_sales ratio</caption><thead>    <tr>        <th class=\"blank level0\" ></th>        <th class=\"col_heading level0 col0\" >platform</th>        <th class=\"col_heading level0 col1\" >jp_sales</th>    </tr></thead><tbody>\n",
       "                <tr>\n",
       "                        <th id=\"T_9ab7e31c_6f74_11eb_b651_02420a3943dclevel0_row0\" class=\"row_heading level0 row0\" >0</th>\n",
       "                        <td id=\"T_9ab7e31c_6f74_11eb_b651_02420a3943dcrow0_col0\" class=\"data row0 col0\" >3DS</td>\n",
       "                        <td id=\"T_9ab7e31c_6f74_11eb_b651_02420a3943dcrow0_col1\" class=\"data row0 col1\" >67.81</td>\n",
       "            </tr>\n",
       "            <tr>\n",
       "                        <th id=\"T_9ab7e31c_6f74_11eb_b651_02420a3943dclevel0_row1\" class=\"row_heading level0 row1\" >3</th>\n",
       "                        <td id=\"T_9ab7e31c_6f74_11eb_b651_02420a3943dcrow1_col0\" class=\"data row1 col0\" >PS3</td>\n",
       "                        <td id=\"T_9ab7e31c_6f74_11eb_b651_02420a3943dcrow1_col1\" class=\"data row1 col1\" >23.35</td>\n",
       "            </tr>\n",
       "            <tr>\n",
       "                        <th id=\"T_9ab7e31c_6f74_11eb_b651_02420a3943dclevel0_row2\" class=\"row_heading level0 row2\" >6</th>\n",
       "                        <td id=\"T_9ab7e31c_6f74_11eb_b651_02420a3943dcrow2_col0\" class=\"data row2 col0\" >PSV</td>\n",
       "                        <td id=\"T_9ab7e31c_6f74_11eb_b651_02420a3943dcrow2_col1\" class=\"data row2 col1\" >18.59</td>\n",
       "            </tr>\n",
       "            <tr>\n",
       "                        <th id=\"T_9ab7e31c_6f74_11eb_b651_02420a3943dclevel0_row3\" class=\"row_heading level0 row3\" >4</th>\n",
       "                        <td id=\"T_9ab7e31c_6f74_11eb_b651_02420a3943dcrow3_col0\" class=\"data row3 col0\" >PS4</td>\n",
       "                        <td id=\"T_9ab7e31c_6f74_11eb_b651_02420a3943dcrow3_col1\" class=\"data row3 col1\" >15.96</td>\n",
       "            </tr>\n",
       "            <tr>\n",
       "                        <th id=\"T_9ab7e31c_6f74_11eb_b651_02420a3943dclevel0_row4\" class=\"row_heading level0 row4\" >8</th>\n",
       "                        <td id=\"T_9ab7e31c_6f74_11eb_b651_02420a3943dcrow4_col0\" class=\"data row4 col0\" >WiiU</td>\n",
       "                        <td id=\"T_9ab7e31c_6f74_11eb_b651_02420a3943dcrow4_col1\" class=\"data row4 col1\" >10.88</td>\n",
       "            </tr>\n",
       "    </tbody></table>"
      ]
     },
     "metadata": {},
     "output_type": "display_data"
    },
    {
     "data": {
      "text/html": [
       "<style  type=\"text/css\" >\n",
       "</style><table id=\"T_9abd513a_6f74_11eb_b651_02420a3943dc\" style='display:inline'><caption>genre:eu_sales ratio</caption><thead>    <tr>        <th class=\"blank level0\" ></th>        <th class=\"col_heading level0 col0\" >genre</th>        <th class=\"col_heading level0 col1\" >eu_sales</th>    </tr></thead><tbody>\n",
       "                <tr>\n",
       "                        <th id=\"T_9abd513a_6f74_11eb_b651_02420a3943dclevel0_row0\" class=\"row_heading level0 row0\" >0</th>\n",
       "                        <td id=\"T_9abd513a_6f74_11eb_b651_02420a3943dcrow0_col0\" class=\"data row0 col0\" >Action</td>\n",
       "                        <td id=\"T_9abd513a_6f74_11eb_b651_02420a3943dcrow0_col1\" class=\"data row0 col1\" >118.13</td>\n",
       "            </tr>\n",
       "            <tr>\n",
       "                        <th id=\"T_9abd513a_6f74_11eb_b651_02420a3943dclevel0_row1\" class=\"row_heading level0 row1\" >8</th>\n",
       "                        <td id=\"T_9abd513a_6f74_11eb_b651_02420a3943dcrow1_col0\" class=\"data row1 col0\" >Shooter</td>\n",
       "                        <td id=\"T_9abd513a_6f74_11eb_b651_02420a3943dcrow1_col1\" class=\"data row1 col1\" >87.86</td>\n",
       "            </tr>\n",
       "            <tr>\n",
       "                        <th id=\"T_9abd513a_6f74_11eb_b651_02420a3943dclevel0_row2\" class=\"row_heading level0 row2\" >10</th>\n",
       "                        <td id=\"T_9abd513a_6f74_11eb_b651_02420a3943dcrow2_col0\" class=\"data row2 col0\" >Sports</td>\n",
       "                        <td id=\"T_9abd513a_6f74_11eb_b651_02420a3943dcrow2_col1\" class=\"data row2 col1\" >60.52</td>\n",
       "            </tr>\n",
       "            <tr>\n",
       "                        <th id=\"T_9abd513a_6f74_11eb_b651_02420a3943dclevel0_row3\" class=\"row_heading level0 row3\" >7</th>\n",
       "                        <td id=\"T_9abd513a_6f74_11eb_b651_02420a3943dcrow3_col0\" class=\"data row3 col0\" >Role-Playing</td>\n",
       "                        <td id=\"T_9abd513a_6f74_11eb_b651_02420a3943dcrow3_col1\" class=\"data row3 col1\" >36.97</td>\n",
       "            </tr>\n",
       "            <tr>\n",
       "                        <th id=\"T_9abd513a_6f74_11eb_b651_02420a3943dclevel0_row4\" class=\"row_heading level0 row4\" >6</th>\n",
       "                        <td id=\"T_9abd513a_6f74_11eb_b651_02420a3943dcrow4_col0\" class=\"data row4 col0\" >Racing</td>\n",
       "                        <td id=\"T_9abd513a_6f74_11eb_b651_02420a3943dcrow4_col1\" class=\"data row4 col1\" >20.19</td>\n",
       "            </tr>\n",
       "    </tbody></table><style  type=\"text/css\" >\n",
       "</style><table id=\"T_9abd88c6_6f74_11eb_b651_02420a3943dc\" style='display:inline'><caption>genre:na_sales ratio</caption><thead>    <tr>        <th class=\"blank level0\" ></th>        <th class=\"col_heading level0 col0\" >genre</th>        <th class=\"col_heading level0 col1\" >na_sales</th>    </tr></thead><tbody>\n",
       "                <tr>\n",
       "                        <th id=\"T_9abd88c6_6f74_11eb_b651_02420a3943dclevel0_row0\" class=\"row_heading level0 row0\" >0</th>\n",
       "                        <td id=\"T_9abd88c6_6f74_11eb_b651_02420a3943dcrow0_col0\" class=\"data row0 col0\" >Action</td>\n",
       "                        <td id=\"T_9abd88c6_6f74_11eb_b651_02420a3943dcrow0_col1\" class=\"data row0 col1\" >126.05</td>\n",
       "            </tr>\n",
       "            <tr>\n",
       "                        <th id=\"T_9abd88c6_6f74_11eb_b651_02420a3943dclevel0_row1\" class=\"row_heading level0 row1\" >8</th>\n",
       "                        <td id=\"T_9abd88c6_6f74_11eb_b651_02420a3943dcrow1_col0\" class=\"data row1 col0\" >Shooter</td>\n",
       "                        <td id=\"T_9abd88c6_6f74_11eb_b651_02420a3943dcrow1_col1\" class=\"data row1 col1\" >109.74</td>\n",
       "            </tr>\n",
       "            <tr>\n",
       "                        <th id=\"T_9abd88c6_6f74_11eb_b651_02420a3943dclevel0_row2\" class=\"row_heading level0 row2\" >10</th>\n",
       "                        <td id=\"T_9abd88c6_6f74_11eb_b651_02420a3943dcrow2_col0\" class=\"data row2 col0\" >Sports</td>\n",
       "                        <td id=\"T_9abd88c6_6f74_11eb_b651_02420a3943dcrow2_col1\" class=\"data row2 col1\" >65.27</td>\n",
       "            </tr>\n",
       "            <tr>\n",
       "                        <th id=\"T_9abd88c6_6f74_11eb_b651_02420a3943dclevel0_row3\" class=\"row_heading level0 row3\" >7</th>\n",
       "                        <td id=\"T_9abd88c6_6f74_11eb_b651_02420a3943dcrow3_col0\" class=\"data row3 col0\" >Role-Playing</td>\n",
       "                        <td id=\"T_9abd88c6_6f74_11eb_b651_02420a3943dcrow3_col1\" class=\"data row3 col1\" >46.40</td>\n",
       "            </tr>\n",
       "            <tr>\n",
       "                        <th id=\"T_9abd88c6_6f74_11eb_b651_02420a3943dclevel0_row4\" class=\"row_heading level0 row4\" >3</th>\n",
       "                        <td id=\"T_9abd88c6_6f74_11eb_b651_02420a3943dcrow4_col0\" class=\"data row4 col0\" >Misc</td>\n",
       "                        <td id=\"T_9abd88c6_6f74_11eb_b651_02420a3943dcrow4_col1\" class=\"data row4 col1\" >27.49</td>\n",
       "            </tr>\n",
       "    </tbody></table><style  type=\"text/css\" >\n",
       "</style><table id=\"T_9abdbefe_6f74_11eb_b651_02420a3943dc\" style='display:inline'><caption>genre:jp_sales ratio</caption><thead>    <tr>        <th class=\"blank level0\" ></th>        <th class=\"col_heading level0 col0\" >genre</th>        <th class=\"col_heading level0 col1\" >jp_sales</th>    </tr></thead><tbody>\n",
       "                <tr>\n",
       "                        <th id=\"T_9abdbefe_6f74_11eb_b651_02420a3943dclevel0_row0\" class=\"row_heading level0 row0\" >7</th>\n",
       "                        <td id=\"T_9abdbefe_6f74_11eb_b651_02420a3943dcrow0_col0\" class=\"data row0 col0\" >Role-Playing</td>\n",
       "                        <td id=\"T_9abdbefe_6f74_11eb_b651_02420a3943dcrow0_col1\" class=\"data row0 col1\" >51.04</td>\n",
       "            </tr>\n",
       "            <tr>\n",
       "                        <th id=\"T_9abdbefe_6f74_11eb_b651_02420a3943dclevel0_row1\" class=\"row_heading level0 row1\" >0</th>\n",
       "                        <td id=\"T_9abdbefe_6f74_11eb_b651_02420a3943dcrow1_col0\" class=\"data row1 col0\" >Action</td>\n",
       "                        <td id=\"T_9abdbefe_6f74_11eb_b651_02420a3943dcrow1_col1\" class=\"data row1 col1\" >40.49</td>\n",
       "            </tr>\n",
       "            <tr>\n",
       "                        <th id=\"T_9abdbefe_6f74_11eb_b651_02420a3943dclevel0_row2\" class=\"row_heading level0 row2\" >3</th>\n",
       "                        <td id=\"T_9abdbefe_6f74_11eb_b651_02420a3943dcrow2_col0\" class=\"data row2 col0\" >Misc</td>\n",
       "                        <td id=\"T_9abdbefe_6f74_11eb_b651_02420a3943dcrow2_col1\" class=\"data row2 col1\" >9.20</td>\n",
       "            </tr>\n",
       "            <tr>\n",
       "                        <th id=\"T_9abdbefe_6f74_11eb_b651_02420a3943dclevel0_row3\" class=\"row_heading level0 row3\" >2</th>\n",
       "                        <td id=\"T_9abdbefe_6f74_11eb_b651_02420a3943dcrow3_col0\" class=\"data row3 col0\" >Fighting</td>\n",
       "                        <td id=\"T_9abdbefe_6f74_11eb_b651_02420a3943dcrow3_col1\" class=\"data row3 col1\" >7.65</td>\n",
       "            </tr>\n",
       "            <tr>\n",
       "                        <th id=\"T_9abdbefe_6f74_11eb_b651_02420a3943dclevel0_row4\" class=\"row_heading level0 row4\" >8</th>\n",
       "                        <td id=\"T_9abdbefe_6f74_11eb_b651_02420a3943dcrow4_col0\" class=\"data row4 col0\" >Shooter</td>\n",
       "                        <td id=\"T_9abdbefe_6f74_11eb_b651_02420a3943dcrow4_col1\" class=\"data row4 col1\" >6.61</td>\n",
       "            </tr>\n",
       "    </tbody></table>"
      ]
     },
     "metadata": {},
     "output_type": "display_data"
    },
    {
     "data": {
      "text/html": [
       "<div>\n",
       "<style scoped>\n",
       "    .dataframe tbody tr th:only-of-type {\n",
       "        vertical-align: middle;\n",
       "    }\n",
       "\n",
       "    .dataframe tbody tr th {\n",
       "        vertical-align: top;\n",
       "    }\n",
       "\n",
       "    .dataframe thead th {\n",
       "        text-align: right;\n",
       "    }\n",
       "</style>\n",
       "<table border=\"1\" class=\"dataframe\">\n",
       "  <thead>\n",
       "    <tr style=\"text-align: right;\">\n",
       "      <th></th>\n",
       "      <th>rating</th>\n",
       "      <th>eu_sales</th>\n",
       "      <th>jp_sales</th>\n",
       "      <th>na_sales</th>\n",
       "      <th>rating_number</th>\n",
       "    </tr>\n",
       "  </thead>\n",
       "  <tbody>\n",
       "    <tr>\n",
       "      <td>0</td>\n",
       "      <td>E</td>\n",
       "      <td>83.36</td>\n",
       "      <td>15.14</td>\n",
       "      <td>79.05</td>\n",
       "      <td>0</td>\n",
       "    </tr>\n",
       "    <tr>\n",
       "      <td>1</td>\n",
       "      <td>E10+</td>\n",
       "      <td>42.69</td>\n",
       "      <td>5.89</td>\n",
       "      <td>54.24</td>\n",
       "      <td>1</td>\n",
       "    </tr>\n",
       "    <tr>\n",
       "      <td>2</td>\n",
       "      <td>M</td>\n",
       "      <td>145.32</td>\n",
       "      <td>14.11</td>\n",
       "      <td>165.21</td>\n",
       "      <td>2</td>\n",
       "    </tr>\n",
       "    <tr>\n",
       "      <td>3</td>\n",
       "      <td>T</td>\n",
       "      <td>41.95</td>\n",
       "      <td>20.59</td>\n",
       "      <td>49.79</td>\n",
       "      <td>3</td>\n",
       "    </tr>\n",
       "    <tr>\n",
       "      <td>4</td>\n",
       "      <td>tbd</td>\n",
       "      <td>78.91</td>\n",
       "      <td>85.05</td>\n",
       "      <td>89.42</td>\n",
       "      <td>4</td>\n",
       "    </tr>\n",
       "  </tbody>\n",
       "</table>\n",
       "</div>"
      ],
      "text/plain": [
       "  rating  eu_sales  jp_sales  na_sales  rating_number\n",
       "0      E     83.36     15.14     79.05              0\n",
       "1   E10+     42.69      5.89     54.24              1\n",
       "2      M    145.32     14.11    165.21              2\n",
       "3      T     41.95     20.59     49.79              3\n",
       "4    tbd     78.91     85.05     89.42              4"
      ]
     },
     "metadata": {},
     "output_type": "display_data"
    },
    {
     "data": {
      "image/png": "[encoded data removed]",
      "text/plain": [
       "<Figure size 720x360 with 1 Axes>"
      ]
     },
     "metadata": {
      "needs_background": "light"
     },
     "output_type": "display_data"
    }
   ],
   "source": [
    "#Определите для пользователя каждого региона (NA, EU, JP) доли продаж по параметру\n",
    "def top_income_per_par(par1):\n",
    "\n",
    "    games_older2013_pt = games_older2013.pivot_table(index=[par1], values=['na_sales', 'eu_sales','jp_sales'], aggfunc='sum')\\\n",
    "                        .reset_index()\n",
    "    games_older2013_pt[['na_sales', 'eu_sales', 'jp_sales']].apply(lambda x: 100 * x / float(x.sum())).round(2)\n",
    "\n",
    "    \n",
    "    games_older2013_eu = games_older2013_pt.sort_values(by='eu_sales', ascending=False).head(5)[[par1,'eu_sales']].\\\n",
    "                        style.set_table_attributes(\"style='display:inline'\").set_caption(par1+':'+'eu_sales ratio').format(\n",
    "        {\n",
    "        'eu_sales': '{:,.2f}'.format,\n",
    "        'na_sales': '{:,.2f}'.format,\n",
    "        'jp_sales': '{:,.2f}'.format\n",
    "        })\n",
    "\n",
    "    games_older2013_na = games_older2013_pt.sort_values(by='na_sales', ascending=False).head(5)[[par1,'na_sales']].\\\n",
    "                        style.set_table_attributes(\"style='display:inline'\").set_caption(par1+':'+'na_sales ratio').format(\n",
    "        {\n",
    "        'eu_sales': '{:,.2f}'.format,\n",
    "        'na_sales': '{:,.2f}'.format,\n",
    "        'jp_sales': '{:,.2f}'.format\n",
    "        })\n",
    "\n",
    "    games_older2013_jp = games_older2013_pt.sort_values(by='jp_sales', ascending=False).head(5)[[par1,'jp_sales']].\\\n",
    "                        style.set_table_attributes(\"style='display:inline'\").set_caption(par1+':'+'jp_sales ratio').format(\n",
    "        {\n",
    "        'eu_sales': '{:,.2f}'.format,\n",
    "        'na_sales': '{:,.2f}'.format,\n",
    "        'jp_sales': '{:,.2f}'.format\n",
    "        })\n",
    "\n",
    "    display_html(games_older2013_eu._repr_html_()+games_older2013_na._repr_html_()+games_older2013_jp._repr_html_(), raw=True)\n",
    "    return\n",
    "\n",
    "top_income_per_par('platform')\n",
    "top_income_per_par('genre')\n",
    "\n",
    "#функция оценки зависимости продаж от рейтинга в отдельном регионе\n",
    "#чтобы в процессе создагния сводной таблицы не исчезли пустые рейтинги\n",
    "#заменим пустой рейтинг на 'tbd'\n",
    "values = {'rating': 'tbd'}\n",
    "games_older2013_pt = games_older2013.fillna(value=values).pivot_table(index=['rating'], values=['na_sales', 'eu_sales','jp_sales'], aggfunc='sum', \\\n",
    "                        dropna=False, fill_value=0).reset_index()\n",
    "games_older2013_pt[['na_sales', 'eu_sales', 'jp_sales']].apply(lambda x: 100 * x / float(x.sum())).round(2)\n",
    "games_older2013_pt['rating_number'] = games_older2013_pt['rating'].index\n",
    "\n",
    "display(games_older2013_pt)\n",
    "    \n",
    "fig1, ax1 = plt.subplots(figsize=(10,5))\n",
    "ax1.set(xlabel='Рейтинг ESRB')\n",
    "ax1.set(ylabel='Количество продаж')\n",
    "sns.scatterplot(x='rating_number', y='eu_sales', data=games_older2013_pt, ax=ax1, size='eu_sales', sizes=(50, 200), legend=False)\n",
    "sns.scatterplot(x='rating_number', y='na_sales', data=games_older2013_pt, ax=ax1, size='na_sales', sizes=(50, 200), legend=False)\n",
    "sns.scatterplot(x='rating_number', y='jp_sales', data=games_older2013_pt, ax=ax1, size='jp_sales', sizes=(50, 200), legend=False)\n",
    "plt.show()"
   ]
  },
  {
   "cell_type": "markdown",
   "metadata": {},
   "source": [
    "<div class=\"alert alert-danger\">\n",
    "<b>Комментарий ревьюера:</b> Обрати внимание, у тебя огромное количество игр без рейтинга, а они в анализ... не попали.</div>\n",
    "\n",
    "\n",
    "><div class=\"alert alert-info\"> Абсолютно верное замечание!!! Я действительно не подумал о том, что pivot убирает Nan. Исправил. Спасибо</div>"
   ]
  },
  {
   "cell_type": "markdown",
   "metadata": {},
   "source": [
    "<div class=\"alert alert-success\">\n",
    "<b>Комментарий ревьюера v2:</b> Отлично!</div>"
   ]
  },
  {
   "cell_type": "markdown",
   "metadata": {},
   "source": [
    "### Вывод по пользователям регионов:\n",
    "\n",
    "Посмотрим документацию по рейтингам ESRB\n",
    "- Everyone (E)\n",
    "- Everyone 10+ (E10+)\n",
    "- Teen (T)\n",
    "- Mature 17+ (M)\n",
    "\n",
    "В Европе и Америке практически одинаковый ТОП платформ: PS4, XOne, X360, 3DS и PS3. С той разницей, что в Америка платформа PS3 уже устарела и нахожится на 4 месте по продажам, а в Европе ее еще активно используют и она на 2 месте.\n",
    "\n",
    "Аналогичная картинка в Европе и Америка по жанрам. Лидируют: Action, Shooter, Sports, Role-Playing. В Европе замыкает рейтинг Racing, в Америке же Misc.\n",
    "\n",
    "Япония разительно отличается от описанных регионов. Здесь лидирует платформа 3DS, устаревшая PS3 и карманная PSV.Замыкают рейтинг PS4 и WiiU. Также сильно отличается ситуация по жанрам. Лидируют Role-Playing, за ним Action. Далее ссильным отрывам Misc, Fighting которого нет в Америке и Европе. Замыкает рейтинг Shooter, которыйсильно ценится Европе и Америке.\n",
    "\n",
    "В Европе и Америке лучше продаются взрослые игры 17+ и игры для всех. В Японии в лидерах детские игры с рейтингом Teen (T) и игры для всей семьи Everyone (E).   \n",
    "\n",
    "Интересен тот факт, что игр без рейтинга огромное количество (6766 в общем обьеме). При этом их общий обьем находится на 2 месте в Японии, 2 месте в США и 3 месте Европе. Если отсутствие рейтинга это искажение в данных, то сильно пострадают выводы насчет рейтинга. Данный вопрос неободимо уточнить у Data инженеров - поставщиков данных.\n"
   ]
  },
  {
   "cell_type": "markdown",
   "metadata": {},
   "source": [
    "<div class=\"alert alert-warning\">\n",
    "<b>Комментарий ревьюера v2:</b> Вывод стоило переписать относительно новых данных по рейтингу. </div>"
   ]
  },
  {
   "cell_type": "markdown",
   "metadata": {},
   "source": [
    "## 5. Проверьте гипотезы   \n",
    "\n",
    "- Средние пользовательские рейтинги платформ Xbox One и PC одинаковые;     \n",
    "- Средние пользовательские рейтинги жанров Action (англ. «действие», экшен-игры) и Sports (англ. «спортивные соревнования») разные. "
   ]
  },
  {
   "cell_type": "markdown",
   "metadata": {},
   "source": [
    "### Средние пользовательские рейтинги платформ Xbox One и PC одинаковые\n",
    "\n",
    "Сформулируем гипотезы:\n",
    "\n",
    "Нулевая гипотеза H₀: Средние пользовательские рейтинги платформ Xbox One и PC одинаковые.   \n",
    "Альтернативная гипотеза H₁: Средние пользовательские рейтинги платформ Xbox One и PC различаются."
   ]
  },
  {
   "cell_type": "markdown",
   "metadata": {},
   "source": [
    "<div class=\"alert alert-success\">\n",
    "<b>Комментарий ревьюера:</b> Гипотезы корректны.</div>"
   ]
  },
  {
   "cell_type": "code",
   "execution_count": 14,
   "metadata": {},
   "outputs": [
    {
     "name": "stdout",
     "output_type": "stream",
     "text": [
      "Средний пользовательский рейтинг XOne\n"
     ]
    },
    {
     "data": {
      "text/plain": [
       "6.521428571428572"
      ]
     },
     "metadata": {},
     "output_type": "display_data"
    },
    {
     "name": "stdout",
     "output_type": "stream",
     "text": [
      "Средний пользовательский рейтинг PC\n"
     ]
    },
    {
     "data": {
      "text/plain": [
       "6.269677419354839"
      ]
     },
     "metadata": {},
     "output_type": "display_data"
    },
    {
     "name": "stdout",
     "output_type": "stream",
     "text": [
      "Дисперсия рейтингов XOne\n"
     ]
    },
    {
     "data": {
      "text/plain": [
       "1.8965188383045526"
      ]
     },
     "metadata": {},
     "output_type": "display_data"
    },
    {
     "name": "stdout",
     "output_type": "stream",
     "text": [
      "Дисперсия рейтингов PC\n"
     ]
    },
    {
     "data": {
      "text/plain": [
       "3.01630634755463"
      ]
     },
     "metadata": {},
     "output_type": "display_data"
    },
    {
     "name": "stdout",
     "output_type": "stream",
     "text": [
      "p-значение: 0.14759594013430463\n",
      "Не получилось отвергнуть нулевую гипотезу\n"
     ]
    }
   ],
   "source": [
    "#найдем средние рейтинги\n",
    "print('Средний пользовательский рейтинг XOne')\n",
    "display(games_older2013[games_older2013['platform'] == 'XOne']['user_score'].mean())\n",
    "print('Средний пользовательский рейтинг PC')\n",
    "display(games_older2013[games_older2013['platform'] == 'PC']['user_score'].mean())\n",
    "#посчитаем дисперсии\n",
    "print('Дисперсия рейтингов XOne')\n",
    "display(np.var(games_older2013[games_older2013['platform'] == 'XOne']['user_score']))\n",
    "print('Дисперсия рейтингов PC')\n",
    "display(np.var(games_older2013[games_older2013['platform'] == 'PC']['user_score']))\n",
    "#запустим тест\n",
    "alpha = 0.05 # критический уровень статистической значимости\n",
    "            # если p-value окажется меньше него - отвергнем гипотезу\n",
    "\n",
    "results = st.ttest_ind(\n",
    "    games_older2013[games_older2013['platform'] == 'XOne']['user_score'].dropna(), \n",
    "    games_older2013[games_older2013['platform'] == 'PC']['user_score'].dropna(),\n",
    "    equal_var=False\n",
    ")\n",
    "\n",
    "print('p-значение:', results.pvalue)\n",
    "\n",
    "if (results.pvalue < alpha):\n",
    "    print(\"Отвергаем нулевую гипотезу\")\n",
    "else:\n",
    "    print(\"Не получилось отвергнуть нулевую гипотезу\") "
   ]
  },
  {
   "cell_type": "markdown",
   "metadata": {},
   "source": [
    "**Вывод**: Значение **p-value чуть меньше 15%**.   \n",
    "В результате, **мы не можем отвергнуть нулевую гипотезу**. Это значит, что Средние пользовательские рейтинги платформ Xbox One и PC - одинаковые.  \n",
    "Чтобы отвергнуть нулевую гипотезу, необходимо увеличить доверительный интервал до 15%"
   ]
  },
  {
   "cell_type": "markdown",
   "metadata": {},
   "source": [
    "<div class=\"alert alert-success\">\n",
    "<b>Комментарий ревьюера:</b> Отличная работа.\n",
    "</div>"
   ]
  },
  {
   "cell_type": "markdown",
   "metadata": {},
   "source": [
    "### Средние пользовательские рейтинги жанров Action и Sports разные\n",
    "\n",
    "Сформулируем гипотезы:\n",
    "\n",
    "Нулевая гипотеза H₀: Средние пользовательские рейтинги жанров Action (англ. «действие», экшен-игры) и Sports (англ. «спортивные соревнования») одинаковые.   \n",
    "Альтернативная гипотеза H₁: Средние пользовательские рейтинги жанров Action (англ. «действие», экшен-игры) и Sports (англ. «спортивные соревнования») различаются."
   ]
  },
  {
   "cell_type": "markdown",
   "metadata": {},
   "source": [
    "<div class=\"alert alert-success\">\n",
    "<b>Комментарий ревьюера:</b> Гипотезы корректны.</div>"
   ]
  },
  {
   "cell_type": "code",
   "execution_count": 15,
   "metadata": {},
   "outputs": [
    {
     "name": "stdout",
     "output_type": "stream",
     "text": [
      "Средний пользовательский рейтинг Action\n"
     ]
    },
    {
     "data": {
      "text/plain": [
       "6.837532133676093"
      ]
     },
     "metadata": {},
     "output_type": "display_data"
    },
    {
     "name": "stdout",
     "output_type": "stream",
     "text": [
      "Средний пользовательский рейтинг Sports\n"
     ]
    },
    {
     "data": {
      "text/plain": [
       "5.238124999999999"
      ]
     },
     "metadata": {},
     "output_type": "display_data"
    },
    {
     "name": "stdout",
     "output_type": "stream",
     "text": [
      "Дисперсия рейтингов Action\n"
     ]
    },
    {
     "data": {
      "text/plain": [
       "1.7648124186332366"
      ]
     },
     "metadata": {},
     "output_type": "display_data"
    },
    {
     "name": "stdout",
     "output_type": "stream",
     "text": [
      "Дисперсия рейтингов Sports\n"
     ]
    },
    {
     "data": {
      "text/plain": [
       "3.160733984375"
      ]
     },
     "metadata": {},
     "output_type": "display_data"
    },
    {
     "name": "stdout",
     "output_type": "stream",
     "text": [
      "p-значение: 1.4460039700704315e-20\n",
      "Отвергаем нулевую гипотезу\n"
     ]
    }
   ],
   "source": [
    "#найдем средние рейтинги\n",
    "print('Средний пользовательский рейтинг Action')\n",
    "display(games_older2013[games_older2013['genre'] == 'Action']['user_score'].mean())\n",
    "print('Средний пользовательский рейтинг Sports')\n",
    "display(games_older2013[games_older2013['genre'] == 'Sports']['user_score'].mean())\n",
    "#посчитаем дисперсии\n",
    "print('Дисперсия рейтингов Action')\n",
    "display(np.var(games_older2013[games_older2013['genre'] == 'Action']['user_score']))\n",
    "print('Дисперсия рейтингов Sports')\n",
    "display(np.var(games_older2013[games_older2013['genre'] == 'Sports']['user_score']))\n",
    "#запустим тест\n",
    "alpha = 0.05 # критический уровень статистической значимости\n",
    "            # если p-value окажется меньше него - отвергнем гипотезу\n",
    "\n",
    "results = st.ttest_ind(\n",
    "    games_older2013[games_older2013['genre'] == 'Action']['user_score'].dropna(), \n",
    "    games_older2013[games_older2013['genre'] == 'Sports']['user_score'].dropna(),\n",
    "    equal_var=False\n",
    ")\n",
    "\n",
    "print('p-значение:', results.pvalue)\n",
    "\n",
    "if (results.pvalue < alpha):\n",
    "    print(\"Отвергаем нулевую гипотезу\")\n",
    "else:\n",
    "    print(\"Не получилось отвергнуть нулевую гипотезу\") "
   ]
  },
  {
   "cell_type": "markdown",
   "metadata": {},
   "source": [
    "**Вывод**: Получив стольмалое p-value, **мы отвергли нулевую гипотезу**.  \n",
    "Т.е. у нас абсолютная малая вероятность получить одинаковые средние рейтинги по рассматриваемым жанрам."
   ]
  },
  {
   "cell_type": "markdown",
   "metadata": {},
   "source": [
    "<div class=\"alert alert-success\">\n",
    "<b>Комментарий ревьюера:</b> Все верно.</div>"
   ]
  },
  {
   "cell_type": "markdown",
   "metadata": {},
   "source": [
    "## 6. Общий вывод"
   ]
  },
  {
   "cell_type": "markdown",
   "metadata": {},
   "source": [
    "Предоставленные данные были обработаны на предмет пропущенных значений, некорректных данных и некорректных типов данных.  \n",
    "\n",
    "Основное число игр вышло в период с 1995. Но строить прогноз на 2017 год, основываясь на данные продаж по платформам, которых уже не существует - некорректно, поэтому первоначально данные до 1995 отбрасываем.\n",
    "**Время жизни платформы примерно 10 лет.** Поэтому выборку сузили еще раз до данных моложе 2006 года.  \n",
    "Дальше было замечено, что ряд топ платформ этого периода стали неакутальны в период с 2012 по 2013 года. Строить прогноз на 2017 год по платформам, которые исчезли некорректно. Было принято решение оставить данные с 2013 года.   \n",
    "\n",
    "Топ-платформ которые остались актуальными и функционируют последние годы, а именно с 2013 года: 'PS4', 'XOne', '3DS', 'X360', 'WiiU', 'PC', 'PSV'**.      \n",
    "\n",
    "Продажи игр в целом только падают. И значительно перераспределяются доли между платформами. Если в 2013 году была заметная лидирующая позиция X360 и 3DS, то **к 2015 продажи X360 значительно снизились**.\n",
    "\n",
    "**Лидером продаж в настоящее время остается PS4**. Далее в порядке убывания обьемов: 'XOne', '3DS', 'WiiU' и примерно равные 'PC', 'PSV'\n",
    "\n",
    "В основном **корреляция между оценками пользователей и продажами** либо не выявлена либо очень слабая. Исключение составляет только платформа WiiU, где покупатели прислушиваются к оценке пользователей.   \n",
    "При этом корелляция между оценками критиков и обьемами продаж в основном средняя. **Т.е. покупатели больше верят критикам, чем другим игрокам.**\n",
    "\n",
    "**Самыми популярными являются жанры Action и Shooter**. Самый провальный жанр Pazzle.   \n",
    "\n",
    "В Европе и Америке практически одинаковый ТОП платформ: PS4, XOne, X360, 3DS и PS3. С той разницей, что в Америка платформа PS3 уже устарела и нахожится на 4 месте по продажам, а в Европе ее еще активно используют и она на 2 месте.\n",
    "\n",
    "Аналогичная картинка в Европе и Америка по жанрам. Лидируют: Action, Shooter, Sports, Role-Playing. В Европе замыкает рейтинг Racing, в Америке же Misc.\n",
    "\n",
    "Япония разительно отличается от описанных регионов. Здесь лидирует платформа 3DS, устаревшая PS3 и карманная PSV.Замыкают рейтинг PS4 и WiiU. Также сильно отличается ситуация по жанрам. Лидируют Role-Playing, за ним Action. Далее ссильным отрывам Misc, Fighting которого нет в Америке и Европе. Замыкает рейтинг Shooter, которыйсильно ценится Европе и Америке.\n",
    "\n",
    "**В Европе и Америке лучше продаются взрослые игры 17+ и игры для всех. В Японии в лидерах детские игры с рейтингом Teen (T) и игры для всей семьи Everyone (E)**.   \n",
    "\n",
    "Сделав тесты на проверку гипотез сделаны выводы:   \n",
    "В первом тесте значение **p-value чуть меньше 15%**.   \n",
    "В результате, **мы не можем отвергнуть нулевую гипотезу**. Это значит, что Средние пользовательские рейтинги платформ Xbox One и PC - одинаковые.   \n",
    "Во втором тесте, получив стольмалое p-value, **мы отвергли нулевую гипотезу**.  \n",
    "Т.е. у нас абсолютная малая вероятность получить одинаковые средние рейтинги по рассматриваемым жанрам.\n",
    "\n",
    "В итоге, что касается прогноза будущих продаж лучше брать данные начиная с 2013 года. При этом, в 2017 года большую часть прибыли будут приносить игры жанров Action и Shooter, для платформы PS4 и с рейтингом Mature 17+ (M). "
   ]
  },
  {
   "cell_type": "markdown",
   "metadata": {},
   "source": [
    "<div class=\"alert alert-success\">\n",
    "<b>Комментарий ревьюера:</b> Вывод хорошо структурирован.</div>"
   ]
  },
  {
   "cell_type": "markdown",
   "metadata": {},
   "source": [
    "<div class=\"alert alert-success\">\n",
    "<b>Комментарий ревьюера:</b> Ты отлично поработал. У тебя много не стандартных ходов, глубокая проработка данных, отличные выводы. Ты очень здраво рассуждаешь и внятно описываешь свои решения. К сожалению, есть ряд замечаний, которые пока не позволяют принять этот проект.\n",
    "\n",
    "Прошу внести изменения и отправить мне улучшенную версию проекта на дополнительуню проверку.\n",
    "</div>"
   ]
  },
  {
   "cell_type": "markdown",
   "metadata": {},
   "source": [
    "<div class=\"alert alert-success\">\n",
    "<b>Комментарий ревьюера v2:</b> Спасибо за доработку проекта - он стал еще лучше. Проект принят. Удачи со следующим!</div>"
   ]
  },
  {
   "cell_type": "code",
   "execution_count": null,
   "metadata": {},
   "outputs": [],
   "source": []
  }
 ],
 "metadata": {
  "kernelspec": {
   "display_name": "Python 3",
   "language": "python",
   "name": "python3"
  },
  "language_info": {
   "codemirror_mode": {
    "name": "ipython",
    "version": 3
   },
   "file_extension": ".py",
   "mimetype": "text/x-python",
   "name": "python",
   "nbconvert_exporter": "python",
   "pygments_lexer": "ipython3",
   "version": "3.7.8"
  },
  "toc": {
   "base_numbering": 1,
   "nav_menu": {},
   "number_sections": false,
   "sideBar": true,
   "skip_h1_title": false,
   "title_cell": "Table of Contents",
   "title_sidebar": "Contents",
   "toc_cell": true,
   "toc_position": {
    "height": "calc(100% - 180px)",
    "left": "10px",
    "top": "150px",
    "width": "375px"
   },
   "toc_section_display": true,
   "toc_window_display": true
  }
 },
 "nbformat": 4,
 "nbformat_minor": 2
}
