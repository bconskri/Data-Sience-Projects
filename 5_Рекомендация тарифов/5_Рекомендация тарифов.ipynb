{
 "cells": [
  {
   "cell_type": "markdown",
   "metadata": {},
   "source": [
    "Привет, меня зовут Люман Аблаев. Сегодня я проверю твой проект.\n",
    "<br> Дальнейшее общение будет происходить на \"ты\" если это не вызывает никаких проблем.\n",
    "<br> Желательно реагировать на каждый мой комментарий ('исправил', 'не понятно как исправить ошибку', ...)\n",
    "<br> Пожалуйста, не удаляй комментарии ревьюера, так как они повышают качество повторного ревью.\n",
    "\n",
    "Комментарии будут в <font color='green'>зеленой</font>, <font color='blue'>синей</font> или <font color='red'>красной</font> рамках:\n",
    "\n",
    "<div class=\"alert alert-block alert-success\">\n",
    "<b>Успех:</b> Если все сделано отлично\n",
    "</div>\n",
    "\n",
    "<div class=\"alert alert-block alert-info\">\n",
    "<b>Совет: </b> Если можно немного улучшить\n",
    "</div>\n",
    "\n",
    "<div class=\"alert alert-block alert-danger\">\n",
    "<b>Ошибка:</b> Если требуются исправления. Работа не может быть принята с красными комментариями.\n",
    "</div>\n",
    "\n",
    "<font color='orange' style='font-size:24px; font-weight:bold'>Общее впечатление</font>\n",
    "* Большое спасибо за проделанную работу, ее можно назвать идеальной! Видно, что приложено много усилий.\n",
    "- Очень аккуратный и лаконичный проект, приятно проверять такие работы.\n",
    "- Каждый шаг выполнен корректно и выглядит законченным.\n",
    "- Я с радостью принимаю твою работу и желаю удачи тебе в дальнейшем обучении.\n",
    "- Продолжай в том же духе;\n",
    "\n",
    "\n"
   ]
  },
  {
   "cell_type": "markdown",
   "metadata": {
    "toc": true
   },
   "source": [
    "<h1>Table of Contents<span class=\"tocSkip\"></span></h1>\n",
    "<div class=\"toc\"><ul class=\"toc-item\"><li><span><a href=\"#Откройте-и-изучите-файл\" data-toc-modified-id=\"Откройте-и-изучите-файл-1\">Откройте и изучите файл</a></span></li><li><span><a href=\"#Вывод:\" data-toc-modified-id=\"Вывод:-2\">Вывод:</a></span></li><li><span><a href=\"#Разбейте-данные-на-выборки\" data-toc-modified-id=\"Разбейте-данные-на-выборки-3\">Разбейте данные на выборки</a></span></li><li><span><a href=\"#Исследуйте-модели\" data-toc-modified-id=\"Исследуйте-модели-4\">Исследуйте модели</a></span></li><li><span><a href=\"#Вывод:\" data-toc-modified-id=\"Вывод:-5\">Вывод:</a></span></li><li><span><a href=\"#Проверьте-модель-на-тестовой-выборке\" data-toc-modified-id=\"Проверьте-модель-на-тестовой-выборке-6\">Проверьте модель на тестовой выборке</a></span></li><li><span><a href=\"#(бонус)-Проверьте-модели-на-адекватность\" data-toc-modified-id=\"(бонус)-Проверьте-модели-на-адекватность-7\">(бонус) Проверьте модели на адекватность</a></span></li><li><span><a href=\"#Чек-лист-готовности-проекта\" data-toc-modified-id=\"Чек-лист-готовности-проекта-8\">Чек-лист готовности проекта</a></span></li></ul></div>"
   ]
  },
  {
   "cell_type": "markdown",
   "metadata": {},
   "source": [
    "# Рекомендация тарифов"
   ]
  },
  {
   "cell_type": "markdown",
   "metadata": {},
   "source": [
    "Оператор мобильной связи «Мегалайн» выяснил: многие клиенты пользуются архивными тарифами. Они хотят построить систему, способную проанализировать поведение клиентов и предложить пользователям новый тариф: «Смарт» или «Ультра».   \n",
    "\n",
    "В вашем распоряжении данные о поведении клиентов, которые уже перешли на эти тарифы (из проекта курса «Статистический анализ данных»). Нужно построить модель для задачи классификации, которая выберет подходящий тариф. Предобработка данных не понадобится — вы её уже сделали.\n",
    "\n",
    "Постройте модель с максимально большим значением *accuracy*. Чтобы сдать проект успешно, нужно довести долю правильных ответов по крайней мере до 0.75. Проверьте *accuracy* на тестовой выборке самостоятельно."
   ]
  },
  {
   "cell_type": "markdown",
   "metadata": {},
   "source": [
    "# Описание данных"
   ]
  },
  {
   "cell_type": "markdown",
   "metadata": {},
   "source": [
    "Каждый объект в наборе данных — это информация о поведении одного пользователя за месяц. Известно:  \n",
    "- сalls — количество звонков,  \n",
    "- minutes — суммарная длительность звонков в минутах,  \n",
    "- messages — количество sms-сообщений,  \n",
    "- mb_used — израсходованный интернет-трафик в Мб,  \n",
    "- is_ultra — каким тарифом пользовался в течение месяца («Ультра» — 1, «Смарт» — 0)."
   ]
  },
  {
   "cell_type": "markdown",
   "metadata": {},
   "source": [
    "<div class=\"alert alert-block alert-success\">\n",
    "<b>Успех:</b> Спасибо за  подробное описание проекта.\n",
    "</div>"
   ]
  },
  {
   "cell_type": "markdown",
   "metadata": {},
   "source": [
    "## Откройте и изучите файл"
   ]
  },
  {
   "cell_type": "code",
   "execution_count": 109,
   "metadata": {},
   "outputs": [],
   "source": [
    "!pip install seaborn>=0.11 -U"
   ]
  },
  {
   "cell_type": "code",
   "execution_count": 110,
   "metadata": {},
   "outputs": [],
   "source": [
    "#загрузка библиотек\n",
    "import pandas as pd\n",
    "#установим точность float 2 знака\n",
    "pd.set_option(\"precision\", 2)\n",
    "#графика\n",
    "import matplotlib.pyplot as plt\n",
    "import seaborn as sns\n",
    "sns.set_style('darkgrid')\n",
    "#\n",
    "import numpy as np\n",
    "from scipy import stats as st\n",
    "#машинное обучение\n",
    "from sklearn.model_selection import train_test_split\n",
    "from sklearn.tree import DecisionTreeClassifier\n",
    "from sklearn.ensemble import RandomForestClassifier\n",
    "from sklearn.linear_model import LogisticRegression\n",
    "from sklearn.metrics import accuracy_score\n",
    "#\n",
    "from IPython.display import display, HTML, display_html\n",
    "# importing \"copy\" for copy operations \n",
    "import copy\n",
    "\n"
   ]
  },
  {
   "cell_type": "code",
   "execution_count": 111,
   "metadata": {},
   "outputs": [
    {
     "name": "stdout",
     "output_type": "stream",
     "text": [
      "Таблица users_behavior\n"
     ]
    },
    {
     "data": {
      "text/html": [
       "<div>\n",
       "<style scoped>\n",
       "    .dataframe tbody tr th:only-of-type {\n",
       "        vertical-align: middle;\n",
       "    }\n",
       "\n",
       "    .dataframe tbody tr th {\n",
       "        vertical-align: top;\n",
       "    }\n",
       "\n",
       "    .dataframe thead th {\n",
       "        text-align: right;\n",
       "    }\n",
       "</style>\n",
       "<table border=\"1\" class=\"dataframe\">\n",
       "  <thead>\n",
       "    <tr style=\"text-align: right;\">\n",
       "      <th></th>\n",
       "      <th>calls</th>\n",
       "      <th>minutes</th>\n",
       "      <th>messages</th>\n",
       "      <th>mb_used</th>\n",
       "      <th>is_ultra</th>\n",
       "    </tr>\n",
       "  </thead>\n",
       "  <tbody>\n",
       "    <tr>\n",
       "      <td>0</td>\n",
       "      <td>40.0</td>\n",
       "      <td>311.90</td>\n",
       "      <td>83.0</td>\n",
       "      <td>19915.42</td>\n",
       "      <td>0</td>\n",
       "    </tr>\n",
       "    <tr>\n",
       "      <td>1</td>\n",
       "      <td>85.0</td>\n",
       "      <td>516.75</td>\n",
       "      <td>56.0</td>\n",
       "      <td>22696.96</td>\n",
       "      <td>0</td>\n",
       "    </tr>\n",
       "    <tr>\n",
       "      <td>2</td>\n",
       "      <td>77.0</td>\n",
       "      <td>467.66</td>\n",
       "      <td>86.0</td>\n",
       "      <td>21060.45</td>\n",
       "      <td>0</td>\n",
       "    </tr>\n",
       "    <tr>\n",
       "      <td>3</td>\n",
       "      <td>106.0</td>\n",
       "      <td>745.53</td>\n",
       "      <td>81.0</td>\n",
       "      <td>8437.39</td>\n",
       "      <td>1</td>\n",
       "    </tr>\n",
       "    <tr>\n",
       "      <td>4</td>\n",
       "      <td>66.0</td>\n",
       "      <td>418.74</td>\n",
       "      <td>1.0</td>\n",
       "      <td>14502.75</td>\n",
       "      <td>0</td>\n",
       "    </tr>\n",
       "    <tr>\n",
       "      <td>5</td>\n",
       "      <td>58.0</td>\n",
       "      <td>344.56</td>\n",
       "      <td>21.0</td>\n",
       "      <td>15823.37</td>\n",
       "      <td>0</td>\n",
       "    </tr>\n",
       "    <tr>\n",
       "      <td>6</td>\n",
       "      <td>57.0</td>\n",
       "      <td>431.64</td>\n",
       "      <td>20.0</td>\n",
       "      <td>3738.90</td>\n",
       "      <td>1</td>\n",
       "    </tr>\n",
       "    <tr>\n",
       "      <td>7</td>\n",
       "      <td>15.0</td>\n",
       "      <td>132.40</td>\n",
       "      <td>6.0</td>\n",
       "      <td>21911.60</td>\n",
       "      <td>0</td>\n",
       "    </tr>\n",
       "    <tr>\n",
       "      <td>8</td>\n",
       "      <td>7.0</td>\n",
       "      <td>43.39</td>\n",
       "      <td>3.0</td>\n",
       "      <td>2538.67</td>\n",
       "      <td>1</td>\n",
       "    </tr>\n",
       "    <tr>\n",
       "      <td>9</td>\n",
       "      <td>90.0</td>\n",
       "      <td>665.41</td>\n",
       "      <td>38.0</td>\n",
       "      <td>17358.61</td>\n",
       "      <td>0</td>\n",
       "    </tr>\n",
       "  </tbody>\n",
       "</table>\n",
       "</div>"
      ],
      "text/plain": [
       "   calls  minutes  messages   mb_used  is_ultra\n",
       "0   40.0   311.90      83.0  19915.42         0\n",
       "1   85.0   516.75      56.0  22696.96         0\n",
       "2   77.0   467.66      86.0  21060.45         0\n",
       "3  106.0   745.53      81.0   8437.39         1\n",
       "4   66.0   418.74       1.0  14502.75         0\n",
       "5   58.0   344.56      21.0  15823.37         0\n",
       "6   57.0   431.64      20.0   3738.90         1\n",
       "7   15.0   132.40       6.0  21911.60         0\n",
       "8    7.0    43.39       3.0   2538.67         1\n",
       "9   90.0   665.41      38.0  17358.61         0"
      ]
     },
     "metadata": {},
     "output_type": "display_data"
    },
    {
     "data": {
      "text/plain": [
       "(3214, 5)"
      ]
     },
     "metadata": {},
     "output_type": "display_data"
    },
    {
     "data": {
      "text/plain": [
       "calls       float64\n",
       "minutes     float64\n",
       "messages    float64\n",
       "mb_used     float64\n",
       "is_ultra      int64\n",
       "dtype: object"
      ]
     },
     "metadata": {},
     "output_type": "display_data"
    },
    {
     "data": {
      "text/html": [
       "<div>\n",
       "<style scoped>\n",
       "    .dataframe tbody tr th:only-of-type {\n",
       "        vertical-align: middle;\n",
       "    }\n",
       "\n",
       "    .dataframe tbody tr th {\n",
       "        vertical-align: top;\n",
       "    }\n",
       "\n",
       "    .dataframe thead th {\n",
       "        text-align: right;\n",
       "    }\n",
       "</style>\n",
       "<table border=\"1\" class=\"dataframe\">\n",
       "  <thead>\n",
       "    <tr style=\"text-align: right;\">\n",
       "      <th></th>\n",
       "      <th>percent_of_nulls</th>\n",
       "    </tr>\n",
       "  </thead>\n",
       "  <tbody>\n",
       "    <tr>\n",
       "      <td>calls</td>\n",
       "      <td>0.00%</td>\n",
       "    </tr>\n",
       "    <tr>\n",
       "      <td>minutes</td>\n",
       "      <td>0.00%</td>\n",
       "    </tr>\n",
       "    <tr>\n",
       "      <td>messages</td>\n",
       "      <td>0.00%</td>\n",
       "    </tr>\n",
       "    <tr>\n",
       "      <td>mb_used</td>\n",
       "      <td>0.00%</td>\n",
       "    </tr>\n",
       "    <tr>\n",
       "      <td>is_ultra</td>\n",
       "      <td>0.00%</td>\n",
       "    </tr>\n",
       "  </tbody>\n",
       "</table>\n",
       "</div>"
      ],
      "text/plain": [
       "         percent_of_nulls\n",
       "calls               0.00%\n",
       "minutes             0.00%\n",
       "messages            0.00%\n",
       "mb_used             0.00%\n",
       "is_ultra            0.00%"
      ]
     },
     "metadata": {},
     "output_type": "display_data"
    },
    {
     "data": {
      "text/html": [
       "<div>\n",
       "<style scoped>\n",
       "    .dataframe tbody tr th:only-of-type {\n",
       "        vertical-align: middle;\n",
       "    }\n",
       "\n",
       "    .dataframe tbody tr th {\n",
       "        vertical-align: top;\n",
       "    }\n",
       "\n",
       "    .dataframe thead th {\n",
       "        text-align: right;\n",
       "    }\n",
       "</style>\n",
       "<table border=\"1\" class=\"dataframe\">\n",
       "  <thead>\n",
       "    <tr style=\"text-align: right;\">\n",
       "      <th></th>\n",
       "      <th>calls</th>\n",
       "      <th>minutes</th>\n",
       "      <th>messages</th>\n",
       "      <th>mb_used</th>\n",
       "      <th>is_ultra</th>\n",
       "    </tr>\n",
       "  </thead>\n",
       "  <tbody>\n",
       "    <tr>\n",
       "      <td>count</td>\n",
       "      <td>3214.00</td>\n",
       "      <td>3214.00</td>\n",
       "      <td>3214.00</td>\n",
       "      <td>3214.00</td>\n",
       "      <td>3214.00</td>\n",
       "    </tr>\n",
       "    <tr>\n",
       "      <td>mean</td>\n",
       "      <td>63.04</td>\n",
       "      <td>438.21</td>\n",
       "      <td>38.28</td>\n",
       "      <td>17207.67</td>\n",
       "      <td>0.31</td>\n",
       "    </tr>\n",
       "    <tr>\n",
       "      <td>std</td>\n",
       "      <td>33.24</td>\n",
       "      <td>234.57</td>\n",
       "      <td>36.15</td>\n",
       "      <td>7570.97</td>\n",
       "      <td>0.46</td>\n",
       "    </tr>\n",
       "    <tr>\n",
       "      <td>min</td>\n",
       "      <td>0.00</td>\n",
       "      <td>0.00</td>\n",
       "      <td>0.00</td>\n",
       "      <td>0.00</td>\n",
       "      <td>0.00</td>\n",
       "    </tr>\n",
       "    <tr>\n",
       "      <td>25%</td>\n",
       "      <td>40.00</td>\n",
       "      <td>274.58</td>\n",
       "      <td>9.00</td>\n",
       "      <td>12491.90</td>\n",
       "      <td>0.00</td>\n",
       "    </tr>\n",
       "    <tr>\n",
       "      <td>50%</td>\n",
       "      <td>62.00</td>\n",
       "      <td>430.60</td>\n",
       "      <td>30.00</td>\n",
       "      <td>16943.24</td>\n",
       "      <td>0.00</td>\n",
       "    </tr>\n",
       "    <tr>\n",
       "      <td>75%</td>\n",
       "      <td>82.00</td>\n",
       "      <td>571.93</td>\n",
       "      <td>57.00</td>\n",
       "      <td>21424.70</td>\n",
       "      <td>1.00</td>\n",
       "    </tr>\n",
       "    <tr>\n",
       "      <td>max</td>\n",
       "      <td>244.00</td>\n",
       "      <td>1632.06</td>\n",
       "      <td>224.00</td>\n",
       "      <td>49745.73</td>\n",
       "      <td>1.00</td>\n",
       "    </tr>\n",
       "  </tbody>\n",
       "</table>\n",
       "</div>"
      ],
      "text/plain": [
       "         calls  minutes  messages   mb_used  is_ultra\n",
       "count  3214.00  3214.00   3214.00   3214.00   3214.00\n",
       "mean     63.04   438.21     38.28  17207.67      0.31\n",
       "std      33.24   234.57     36.15   7570.97      0.46\n",
       "min       0.00     0.00      0.00      0.00      0.00\n",
       "25%      40.00   274.58      9.00  12491.90      0.00\n",
       "50%      62.00   430.60     30.00  16943.24      0.00\n",
       "75%      82.00   571.93     57.00  21424.70      1.00\n",
       "max     244.00  1632.06    224.00  49745.73      1.00"
      ]
     },
     "metadata": {},
     "output_type": "display_data"
    },
    {
     "name": "stdout",
     "output_type": "stream",
     "text": [
      "Количество полных дубликатов: 0\n"
     ]
    }
   ],
   "source": [
    "#откроем датасет\n",
    "users_behavior = pd.read_csv('/datasets/users_behavior.csv')\n",
    "#проанализируем данные\n",
    "def dataexam(dat):\n",
    "    display(dat.head(10))\n",
    "    display(dat.shape)\n",
    "    display(dat.dtypes)\n",
    "    #посмотрим долю пустых значений в каждой колонке данных\n",
    "    gaps_in_the_data = (pd\n",
    "                    .DataFrame({'percent_of_nulls':dat.isna().sum()/len(dat)})\n",
    "                    .sort_values(by='percent_of_nulls', ascending=False)\n",
    "                   )\n",
    "    gaps_in_the_data['percent_of_nulls'] = gaps_in_the_data['percent_of_nulls'].map(lambda x: '{:.2%}'.format(x))\n",
    "    display(gaps_in_the_data)\n",
    "    #посмотрим диапазоны значений\n",
    "    display(dat.describe())\n",
    "    #Посчитаем количество полных дубликатов\n",
    "    print('Количество полных дубликатов:', dat.duplicated().sum())\n",
    "\n",
    "print('Таблица','users_behavior')\n",
    "dataexam(users_behavior)"
   ]
  },
  {
   "cell_type": "code",
   "execution_count": 112,
   "metadata": {},
   "outputs": [
    {
     "data": {
      "text/plain": [
       "calls         int64\n",
       "minutes     float64\n",
       "messages      int64\n",
       "mb_used     float64\n",
       "is_ultra      int64\n",
       "dtype: object"
      ]
     },
     "metadata": {},
     "output_type": "display_data"
    },
    {
     "data": {
      "text/html": [
       "<div>\n",
       "<style scoped>\n",
       "    .dataframe tbody tr th:only-of-type {\n",
       "        vertical-align: middle;\n",
       "    }\n",
       "\n",
       "    .dataframe tbody tr th {\n",
       "        vertical-align: top;\n",
       "    }\n",
       "\n",
       "    .dataframe thead th {\n",
       "        text-align: right;\n",
       "    }\n",
       "</style>\n",
       "<table border=\"1\" class=\"dataframe\">\n",
       "  <thead>\n",
       "    <tr style=\"text-align: right;\">\n",
       "      <th></th>\n",
       "      <th>calls</th>\n",
       "      <th>minutes</th>\n",
       "      <th>messages</th>\n",
       "      <th>mb_used</th>\n",
       "      <th>is_ultra</th>\n",
       "    </tr>\n",
       "  </thead>\n",
       "  <tbody>\n",
       "  </tbody>\n",
       "</table>\n",
       "</div>"
      ],
      "text/plain": [
       "Empty DataFrame\n",
       "Columns: [calls, minutes, messages, mb_used, is_ultra]\n",
       "Index: []"
      ]
     },
     "metadata": {},
     "output_type": "display_data"
    }
   ],
   "source": [
    "#преобразуем типы, которые по логике должны быть целыми\n",
    "users_behavior['calls'] = users_behavior['calls'].astype('int64')\n",
    "users_behavior['messages'] = users_behavior['messages'].astype('int64')\n",
    "display(users_behavior.dtypes)\n",
    "\n",
    "#посмотрим есть ли строки с нулями\n",
    "display(users_behavior[(users_behavior['calls'] == 0) & (users_behavior['minutes'] == 0) & (users_behavior['messages'] == 0) & (users_behavior['mb_used'] == 0)])"
   ]
  },
  {
   "cell_type": "markdown",
   "metadata": {},
   "source": [
    "## Вывод:   \n",
    "\n",
    "Пустых данных и полных дубликатов нет. Типы значений \"сalls — количество звонков\" и \"messages — количество sms-сообщений\"  привели к целому. Строк, где нулевые ресурсы тоже нет. Можем приступать к дальнейшей обработке."
   ]
  },
  {
   "cell_type": "markdown",
   "metadata": {},
   "source": [
    "<div class=\"alert alert-block alert-success\">\n",
    "<b>Успех:</b> Загрузка данных и первичный анализ сделаны хорошо.\n",
    "</div>"
   ]
  },
  {
   "cell_type": "markdown",
   "metadata": {},
   "source": [
    "## Разбейте данные на выборки"
   ]
  },
  {
   "cell_type": "code",
   "execution_count": 113,
   "metadata": {
    "scrolled": true
   },
   "outputs": [
    {
     "name": "stdout",
     "output_type": "stream",
     "text": [
      "Размер обучающей выборки: 1928 объектов\n",
      "Размер валидационной выборки: 643 объекта\n",
      "Размер тестовой выборки: 643 объекта\n"
     ]
    }
   ],
   "source": [
    "#разделим наш датасет на обучающую, валидационну и тестовую выборки \n",
    "df_train, df_valid = train_test_split(users_behavior, test_size=0.40, random_state=12345)\n",
    "df_valid, df_test = train_test_split(df_valid,test_size = 0.5, random_state=12345)\n",
    "print('Размер обучающей выборки:', df_train.shape[0],'объектов')\n",
    "print('Размер валидационной выборки:', df_valid.shape[0],'объекта')\n",
    "print('Размер тестовой выборки:',df_test.shape[0],'объекта')"
   ]
  },
  {
   "cell_type": "markdown",
   "metadata": {},
   "source": [
    "<div class=\"alert alert-block alert-success\">\n",
    "<b>Успех:</b> Разбиение выполнено корректно, молодец, что проверяешь размеры полученных выборок.\n",
    "</div>"
   ]
  },
  {
   "cell_type": "markdown",
   "metadata": {},
   "source": [
    "## Исследуйте модели"
   ]
  },
  {
   "cell_type": "code",
   "execution_count": 114,
   "metadata": {},
   "outputs": [],
   "source": [
    "#определим признаки и целевые признаки\n",
    "features = users_behavior.drop(['is_ultra'], axis=1)\n",
    "target = users_behavior['is_ultra']\n",
    "\n",
    "#Валидационная выборка\n",
    "features_valid = df_valid.drop(['is_ultra'], axis=1)\n",
    "target_valid = df_valid['is_ultra']\n",
    "\n",
    "#Обучающая выборка\n",
    "features_train = df_train.drop(['is_ultra'], axis=1)\n",
    "target_train = df_train['is_ultra']\n",
    "\n",
    "#Тестовая выборка\n",
    "features_test = df_test.drop(['is_ultra'], axis=1)\n",
    "target_test = df_test['is_ultra']"
   ]
  },
  {
   "cell_type": "code",
   "execution_count": 115,
   "metadata": {},
   "outputs": [
    {
     "name": "stdout",
     "output_type": "stream",
     "text": [
      "depth: 1 accuracy: 0.7542768273716952\n",
      "depth: 2 accuracy: 0.7822706065318819\n",
      "depth: 3 accuracy: 0.7853810264385692\n",
      "depth: 4 accuracy: 0.7791601866251944\n",
      "depth: 5 accuracy: 0.7791601866251944\n",
      "depth: 6 accuracy: 0.7838258164852255\n",
      "depth: 7 accuracy: 0.7822706065318819\n",
      "depth: 8 accuracy: 0.7791601866251944\n",
      "depth: 9 accuracy: 0.7822706065318819\n"
     ]
    },
    {
     "data": {
      "image/png": "[encoded data removed]",
      "text/plain": [
       "<Figure size 720x360 with 1 Axes>"
      ]
     },
     "metadata": {},
     "output_type": "display_data"
    }
   ],
   "source": [
    "#Обучим модель Дерево Решений и проверим разные глубины\n",
    "depths_DTC = []\n",
    "accuracies_DTC = []\n",
    "\n",
    "for depth in range(1,10):\n",
    "    model = DecisionTreeClassifier(random_state=12345, max_depth=depth)\n",
    "    model.fit(train_features,train_target)\n",
    "    predictions = model.predict(valid_features)\n",
    "    score = accuracy_score(valid_target, predictions)\n",
    "    depths_DTC.append(depth)\n",
    "    accuracies_DTC.append(score)\n",
    "    print('depth:', depth, end='')\n",
    "    print(' accuracy:', score)\n",
    "        \n",
    "#посмотрим на графике\n",
    "plt.figure(figsize=(10, 5))\n",
    "sns.lineplot(data=pd.DataFrame(data=accuracies_DTC, index=depths_DTC),dashes=False)\n",
    "plt.legend('')\n",
    "plt.title(\"Accuracy DecisionTreeClassifier при разных глубинах\", fontsize=14) \n",
    "plt.ylabel(\"accuracy\") \n",
    "plt.xlabel(\"depth\")\n",
    "plt.show()"
   ]
  },
  {
   "cell_type": "code",
   "execution_count": 116,
   "metadata": {},
   "outputs": [
    {
     "name": "stdout",
     "output_type": "stream",
     "text": [
      "est: 10 depth: 1 accuracy: 0.7558320373250389\n",
      "est: 10 depth: 2 accuracy: 0.7776049766718507\n",
      "est: 10 depth: 3 accuracy: 0.7853810264385692\n",
      "est: 10 depth: 4 accuracy: 0.7900466562986003\n",
      "est: 10 depth: 5 accuracy: 0.7931570762052877\n",
      "est: 10 depth: 6 accuracy: 0.8009331259720062\n",
      "est: 10 depth: 7 accuracy: 0.7947122861586314\n",
      "est: 10 depth: 8 accuracy: 0.7962674961119751\n",
      "est: 10 depth: 9 accuracy: 0.7853810264385692\n",
      "est: 20 depth: 1 accuracy: 0.7667185069984448\n",
      "est: 20 depth: 2 accuracy: 0.7838258164852255\n",
      "est: 20 depth: 3 accuracy: 0.7869362363919129\n",
      "est: 20 depth: 4 accuracy: 0.7884914463452566\n",
      "est: 20 depth: 5 accuracy: 0.7900466562986003\n",
      "est: 20 depth: 6 accuracy: 0.7993779160186625\n",
      "est: 20 depth: 7 accuracy: 0.8009331259720062\n",
      "est: 20 depth: 8 accuracy: 0.7978227060653188\n",
      "est: 20 depth: 9 accuracy: 0.7900466562986003\n",
      "est: 30 depth: 1 accuracy: 0.7667185069984448\n",
      "est: 30 depth: 2 accuracy: 0.7838258164852255\n",
      "est: 30 depth: 3 accuracy: 0.7869362363919129\n",
      "est: 30 depth: 4 accuracy: 0.7869362363919129\n",
      "est: 30 depth: 5 accuracy: 0.7931570762052877\n",
      "est: 30 depth: 6 accuracy: 0.8009331259720062\n",
      "est: 30 depth: 7 accuracy: 0.80248833592535\n",
      "est: 30 depth: 8 accuracy: 0.7993779160186625\n",
      "est: 30 depth: 9 accuracy: 0.7931570762052877\n",
      "est: 40 depth: 1 accuracy: 0.776049766718507\n",
      "est: 40 depth: 2 accuracy: 0.7853810264385692\n",
      "est: 40 depth: 3 accuracy: 0.7869362363919129\n",
      "est: 40 depth: 4 accuracy: 0.7900466562986003\n",
      "est: 40 depth: 5 accuracy: 0.7947122861586314\n",
      "est: 40 depth: 6 accuracy: 0.80248833592535\n",
      "est: 40 depth: 7 accuracy: 0.80248833592535\n",
      "est: 40 depth: 8 accuracy: 0.8087091757387247\n",
      "est: 40 depth: 9 accuracy: 0.7947122861586314\n",
      "est: 50 depth: 1 accuracy: 0.7589424572317263\n",
      "est: 50 depth: 2 accuracy: 0.7838258164852255\n",
      "est: 50 depth: 3 accuracy: 0.7869362363919129\n",
      "est: 50 depth: 4 accuracy: 0.7869362363919129\n",
      "est: 50 depth: 5 accuracy: 0.7931570762052877\n",
      "est: 50 depth: 6 accuracy: 0.7993779160186625\n",
      "est: 50 depth: 7 accuracy: 0.80248833592535\n",
      "est: 50 depth: 8 accuracy: 0.807153965785381\n",
      "est: 50 depth: 9 accuracy: 0.7978227060653188\n"
     ]
    },
    {
     "data": {
      "image/png": "[encoded data removed]",
      "text/plain": [
       "<Figure size 720x360 with 1 Axes>"
      ]
     },
     "metadata": {},
     "output_type": "display_data"
    }
   ],
   "source": [
    "#Обучим модель случайный лес и проверим разные глубины\n",
    "depths_RFC = []\n",
    "accuracies_RFC = []\n",
    "    \n",
    "for est in range(10, 51, 10): \n",
    "    for depth in range(1,10):\n",
    "        model = RandomForestClassifier(random_state=12345, max_depth=depth, n_estimators=est)\n",
    "        model.fit(train_features,train_target)\n",
    "        predictions = model.predict(valid_features)\n",
    "        score = accuracy_score(valid_target, predictions)\n",
    "        depths_RFC.append(depth)\n",
    "        accuracies_RFC.append(score)\n",
    "        print('est:', est, 'depth:', depth, end='')\n",
    "        print(' accuracy:', score)\n",
    "        \n",
    "#посмотрим на графике\n",
    "plt.figure(figsize=(10, 5))\n",
    "sns.lineplot(data=pd.DataFrame(data=accuracies_RFC, index=depths_RFC),dashes=False)\n",
    "plt.legend('')\n",
    "plt.title(\"Accuracy RandomForestClassifier при разных глубинах\", fontsize=14) \n",
    "plt.ylabel(\"accuracy\") \n",
    "plt.xlabel(\"depth\")\n",
    "plt.show()"
   ]
  },
  {
   "cell_type": "code",
   "execution_count": 117,
   "metadata": {},
   "outputs": [
    {
     "name": "stdout",
     "output_type": "stream",
     "text": [
      "Accuracy модели логистической регрессии на валидационной выборке: 0.7589424572317263\n"
     ]
    }
   ],
   "source": [
    "#Обучим модель логистическая регрессия\n",
    "model = LogisticRegression(random_state=12345) # инициализируйте модель логистической регрессии с параметром random_state=12345\n",
    "model.fit(features_train, target_train) # обучите модель на тренировочной выборке\n",
    "result = model.score(features_valid, target_valid) # получите метрику качества модели на валидационной выборке\n",
    "\n",
    "print(\"Accuracy модели логистической регрессии на валидационной выборке:\", result)\n",
    "\n",
    "depths_LR = [1]\n",
    "accuracies_LR = [result]"
   ]
  },
  {
   "cell_type": "code",
   "execution_count": 118,
   "metadata": {},
   "outputs": [
    {
     "data": {
      "image/png": "[encoded data removed]",
      "text/plain": [
       "<Figure size 864x432 with 1 Axes>"
      ]
     },
     "metadata": {},
     "output_type": "display_data"
    }
   ],
   "source": [
    "#\n",
    "plt.figure(figsize=(12,6))\n",
    "plt.title('Все модели на одном графике', fontsize=14)\n",
    "plt.xlabel('')\n",
    "plt.ylabel('accuracy')\n",
    "sns.lineplot(data=pd.DataFrame(data=accuracies_DTC, index=depths_DTC))\n",
    "sns.lineplot(data=pd.DataFrame(data=accuracies_RFC, index=depths_RFC), palette='Greens');"
   ]
  },
  {
   "cell_type": "markdown",
   "metadata": {},
   "source": [
    "## Вывод:  \n",
    "\n",
    "Было рассмотрено три модели:\n",
    "- DecisionTreeClassifier, при глубине от 1 до 10\n",
    "- RandomForestClassifier, при глубине от 1 до 10 и количество деревьев от 10 до 50\n",
    "- LogisticRegression\n",
    "\n",
    "В результате наилучшую точность предсказаний 0.8087091757387247 показала модель RandomForestClassifier, количество деревьев 40, глубина 8\n"
   ]
  },
  {
   "cell_type": "markdown",
   "metadata": {},
   "source": [
    "<div class=\"alert alert-block alert-success\">\n",
    "<b>Успех:</b> Замечательная работа с моделями, валидационная выборка корректно применена!\n",
    "</div>"
   ]
  },
  {
   "cell_type": "markdown",
   "metadata": {},
   "source": [
    "## Проверьте модель на тестовой выборке"
   ]
  },
  {
   "cell_type": "code",
   "execution_count": 119,
   "metadata": {},
   "outputs": [
    {
     "name": "stdout",
     "output_type": "stream",
     "text": [
      "accuracy: 0.7962674961119751\n"
     ]
    }
   ],
   "source": [
    "#Проверим модель: Случайный лес на тестовой выборке при est: 40 depth: 8\n",
    "model = RandomForestClassifier(random_state=12345, n_estimators=40, max_depth=8)\n",
    "model.fit(features_train,target_train)\n",
    "predictions = model.predict(features_test)\n",
    "score = accuracy_score(target_test, predictions)\n",
    "print('accuracy:', score)"
   ]
  },
  {
   "cell_type": "markdown",
   "metadata": {},
   "source": [
    "Построенная модель при прогнозе на тестовой выборке показала точность 0.7962674961119751"
   ]
  },
  {
   "cell_type": "markdown",
   "metadata": {},
   "source": [
    "<div class=\"alert alert-block alert-success\">\n",
    "<b>Успех:</b> Тестирование проведено корректно, тебе удалось достичь хорошего качества.\n",
    "</div>"
   ]
  },
  {
   "cell_type": "markdown",
   "metadata": {},
   "source": [
    "## (бонус) Проверьте модели на адекватность"
   ]
  },
  {
   "cell_type": "code",
   "execution_count": 120,
   "metadata": {},
   "outputs": [
    {
     "data": {
      "text/plain": [
       "0    0.69\n",
       "1    0.31\n",
       "Name: is_ultra, dtype: float64"
      ]
     },
     "execution_count": 120,
     "metadata": {},
     "output_type": "execute_result"
    }
   ],
   "source": [
    "users_behavior['is_ultra'].value_counts(normalize=True)"
   ]
  },
  {
   "cell_type": "markdown",
   "metadata": {},
   "source": [
    "Чтобы оценить модель на адекватность, или проверить на вменяемость (англ. sanity check) нужно сравнивать полученную модель со случайной.  \n",
    "У нас в данных 69% клиентов пользуются тарифом \"Смарт\". Если наша модель предсказывала бы всегда тариф \"Смарт\", т.е. по сути случайным образом, то точность такой случайной модели была бы 0.69.  \n",
    "Точность нашей полученной модели равна 0.796, что больше. Значит модель адекватна."
   ]
  },
  {
   "cell_type": "markdown",
   "metadata": {},
   "source": [
    "<div class=\"alert alert-block alert-success\">\n",
    "<b>Успех:</b> Отлично, ты справился с бонусным заданием!\n",
    "    \n",
    "</div>"
   ]
  },
  {
   "cell_type": "markdown",
   "metadata": {},
   "source": [
    "<div class=\"alert alert-block alert-info\">\n",
    "<b>Совет:</b> Советую обратить внимание на этот инструмент\n",
    "    \n",
    "[Фиктивный классификатор DummyClassifier](https://scikit-learn.org/stable/modules/generated/sklearn.dummy.DummyClassifier.html)\n",
    "</div>"
   ]
  },
  {
   "cell_type": "markdown",
   "metadata": {},
   "source": [
    "## Чек-лист готовности проекта"
   ]
  },
  {
   "cell_type": "markdown",
   "metadata": {},
   "source": [
    "Поставьте 'x' в выполненных пунктах. Далее нажмите Shift+Enter."
   ]
  },
  {
   "cell_type": "markdown",
   "metadata": {},
   "source": [
    "- [x] Jupyter Notebook открыт\n",
    "- [x] Весь код исполняется без ошибок\n",
    "- [x] Ячейки с кодом расположены в порядке исполнения\n",
    "- [x] Выполнено задание 1: данные загружены и изучены\n",
    "- [x] Выполнено задание 2: данные разбиты на три выборки\n",
    "- [x] Выполнено задание 3: проведено исследование моделей\n",
    "    - [x] Рассмотрено больше одной модели\n",
    "    - [x] Рассмотрено хотя бы 3 значения гипепараметров для какой-нибудь модели\n",
    "    - [x] Написаны выводы по результатам исследования\n",
    "- [x] Выполнено задание 3: Проведено тестирование\n",
    "- [x] Удалось достичь accuracy не меньше 0.75\n"
   ]
  },
  {
   "cell_type": "code",
   "execution_count": null,
   "metadata": {},
   "outputs": [],
   "source": []
  }
 ],
 "metadata": {
  "kernelspec": {
   "display_name": "Python 3",
   "language": "python",
   "name": "python3"
  },
  "language_info": {
   "codemirror_mode": {
    "name": "ipython",
    "version": 3
   },
   "file_extension": ".py",
   "mimetype": "text/x-python",
   "name": "python",
   "nbconvert_exporter": "python",
   "pygments_lexer": "ipython3",
   "version": "3.7.8"
  },
  "toc": {
   "base_numbering": 1,
   "nav_menu": {},
   "number_sections": false,
   "sideBar": true,
   "skip_h1_title": true,
   "title_cell": "Table of Contents",
   "title_sidebar": "Contents",
   "toc_cell": true,
   "toc_position": {},
   "toc_section_display": true,
   "toc_window_display": false
  }
 },
 "nbformat": 4,
 "nbformat_minor": 2
}
