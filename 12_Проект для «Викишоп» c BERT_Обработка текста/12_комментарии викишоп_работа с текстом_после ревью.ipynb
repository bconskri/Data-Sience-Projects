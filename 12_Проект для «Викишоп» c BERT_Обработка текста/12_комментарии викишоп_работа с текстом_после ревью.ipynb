{
 "cells": [
  {
   "cell_type": "markdown",
   "metadata": {},
   "source": [
    "Привет, меня зовут Артем Хуршудов. Сегодня я проверю твой проект.\n",
    "<br> Дальнейшее общение будет происходить на \"ты\" если это не вызывает никаких проблем.\n",
    "<br> Желательно реагировать на каждый мой комментарий ('исправил', 'не понятно как исправить ошибку', ...)\n",
    "<br> Пожалуйста, не удаляй комментарии ревьюера, так как они повышают качество повторного ревью.\n",
    "\n",
    "Комментарии будут в <font color='green'>зеленой</font>, <font color='blue'>синей</font> или <font color='red'>красной</font> рамках:\n",
    "\n",
    "<div class=\"alert alert-block alert-success\">\n",
    "<b>Успех:</b> Если все сделано отлично\n",
    "</div>\n",
    "\n",
    "<div class=\"alert alert-block alert-info\">\n",
    "<b>Совет: </b> Если можно немного улучшить\n",
    "</div>\n",
    "\n",
    "<div class=\"alert alert-block alert-danger\">\n",
    "<b>Ошибка:</b> Если требуются исправления. Работа не может быть принята с красными комментариями.\n",
    "</div>\n",
    "\n",
    "-------------------\n",
    "\n",
    "Будет очень хорошо, если ты будешь помечать свои действия следующим образом:\n",
    "<div class=\"alert alert-block alert-warning\">\n",
    "<b>Комментарий студента:</b> ...\n",
    "</div>\n",
    "\n",
    "<div class=\"alert alert-block alert-warning\">\n",
    "<b>Изменения:</b> Были внесены следующие изменения ...\n",
    "</div>\n",
    "\n",
    "### <font color='orange'>Общее впечатление</font>\n",
    "* Большое спасибо за проделанную работу. Видно, что приложено много усилий.\n",
    "* Радует, что ноутбук хорошо структурирован. Приятно проверять такие работы.\n",
    "* Я оставил несколько советов, надеюсь, что они будут учтены в будущих проектах.\n",
    "* Работа получилась отличной, тебе удалось добиться достаточно хорошего качества. Поздравляю!\n",
    "* Проект зачтен, удачи в дальнейшем обучении!"
   ]
  },
  {
   "cell_type": "markdown",
   "metadata": {
    "id": "I6GSGArkSY4-",
    "toc": true
   },
   "source": [
    "<h1>Содержание<span class=\"tocSkip\"></span></h1>\n",
    "<div class=\"toc\"><ul class=\"toc-item\"><li><ul class=\"toc-item\"><li><span><a href=\"#Общее-впечатление\" data-toc-modified-id=\"Общее-впечатление-0.1\"><span class=\"toc-item-num\">0.1&nbsp;&nbsp;</span><font color=\"orange\">Общее впечатление</font></a></span></li></ul></li><li><span><a href=\"#Подготовка\" data-toc-modified-id=\"Подготовка-1\"><span class=\"toc-item-num\">1&nbsp;&nbsp;</span>Подготовка</a></span></li><li><span><a href=\"#Обучение\" data-toc-modified-id=\"Обучение-2\"><span class=\"toc-item-num\">2&nbsp;&nbsp;</span>Обучение</a></span><ul class=\"toc-item\"><li><span><a href=\"#Классификатор-LogisticRegression\" data-toc-modified-id=\"Классификатор-LogisticRegression-2.1\"><span class=\"toc-item-num\">2.1&nbsp;&nbsp;</span>Классификатор LogisticRegression</a></span></li><li><span><a href=\"#Классификатор-DecisionTreeClassifier\" data-toc-modified-id=\"Классификатор-DecisionTreeClassifier-2.2\"><span class=\"toc-item-num\">2.2&nbsp;&nbsp;</span>Классификатор DecisionTreeClassifier</a></span></li><li><span><a href=\"#Классификатор-SGDClassifier\" data-toc-modified-id=\"Классификатор-SGDClassifier-2.3\"><span class=\"toc-item-num\">2.3&nbsp;&nbsp;</span>Классификатор SGDClassifier</a></span></li></ul></li><li><span><a href=\"#Выводы\" data-toc-modified-id=\"Выводы-3\"><span class=\"toc-item-num\">3&nbsp;&nbsp;</span>Выводы</a></span><ul class=\"toc-item\"><li><span><a href=\"#Итого\" data-toc-modified-id=\"Итого-3.1\"><span class=\"toc-item-num\">3.1&nbsp;&nbsp;</span>Итого</a></span></li></ul></li><li><span><a href=\"#Чек-лист-проверки\" data-toc-modified-id=\"Чек-лист-проверки-4\"><span class=\"toc-item-num\">4&nbsp;&nbsp;</span>Чек-лист проверки</a></span></li></ul></div>"
   ]
  },
  {
   "cell_type": "markdown",
   "metadata": {
    "id": "EdSuhuN0SY4_"
   },
   "source": [
    "# Проект для «Викишоп» c BERT"
   ]
  },
  {
   "cell_type": "markdown",
   "metadata": {
    "id": "F16LOUNDSY5A",
    "tags": []
   },
   "source": [
    "Интернет-магазин «Викишоп» запускает новый сервис. Теперь пользователи могут редактировать и дополнять описания товаров, как в вики-сообществах. То есть клиенты предлагают свои правки и комментируют изменения других. Магазину нужен инструмент, который будет искать токсичные комментарии и отправлять их на модерацию. \n",
    "\n",
    "Обучите модель классифицировать комментарии на позитивные и негативные. В вашем распоряжении набор данных с разметкой о токсичности правок.\n",
    "\n",
    "Постройте модель со значением метрики качества *F1* не меньше 0.75. \n",
    "\n",
    "**Инструкция по выполнению проекта**\n",
    "\n",
    "1. Загрузите и подготовьте данные.\n",
    "2. Обучите разные модели. \n",
    "3. Сделайте выводы.\n",
    "\n",
    "Для выполнения проекта применять *BERT* необязательно, но вы можете попробовать.\n",
    "\n",
    "**Описание данных**\n",
    "\n",
    "Данные находятся в файле `toxic_comments.csv`. Столбец *text* в нём содержит текст комментария, а *toxic* — целевой признак."
   ]
  },
  {
   "cell_type": "markdown",
   "metadata": {},
   "source": [
    "<div class=\"alert alert-block alert-info\">В связи с тем, что embeddings для 80000 записей вместо 150тыс как в оригинале даже на платном Colab на GPU считаются 1 час. То расссчитанные Embeddings сохранены в файл и в дальнейшем при реализации проекта просто загружаются уже готовые.<br>\n",
    "    Опять же сначала проект делался на 2тыс записей (расчет на Colab Free 15 мин - пока манипулировал закончилось время). В таком случае даже при всех вариантах испробованной балансировки не удавалось получить f1>0.75<br>\n",
    "    Позже я просчитал 8 тыс записей и модели показали нужны скоринг.<br>\n",
    "    Структуру работы оставил при этом как должно было быть от начала загрузки сырых данных, их обрабротки, балансировки и работы с моделями, если бы позволяли ресурсы хоста на котором ведется работа\n",
    "</div>"
   ]
  },
  {
   "cell_type": "markdown",
   "metadata": {
    "id": "g4_4QYJfSY5B"
   },
   "source": [
    "## Подготовка"
   ]
  },
  {
   "cell_type": "code",
   "execution_count": 3,
   "metadata": {
    "colab": {
     "base_uri": "https://localhost:8080/"
    },
    "id": "Jbv9ffHeSY5B",
    "outputId": "a2a19719-467f-4b2f-90a3-7c71a51938ff"
   },
   "outputs": [],
   "source": [
    "#\n",
    "import pandas as pd\n",
    "#\n",
    "pd.set_option('display.float_format', lambda x: '%.3f' % x)\n",
    "pd.set_option(\"precision\", 3)\n",
    "#\n",
    "import matplotlib.pyplot as plt\n",
    "import seaborn as sns\n",
    "import plotly.graph_objects as go\n",
    "from plotly.offline import init_notebook_mode, iplot\n",
    "\n",
    "sns.set_style('darkgrid')\n",
    "#\n",
    "import numpy as np\n",
    "from datetime import datetime\n",
    "from scipy import stats as st\n",
    "#\n",
    "from statsmodels.tsa.seasonal import seasonal_decompose\n",
    "#\n",
    "from sklearn.pipeline import Pipeline\n",
    "from sklearn.model_selection import train_test_split, cross_val_score, GridSearchCV, KFold, StratifiedKFold\n",
    "from sklearn.preprocessing import OneHotEncoder, OrdinalEncoder, StandardScaler, PowerTransformer\n",
    "pd.options.mode.chained_assignment = None\n",
    "#\n",
    "from lightgbm import LGBMRegressor\n",
    "#\n",
    "from sklearn.tree import DecisionTreeClassifier, DecisionTreeRegressor\n",
    "from sklearn.ensemble import RandomForestClassifier, RandomForestRegressor\n",
    "from sklearn.linear_model import LogisticRegression, LinearRegression, Lasso, Ridge, SGDClassifier\n",
    "from sklearn.dummy import DummyClassifier, DummyRegressor\n",
    "#\n",
    "from sklearn.metrics import accuracy_score, confusion_matrix, recall_score, precision_score, \\\n",
    "                            f1_score, roc_auc_score, roc_curve, mean_squared_error, mean_absolute_error, \\\n",
    "                            make_scorer\n",
    "#\n",
    "from sklearn.utils import shuffle\n",
    "#\n",
    "from catboost import CatBoostClassifier\n",
    "#\n",
    "import torch\n",
    "import transformers\n",
    "from tqdm import notebook\n",
    "#\n",
    "from IPython.display import display, HTML, display_html\n",
    "#\n",
    "import copy\n",
    "#\n",
    "import warnings\n",
    "warnings.filterwarnings('ignore')"
   ]
  },
  {
   "cell_type": "markdown",
   "metadata": {},
   "source": [
    "<div class=\"alert alert-block alert-info\">\n",
    "<b>Совет: </b> Желательно чтобы все импорты были собраны в первой ячейке ноутбука! Если у того, кто будет запускать твой ноутбук будут отсутствовать некоторые библиотеки, то он это увидит сразу, а не в процессе!\n",
    "</div>"
   ]
  },
  {
   "cell_type": "code",
   "execution_count": 20,
   "metadata": {},
   "outputs": [],
   "source": [
    "its_colub = True"
   ]
  },
  {
   "cell_type": "code",
   "execution_count": 21,
   "metadata": {
    "colab": {
     "base_uri": "https://localhost:8080/",
     "height": 363
    },
    "id": "wtyyxsh4SY5C",
    "outputId": "61bb863f-9151-4dc4-a82d-74dd52ebc0fd"
   },
   "outputs": [
    {
     "name": "stdout",
     "output_type": "stream",
     "text": [
      "Таблица toxic_comments\n"
     ]
    },
    {
     "data": {
      "text/html": [
       "<div>\n",
       "<style scoped>\n",
       "    .dataframe tbody tr th:only-of-type {\n",
       "        vertical-align: middle;\n",
       "    }\n",
       "\n",
       "    .dataframe tbody tr th {\n",
       "        vertical-align: top;\n",
       "    }\n",
       "\n",
       "    .dataframe thead th {\n",
       "        text-align: right;\n",
       "    }\n",
       "</style>\n",
       "<table border=\"1\" class=\"dataframe\">\n",
       "  <thead>\n",
       "    <tr style=\"text-align: right;\">\n",
       "      <th></th>\n",
       "      <th>unnamed: 0</th>\n",
       "      <th>text</th>\n",
       "      <th>toxic</th>\n",
       "    </tr>\n",
       "  </thead>\n",
       "  <tbody>\n",
       "    <tr>\n",
       "      <th>0</th>\n",
       "      <td>56058</td>\n",
       "      <td>REDIRECT User talk:Pusong Bato</td>\n",
       "      <td>0</td>\n",
       "    </tr>\n",
       "    <tr>\n",
       "      <th>1</th>\n",
       "      <td>33422</td>\n",
       "      <td>Please feel free to add anything you feel I've...</td>\n",
       "      <td>0</td>\n",
       "    </tr>\n",
       "    <tr>\n",
       "      <th>2</th>\n",
       "      <td>136645</td>\n",
       "      <td>... AmeriKKKans are fucking gay ... U.S.A. suc...</td>\n",
       "      <td>1</td>\n",
       "    </tr>\n",
       "    <tr>\n",
       "      <th>3</th>\n",
       "      <td>112347</td>\n",
       "      <td>Splash15hotel, ur a fucking faggot, dude. Get ...</td>\n",
       "      <td>1</td>\n",
       "    </tr>\n",
       "    <tr>\n",
       "      <th>4</th>\n",
       "      <td>131278</td>\n",
       "      <td>M1ss1ontomars2k4, please feel free to lick my ...</td>\n",
       "      <td>1</td>\n",
       "    </tr>\n",
       "  </tbody>\n",
       "</table>\n",
       "</div>"
      ],
      "text/plain": [
       "   unnamed: 0                                               text  toxic\n",
       "0       56058                     REDIRECT User talk:Pusong Bato      0\n",
       "1       33422  Please feel free to add anything you feel I've...      0\n",
       "2      136645  ... AmeriKKKans are fucking gay ... U.S.A. suc...      1\n",
       "3      112347  Splash15hotel, ur a fucking faggot, dude. Get ...      1\n",
       "4      131278  M1ss1ontomars2k4, please feel free to lick my ...      1"
      ]
     },
     "metadata": {},
     "output_type": "display_data"
    },
    {
     "data": {
      "text/plain": [
       "'Размерность данных:'"
      ]
     },
     "metadata": {},
     "output_type": "display_data"
    },
    {
     "data": {
      "text/plain": [
       "(8000, 3)"
      ]
     },
     "metadata": {},
     "output_type": "display_data"
    },
    {
     "data": {
      "text/plain": [
       "'Типы:'"
      ]
     },
     "metadata": {},
     "output_type": "display_data"
    },
    {
     "data": {
      "text/plain": [
       "unnamed: 0     int64\n",
       "text          object\n",
       "toxic          int64\n",
       "dtype: object"
      ]
     },
     "metadata": {},
     "output_type": "display_data"
    },
    {
     "name": "stdout",
     "output_type": "stream",
     "text": [
      "CPU times: user 50.2 ms, sys: 93.3 ms, total: 144 ms\n",
      "Wall time: 318 ms\n"
     ]
    }
   ],
   "source": [
    "%%time\n",
    "\n",
    "#откроем датасет\n",
    "if its_colub:\n",
    "    df = pd.read_csv('./datasets/toxic_comments_balanced_8000.csv')\n",
    "else:\n",
    "    df = pd.read_csv('./datasets/toxic_comments.csv', nrows=2000)\n",
    "\n",
    "df.name = 'toxic_comments'\n",
    "\n",
    "print('Таблица',df.name)\n",
    "#столбцы к нижнему регистру\n",
    "df.columns = df.columns.str.lower()\n",
    "#\n",
    "display(df.head(5))\n",
    "display('Размерность данных:', df.shape)\n",
    "display('Типы:', df.dtypes)"
   ]
  },
  {
   "cell_type": "markdown",
   "metadata": {},
   "source": [
    "<div class=\"alert alert-block alert-success\">\n",
    "<b>Успех:</b> Загрузка и первичный осмотр данных проведены хорошо.\n",
    "</div>"
   ]
  },
  {
   "cell_type": "code",
   "execution_count": 5,
   "metadata": {
    "colab": {
     "base_uri": "https://localhost:8080/",
     "height": 162
    },
    "id": "mwsl_SbmSY5C",
    "outputId": "24065ab8-daca-41b8-ae58-6152cce3188f"
   },
   "outputs": [
    {
     "name": "stdout",
     "output_type": "stream",
     "text": [
      "Доля нулевых значений:\n"
     ]
    },
    {
     "data": {
      "text/html": [
       "<div>\n",
       "<style scoped>\n",
       "    .dataframe tbody tr th:only-of-type {\n",
       "        vertical-align: middle;\n",
       "    }\n",
       "\n",
       "    .dataframe tbody tr th {\n",
       "        vertical-align: top;\n",
       "    }\n",
       "\n",
       "    .dataframe thead th {\n",
       "        text-align: right;\n",
       "    }\n",
       "</style>\n",
       "<table border=\"1\" class=\"dataframe\">\n",
       "  <thead>\n",
       "    <tr style=\"text-align: right;\">\n",
       "      <th></th>\n",
       "      <th>percent_of_nulls</th>\n",
       "    </tr>\n",
       "  </thead>\n",
       "  <tbody>\n",
       "    <tr>\n",
       "      <th>text</th>\n",
       "      <td>0.00%</td>\n",
       "    </tr>\n",
       "    <tr>\n",
       "      <th>toxic</th>\n",
       "      <td>0.00%</td>\n",
       "    </tr>\n",
       "  </tbody>\n",
       "</table>\n",
       "</div>"
      ],
      "text/plain": [
       "      percent_of_nulls\n",
       "text             0.00%\n",
       "toxic            0.00%"
      ]
     },
     "metadata": {},
     "output_type": "display_data"
    },
    {
     "name": "stdout",
     "output_type": "stream",
     "text": [
      "Количество полных дубликатов: 0\n",
      "\n"
     ]
    }
   ],
   "source": [
    "def na_persentage(dat):\n",
    "    print('Доля нулевых значений:')\n",
    "    gaps_in_the_data = (pd\n",
    "                        .DataFrame({'percent_of_nulls':dat.isna().sum()/len(dat)})\n",
    "                        .sort_values(by='percent_of_nulls', ascending=False)\n",
    "                       )\n",
    "    gaps_in_the_data['percent_of_nulls'] = gaps_in_the_data['percent_of_nulls'].map(lambda x: '{:.2%}'.format(x))\n",
    "    display(gaps_in_the_data)\n",
    "\n",
    "na_persentage(df)\n",
    "#Посчитаем количество полных дубликатов\n",
    "print('Количество полных дубликатов:', df.duplicated().sum())\n",
    "print()"
   ]
  },
  {
   "cell_type": "code",
   "execution_count": 6,
   "metadata": {
    "colab": {
     "base_uri": "https://localhost:8080/",
     "height": 85
    },
    "id": "LYroHzzI2w61",
    "outputId": "9bf651b9-4404-402a-8f82-2a2694ee8c37"
   },
   "outputs": [
    {
     "data": {
      "text/plain": [
       "0    1790\n",
       "1     210\n",
       "Name: toxic, dtype: int64"
      ]
     },
     "metadata": {},
     "output_type": "display_data"
    },
    {
     "name": "stdout",
     "output_type": "stream",
     "text": [
      "8.523809523809524\n"
     ]
    }
   ],
   "source": [
    "display(df['toxic'].value_counts())\n",
    "class_ratio = df['toxic'].value_counts()[0] / df['toxic'].value_counts()[1]\n",
    "print(class_ratio)"
   ]
  },
  {
   "cell_type": "markdown",
   "metadata": {
    "id": "yrN10-DN43B0"
   },
   "source": [
    "Классы несбалансированы. Отношение 1:8.52"
   ]
  },
  {
   "cell_type": "code",
   "execution_count": 7,
   "metadata": {},
   "outputs": [],
   "source": [
    "# df_0 = df[df['toxic'] == 0]\n",
    "# df_1 = df[df['toxic'] == 1]\n",
    "\n",
    "# toxic_0_downsample = df_0.sample(4000, random_state=12345)\n",
    "# toxic_1_downsample = df_1.sample(4000, random_state=12345)\n",
    "# df = pd.concat([toxic_0_downsample, toxic_1_downsample])\n",
    "# df = shuffle(df, random_state=12345)\n",
    "\n",
    "# print(df.shape)"
   ]
  },
  {
   "cell_type": "markdown",
   "metadata": {},
   "source": [
    "<div class=\"alert alert-block alert-info\">\n",
    "<b>Совет: </b> Напомню, что баланс классов можно изменять только в треине. В тесте и в валидации его изменять категорически запрещено, так как результаты получатся завышенными. Насколько я понял, эта ячейке не была запущена.\n",
    "</div>"
   ]
  },
  {
   "cell_type": "code",
   "execution_count": 9,
   "metadata": {
    "id": "E4X1kaSkSY5D"
   },
   "outputs": [],
   "source": [
    "df['text'] = df['text'].values.astype('U')"
   ]
  },
  {
   "cell_type": "markdown",
   "metadata": {
    "id": "bRJ8b0hISY5D"
   },
   "source": [
    "## Обучение"
   ]
  },
  {
   "cell_type": "code",
   "execution_count": 10,
   "metadata": {
    "colab": {
     "base_uri": "https://localhost:8080/",
     "height": 304,
     "referenced_widgets": [
      "804eae44723049548fc25170798324cb",
      "aad08f15aae4485fb86bca69dd5c156a",
      "ad69791cb92b49458b56a81f5a77d583",
      "4f408e84a59d4db3aa02ee556d93a029",
      "d47be49a054846d9b78bfe4e3d3c6c85",
      "3414b75211b746f1af415fad53324c1c",
      "09679c163c024f94b5e8078382eda39d",
      "497cf2a6179346a18bd5bc74975d2231"
     ]
    },
    "id": "0mbJKaZxSY5E",
    "outputId": "685729d7-be46-4566-fdcc-9ec802a1e55f"
   },
   "outputs": [
    {
     "name": "stdout",
     "output_type": "stream",
     "text": [
      "CPU times: user 1.1 ms, sys: 731 ms, total: 732 ms\n",
      "Wall time: 2.02 s\n"
     ]
    }
   ],
   "source": [
    "%%time\n",
    "\n",
    "has_tokenized = True\n",
    "\n",
    "if not has_tokenized:\n",
    "  tokenizer = transformers.BertTokenizer(\n",
    "      vocab_file='/content/drive/MyDrive/Colab Notebooks/datasets/bert_multi_cased_L-12_H-768_A-12/vocab.txt')\n",
    "\n",
    "  tokenized = df['text'].apply(\n",
    "    lambda x: tokenizer.encode(x, add_special_tokens=True, max_length=512, truncation=True))\n",
    "\n",
    "  max_len = max(map(len,tokenized))\n",
    "\n",
    "  padded_tokenized = np.array([i + [0]*(max_len - len(i)) for i in tokenized])\n",
    "  display(tokenized)\n",
    "\n",
    "  attention_mask = np.where(padded_tokenized != 0, 1, 0) \n",
    "\n",
    "  config = transformers.BertConfig.from_json_file(\n",
    "      '/content/drive/MyDrive/Colab Notebooks/datasets/bert_multi_cased_L-12_H-768_A-12/bert_config.json')\n",
    "  model = transformers.BertForPreTraining.from_pretrained(\n",
    "      '/content/drive/MyDrive/Colab Notebooks/datasets/bert_multi_cased_L-12_H-768_A-12/bert_model.ckpt.index', config=config, from_tf=True) \n",
    "\n",
    "  embeddings = []\n",
    "\n",
    "  if torch.cuda.is_available():\n",
    "      device='cuda'\n",
    "      batch_size = 8\n",
    "      #\n",
    "      import gc\n",
    "      gc.collect()\n",
    "      torch.cuda.empty_cache()\n",
    "      #\n",
    "      model = model.to(device)\n",
    "  else:\n",
    "      batch_size = 25\n",
    "      device='cpu'\n",
    "\n",
    "  for i in notebook.tqdm(range(padded_tokenized.shape[0] // batch_size)):\n",
    "      batch = torch.LongTensor(padded_tokenized[batch_size*i:batch_size*(i+1)]).to(torch.device(device))\n",
    "      attention_mask_batch = torch.LongTensor(attention_mask[batch_size*i:batch_size*(i+1)]).to(torch.device(device))\n",
    "\n",
    "      with torch.no_grad():\n",
    "          batch_embeddings = model(batch, attention_mask=attention_mask_batch)\n",
    "\n",
    "      if torch.cuda.is_available():\n",
    "        embeddings.append(batch_embeddings[0][:,0,:].cpu().numpy())\n",
    "      else:\n",
    "        embeddings.append(batch_embeddings[0][:,0,:].numpy())\n",
    "      \n",
    "\n",
    "  features = np.concatenate(embeddings) \n",
    "\n",
    "  if its_colub:\n",
    "      np.save('toxic_embeddings_8000', features)\n",
    "  else:\n",
    "      np.save('toxic_embeddings_2000', features)\n",
    "\n",
    "else:\n",
    "  if its_colub:\n",
    "      features = np.load('./datasets/toxic_embeddings8000.npy')\n",
    "  else:\n",
    "      features = np.load('./datasets/toxic_embeddings2000.npy')"
   ]
  },
  {
   "cell_type": "markdown",
   "metadata": {},
   "source": [
    "<div class=\"alert alert-block alert-success\">\n",
    "<b>Успех:</b> Радует, что тебе удалось освоить БЕРТ!\n",
    "</div>"
   ]
  },
  {
   "cell_type": "code",
   "execution_count": 11,
   "metadata": {
    "id": "jnnjjjIpx2cq"
   },
   "outputs": [],
   "source": [
    "targets = df['toxic']\n",
    "features_train, features_valid, target_train, target_valid = train_test_split(features, targets, shuffle=True, test_size=0.25, random_state=12345)"
   ]
  },
  {
   "cell_type": "markdown",
   "metadata": {},
   "source": [
    "<div class=\"alert alert-block alert-info\">\n",
    "<b>Совет: </b> В данном случае выборки лучше назвать train и test.\n",
    "</div>"
   ]
  },
  {
   "cell_type": "markdown",
   "metadata": {
    "id": "E0iNJea38lay",
    "tags": []
   },
   "source": [
    "### Классификатор LogisticRegression"
   ]
  },
  {
   "cell_type": "code",
   "execution_count": 12,
   "metadata": {},
   "outputs": [],
   "source": [
    "cv_counts = 3 #StratifiedKFold(n_splits=3, shuffle=True, random_state=12345)"
   ]
  },
  {
   "cell_type": "code",
   "execution_count": 13,
   "metadata": {
    "colab": {
     "base_uri": "https://localhost:8080/"
    },
    "id": "vaEGBAkFUxTU",
    "outputId": "d8e468ee-1f1f-4362-fe2f-723788a7324d",
    "tags": []
   },
   "outputs": [
    {
     "name": "stdout",
     "output_type": "stream",
     "text": [
      "F1 LogisticRegression 0.46363115693012596\n",
      "CPU times: user 3min 43s, sys: 13.8 s, total: 3min 56s\n",
      "Wall time: 1min 26s\n"
     ]
    }
   ],
   "source": [
    "%%time\n",
    "\n",
    "classificator = LogisticRegression(max_iter=150, random_state=12345)\n",
    "train_f1 = cross_val_score(classificator, \n",
    "                      features_train, \n",
    "                      target_train, \n",
    "                      cv=cv_counts, \n",
    "                      scoring='f1').mean()\n",
    "print('F1 LogisticRegression', train_f1)"
   ]
  },
  {
   "cell_type": "markdown",
   "metadata": {
    "id": "TuWECNji4wAP"
   },
   "source": [
    "На несбалансированных классах логистическая регрессия дает результат, неудовлетворяющий условиям задачи. Попробуем балансировку через коэффициент и подбор гипермаркетов"
   ]
  },
  {
   "cell_type": "code",
   "execution_count": 15,
   "metadata": {},
   "outputs": [],
   "source": [
    "dict_classes={0:1, 1:class_ratio}"
   ]
  },
  {
   "cell_type": "code",
   "execution_count": null,
   "metadata": {
    "colab": {
     "base_uri": "https://localhost:8080/",
     "height": 477
    },
    "id": "MMdPcV4u12Ad",
    "outputId": "ff8a30aa-2f3d-4aba-827a-28d52b77c72d"
   },
   "outputs": [],
   "source": [
    "%%time\n",
    "\n",
    "classificator = LogisticRegression(max_iter=100, class_weight=dict_classes, random_state=12345)\n",
    "hyperparams = [{'solver':['newton-cg', 'lbfgs', 'liblinear'],\n",
    "                'C':[0.1, 1, 10, 100]\n",
    "              }]\n",
    "\n",
    "\n",
    "print('# Tuning hyper-parameters for f1_score')\n",
    "print()\n",
    "clf = GridSearchCV(classificator, hyperparams, scoring='f1', cv=cv_counts, n_jobs=-1)\n",
    "clf.fit(features_train, target_train)\n",
    "print(\"Best parameters set found on development set:\")\n",
    "print()\n",
    "LR_best_params = clf.best_params_\n",
    "print(LR_best_params)\n",
    "print()\n",
    "print(\"Grid scores on development set:\")\n",
    "print()\n",
    "means = clf.cv_results_['mean_test_score']\n",
    "stds = clf.cv_results_['std_test_score']\n",
    "for mean, std, params in zip(means, stds, clf.cv_results_['params']):\n",
    "    print(\"%0.6f for %r\"% (mean, params))\n",
    "print()\n",
    "\n",
    "cv_f1_LR = max(means)\n",
    "print('F1 на cv', cv_f1_LR)"
   ]
  },
  {
   "cell_type": "code",
   "execution_count": 16,
   "metadata": {
    "colab": {
     "base_uri": "https://localhost:8080/",
     "height": 801
    },
    "id": "w1SJ3CVz-_bu",
    "outputId": "6ef45d29-f7c5-4055-a8ad-d3cd7f9120ef"
   },
   "outputs": [
    {
     "name": "stdout",
     "output_type": "stream",
     "text": [
      "F1 на валидации 0.5263157894736843\n",
      "CPU times: user 1min 16s, sys: 3.81 s, total: 1min 20s\n",
      "Wall time: 26.4 s\n"
     ]
    }
   ],
   "source": [
    "%%time\n",
    "\n",
    "LR_best_params = {'C': 10, 'class_weight': [dict_classes], 'solver': 'lbfgs'}\n",
    "\n",
    "classificator = LogisticRegression(random_state=12345)\n",
    "classificator.set_params(**LR_best_params)\n",
    "classificator.fit(features_train, target_train)\n",
    "target_predict = classificator.predict(features_valid)\n",
    "valid_f1_LR = f1_score(target_valid, target_predict)\n",
    "\n",
    "print('F1 на валидации', valid_f1_LR)"
   ]
  },
  {
   "cell_type": "markdown",
   "metadata": {
    "id": "oo94QLdZ8s5J"
   },
   "source": [
    "Попробуем автоматическую балансировку"
   ]
  },
  {
   "cell_type": "code",
   "execution_count": 33,
   "metadata": {
    "id": "DAW1hynO8q3_"
   },
   "outputs": [
    {
     "name": "stdout",
     "output_type": "stream",
     "text": [
      "F1 на валидации 0.8131313131313133\n",
      "CPU times: user 7min 43s, sys: 13min 12s, total: 20min 56s\n",
      "Wall time: 44min 14s\n"
     ]
    }
   ],
   "source": [
    "%%time\n",
    "\n",
    "LR_best_params = {'C': 10, 'class_weight': 'balanced', 'solver': 'lbfgs'}\n",
    "\n",
    "classificator = LogisticRegression(random_state=12345)\n",
    "classificator.set_params(**LR_best_params)\n",
    "classificator.fit(features_train, target_train)\n",
    "target_predict = classificator.predict(features_valid)\n",
    "valid_f1_LR = f1_score(target_valid, target_predict)\n",
    "\n",
    "print('F1 на валидации', valid_f1_LR)"
   ]
  },
  {
   "cell_type": "code",
   "execution_count": 34,
   "metadata": {},
   "outputs": [
    {
     "name": "stdout",
     "output_type": "stream",
     "text": [
      "[[825 154]\n",
      " [216 805]]\n"
     ]
    }
   ],
   "source": [
    "print(confusion_matrix(target_valid, target_predict)) "
   ]
  },
  {
   "cell_type": "markdown",
   "metadata": {},
   "source": [
    "Автобалансировка отрабатывает намного лучше. Результат уже достаточен длы выполнения задания. Сделаем resampling вручную и сравним"
   ]
  },
  {
   "cell_type": "code",
   "execution_count": null,
   "metadata": {},
   "outputs": [],
   "source": [
    "df_train = df.iloc[target_train.index]\n",
    "\n",
    "target_train_0 = df_train[df_train['toxic'] == 0]['toxic']\n",
    "target_train_1 = df_train[df_train['toxic'] == 1]['toxic']\n",
    "\n",
    "target_train_0_downsample = target_train_0.sample(target_train_1.shape[0], random_state=12345)\n",
    "target_train_resample = pd.concat([target_train_0_downsample, target_train_1])\n",
    "\n",
    "features_train_resample = features[target_train.index]\n",
    "features_train, target_train = shuffle(features_train, target_train, random_state=12345)"
   ]
  },
  {
   "cell_type": "markdown",
   "metadata": {},
   "source": [
    "<div class=\"alert alert-block alert-success\">\n",
    "<b>Успех:</b> Вот тут все верно, молодец!\n",
    "</div>"
   ]
  },
  {
   "cell_type": "markdown",
   "metadata": {},
   "source": [
    "Рассчитаем f1 предсказаний снова"
   ]
  },
  {
   "cell_type": "code",
   "execution_count": null,
   "metadata": {},
   "outputs": [],
   "source": [
    "%%time\n",
    "\n",
    "LR_best_params = {'C': 10, 'class_weight': 'balanced', 'solver': 'lbfgs'}\n",
    "\n",
    "classificator = LogisticRegression(random_state=12345)\n",
    "classificator.set_params(**LR_best_params)\n",
    "classificator.fit(target_train_resample, features_train_resample)\n",
    "target_predict = classificator.predict(features_valid)\n",
    "valid_f1_LR = f1_score(target_valid, target_predict)\n",
    "\n",
    "print('F1 на валидации', valid_f1_LR)"
   ]
  },
  {
   "cell_type": "markdown",
   "metadata": {},
   "source": [
    "Результат хуже, чем автобалансировка - значит дальше будем работать с автобалансировкой\n"
   ]
  },
  {
   "cell_type": "code",
   "execution_count": null,
   "metadata": {},
   "outputs": [],
   "source": [
    "del target_train_resample\n",
    "del features_train_resample"
   ]
  },
  {
   "cell_type": "markdown",
   "metadata": {},
   "source": [
    "### Классификатор DecisionTreeClassifier"
   ]
  },
  {
   "cell_type": "code",
   "execution_count": null,
   "metadata": {},
   "outputs": [],
   "source": [
    "%%time\n",
    "\n",
    "classificator = DecisionTreeClassifier(random_state=12345, class_weight='balanced')\n",
    "hyperparams = [{'max_depth':[x for x in range(30,50,5)]\n",
    "                }]\n",
    "\n",
    "\n",
    "print('# Tuning hyper-parameters for f1_score')\n",
    "print()\n",
    "clf = GridSearchCV(classificator, hyperparams, scoring='f1', cv=cv_counts)\n",
    "clf.fit(features_train, target_train)\n",
    "print(\"Best parameters set found on development set:\")\n",
    "print()\n",
    "DTC_best_params = clf.best_params_\n",
    "print(DTC_best_params)\n",
    "print()\n",
    "print(\"Grid scores on development set:\")\n",
    "print()\n",
    "means = clf.cv_results_['mean_test_score']\n",
    "stds = clf.cv_results_['std_test_score']\n",
    "for mean, std, params in zip(means, stds, clf.cv_results_['params']):\n",
    "    print(\"%0.6f for %r\"% (mean, params))\n",
    "print()\n",
    "\n",
    "cv_f1_DTC = max(means)\n",
    "print('F1 на cv', cv_f1_DTC)"
   ]
  },
  {
   "cell_type": "code",
   "execution_count": 35,
   "metadata": {},
   "outputs": [
    {
     "name": "stdout",
     "output_type": "stream",
     "text": [
      "F1 на валидации 0.6968058968058968\n",
      "CPU times: user 18min 55s, sys: 21.2 s, total: 19min 16s\n",
      "Wall time: 23min 3s\n"
     ]
    }
   ],
   "source": [
    "%%time\n",
    "\n",
    "DTC_best_params = {'class_weight': 'balanced', 'max_depth': 30, 'random_state': 12345}\n",
    "\n",
    "classificator = DecisionTreeClassifier()\n",
    "classificator.set_params(**DTC_best_params)\n",
    "classificator.fit(features_train, target_train)\n",
    "target_predict = classificator.predict(features_valid)\n",
    "valid_f1_DTC = f1_score(target_valid, target_predict)\n",
    "\n",
    "print('F1 на валидации', valid_f1_DTC)"
   ]
  },
  {
   "cell_type": "markdown",
   "metadata": {},
   "source": [
    "### Классификатор SGDClassifier"
   ]
  },
  {
   "cell_type": "code",
   "execution_count": null,
   "metadata": {},
   "outputs": [],
   "source": [
    "%%time\n",
    "\n",
    "classificator = SGDClassifier()\n",
    "hyperparams = [{'loss':['hinge', 'log', 'modified_huber'],\n",
    "                'learning_rate':['constant', 'optimal', 'invscaling', 'adaptive'],\n",
    "                'eta0':[0.01, 0.1, 0.2, 0.5],\n",
    "                'random_state':[12345],\n",
    "                'class_weight': [dict_classes]\n",
    "               }]\n",
    "\n",
    "\n",
    "print('# Tuning hyper-parameters for f1_score')\n",
    "print()\n",
    "clf = GridSearchCV(classificator, hyperparams, scoring='f1', cv=cv_counts)\n",
    "clf.fit(features_train, target_train)\n",
    "print(\"Best parameters set found on development set:\")\n",
    "print()\n",
    "SGDC_best_params = clf.best_params_\n",
    "print(SGDC_best_params)\n",
    "print()\n",
    "print(\"Grid scores on development set:\")\n",
    "print()\n",
    "means = clf.cv_results_['mean_test_score']\n",
    "stds = clf.cv_results_['std_test_score']\n",
    "for mean, std, params in zip(means, stds, clf.cv_results_['params']):\n",
    "    print(\"%0.6f for %r\"% (mean, params))\n",
    "print()\n",
    "\n",
    "cv_f1_SGDC = max(means)\n",
    "print('F1 на cv', cv_f1_SGDC)"
   ]
  },
  {
   "cell_type": "code",
   "execution_count": null,
   "metadata": {},
   "outputs": [
    {
     "name": "stdout",
     "output_type": "stream",
     "text": [
      "F1 на валидации 0.8181818181818181\n",
      "CPU times: user 3min 49s, sys: 7min 52s, total: 11min 42s\n",
      "Wall time: 21min 42s\n"
     ]
    }
   ],
   "source": [
    "%%time\n",
    "\n",
    "SGDC_best_params = {'class_weight': 'balanced', 'eta0': 0.2, 'learning_rate': 'adaptive', 'loss': 'modified_huber', 'random_state': 12345}\n",
    "\n",
    "classificator = SGDClassifier()\n",
    "classificator.set_params(**SGDC_best_params)\n",
    "classificator.fit(features_train, target_train)\n",
    "target_predict = classificator.predict(features_valid)\n",
    "valid_f1_SGDC = f1_score(target_valid, target_predict)\n",
    "\n",
    "print('F1 на валидации', valid_f1_SGDC)"
   ]
  },
  {
   "cell_type": "markdown",
   "metadata": {
    "id": "HLDwiK6ISY5E"
   },
   "source": [
    "## Выводы"
   ]
  },
  {
   "cell_type": "code",
   "execution_count": null,
   "metadata": {
    "id": "fo3DzLUySY5F"
   },
   "outputs": [],
   "source": [
    "index = ['LogisticRegression',\n",
    "         'DecisionTreeClassifier',\n",
    "         'SGDClassifier']\n",
    "# data = {'f1 на Train':[cv_f1_LR,\n",
    "#                     cv_f1_DTC,\n",
    "#                     cv_f1_SGDC],\n",
    "#         'f1 на Test':[valid_f1_LR,\n",
    "#                            valid_f1_DTC,\n",
    "#                            valid_f1_SGDC]}\n",
    "data = {'f1 на Test':[valid_f1_LR,\n",
    "                           valid_f1_DTC,\n",
    "                           valid_f1_SGDC]}\n",
    "scores_data = pd.DataFrame(data=data, index=index)\n",
    "scores_data['Выполнение задачи'] = scores_data['f1 на Test'] > 0.75\n",
    "display(scores_data)"
   ]
  },
  {
   "cell_type": "markdown",
   "metadata": {},
   "source": [
    "f1 на Test:   \n",
    "LogisticRegression     0.8131313131313133   \n",
    "DecisionTreeClassifier 0.6968058968058968   \n",
    "SGDClassifier          0.818181818181818   "
   ]
  },
  {
   "cell_type": "markdown",
   "metadata": {},
   "source": [
    "<div class=\"alert alert-block alert-success\">\n",
    "<b>Успех:</b> Отлично, что ты попробовал несколько разных методов борьбы с дисбалансом классов и несколько моделей!\n",
    "</div>"
   ]
  },
  {
   "cell_type": "markdown",
   "metadata": {},
   "source": [
    "### Итого\n",
    "\n",
    "В ходе реализации проекта сделано:\n",
    "\n",
    "Подготовленны данные обучения типа Embeddings при помощи модели BERT.\n",
    "Выбран способ баланса классов и поделены данные на обучающую, валидационную и тестовою выборку.\n",
    "Обучены модели и выбраны лучшие из них на тестовой выборке.\n",
    "\n",
    "В исходных даныых получается очень много фичей. Расчет Embeddings 2тыс записей на CPU длится 7 часов!!!! GridSearchCV считается 5-6 часов. На платном Colab 8 тыс записей BERT считается 1час\n",
    "\n",
    "На тестовой выбоке по F1 лучше всего модель SGDClassifier. При этом результат незначительно превосходит LogisticRegression."
   ]
  },
  {
   "cell_type": "markdown",
   "metadata": {},
   "source": [
    "<div class=\"alert alert-block alert-success\">\n",
    "<b>Успех:</b> Приятно видеть подробный вывод в конце проекта!\n",
    "</div>"
   ]
  },
  {
   "cell_type": "markdown",
   "metadata": {
    "id": "qSYs7unASY5F"
   },
   "source": [
    "## Чек-лист проверки"
   ]
  },
  {
   "cell_type": "markdown",
   "metadata": {
    "id": "uKbX0b6PSY5F"
   },
   "source": [
    "- [x]  Jupyter Notebook открыт\n",
    "- [x]  Весь код выполняется без ошибок\n",
    "- [x]  Ячейки с кодом расположены в порядке исполнения\n",
    "- [x]  Данные загружены и подготовлены\n",
    "- [x]  Модели обучены\n",
    "- [x]  Значение метрики *F1* не меньше 0.75\n",
    "- [x]  Выводы написаны"
   ]
  },
  {
   "cell_type": "code",
   "execution_count": null,
   "metadata": {},
   "outputs": [],
   "source": []
  }
 ],
 "metadata": {
  "accelerator": "GPU",
  "colab": {
   "collapsed_sections": [],
   "name": "8fcd5a04-40fb-4260-89f9-ef0366c38900.ipynb",
   "provenance": []
  },
  "kernelspec": {
   "display_name": "Python 3",
   "language": "python",
   "name": "python3"
  },
  "language_info": {
   "codemirror_mode": {
    "name": "ipython",
    "version": 3
   },
   "file_extension": ".py",
   "mimetype": "text/x-python",
   "name": "python",
   "nbconvert_exporter": "python",
   "pygments_lexer": "ipython3",
   "version": "3.7.8"
  },
  "toc": {
   "base_numbering": 1,
   "nav_menu": {},
   "number_sections": true,
   "sideBar": true,
   "skip_h1_title": true,
   "title_cell": "Содержание",
   "title_sidebar": "Contents",
   "toc_cell": true,
   "toc_position": {
    "height": "calc(100% - 180px)",
    "left": "10px",
    "top": "150px",
    "width": "302.391px"
   },
   "toc_section_display": true,
   "toc_window_display": false
  },
  "widgets": {
   "application/vnd.jupyter.widget-state+json": {
    "09679c163c024f94b5e8078382eda39d": {
     "model_module": "@jupyter-widgets/controls",
     "model_name": "DescriptionStyleModel",
     "state": {
      "_model_module": "@jupyter-widgets/controls",
      "_model_module_version": "1.5.0",
      "_model_name": "DescriptionStyleModel",
      "_view_count": null,
      "_view_module": "@jupyter-widgets/base",
      "_view_module_version": "1.2.0",
      "_view_name": "StyleView",
      "description_width": ""
     }
    },
    "3414b75211b746f1af415fad53324c1c": {
     "model_module": "@jupyter-widgets/base",
     "model_name": "LayoutModel",
     "state": {
      "_model_module": "@jupyter-widgets/base",
      "_model_module_version": "1.2.0",
      "_model_name": "LayoutModel",
      "_view_count": null,
      "_view_module": "@jupyter-widgets/base",
      "_view_module_version": "1.2.0",
      "_view_name": "LayoutView",
      "align_content": null,
      "align_items": null,
      "align_self": null,
      "border": null,
      "bottom": null,
      "display": null,
      "flex": null,
      "flex_flow": null,
      "grid_area": null,
      "grid_auto_columns": null,
      "grid_auto_flow": null,
      "grid_auto_rows": null,
      "grid_column": null,
      "grid_gap": null,
      "grid_row": null,
      "grid_template_areas": null,
      "grid_template_columns": null,
      "grid_template_rows": null,
      "height": null,
      "justify_content": null,
      "justify_items": null,
      "left": null,
      "margin": null,
      "max_height": null,
      "max_width": null,
      "min_height": null,
      "min_width": null,
      "object_fit": null,
      "object_position": null,
      "order": null,
      "overflow": null,
      "overflow_x": null,
      "overflow_y": null,
      "padding": null,
      "right": null,
      "top": null,
      "visibility": null,
      "width": null
     }
    },
    "497cf2a6179346a18bd5bc74975d2231": {
     "model_module": "@jupyter-widgets/base",
     "model_name": "LayoutModel",
     "state": {
      "_model_module": "@jupyter-widgets/base",
      "_model_module_version": "1.2.0",
      "_model_name": "LayoutModel",
      "_view_count": null,
      "_view_module": "@jupyter-widgets/base",
      "_view_module_version": "1.2.0",
      "_view_name": "LayoutView",
      "align_content": null,
      "align_items": null,
      "align_self": null,
      "border": null,
      "bottom": null,
      "display": null,
      "flex": null,
      "flex_flow": null,
      "grid_area": null,
      "grid_auto_columns": null,
      "grid_auto_flow": null,
      "grid_auto_rows": null,
      "grid_column": null,
      "grid_gap": null,
      "grid_row": null,
      "grid_template_areas": null,
      "grid_template_columns": null,
      "grid_template_rows": null,
      "height": null,
      "justify_content": null,
      "justify_items": null,
      "left": null,
      "margin": null,
      "max_height": null,
      "max_width": null,
      "min_height": null,
      "min_width": null,
      "object_fit": null,
      "object_position": null,
      "order": null,
      "overflow": null,
      "overflow_x": null,
      "overflow_y": null,
      "padding": null,
      "right": null,
      "top": null,
      "visibility": null,
      "width": null
     }
    },
    "4f408e84a59d4db3aa02ee556d93a029": {
     "model_module": "@jupyter-widgets/controls",
     "model_name": "HTMLModel",
     "state": {
      "_dom_classes": [],
      "_model_module": "@jupyter-widgets/controls",
      "_model_module_version": "1.5.0",
      "_model_name": "HTMLModel",
      "_view_count": null,
      "_view_module": "@jupyter-widgets/controls",
      "_view_module_version": "1.5.0",
      "_view_name": "HTMLView",
      "description": "",
      "description_tooltip": null,
      "layout": "IPY_MODEL_497cf2a6179346a18bd5bc74975d2231",
      "placeholder": "​",
      "style": "IPY_MODEL_09679c163c024f94b5e8078382eda39d",
      "value": " 250/250 [07:47&lt;00:00,  1.87s/it]"
     }
    },
    "804eae44723049548fc25170798324cb": {
     "model_module": "@jupyter-widgets/controls",
     "model_name": "HBoxModel",
     "state": {
      "_dom_classes": [],
      "_model_module": "@jupyter-widgets/controls",
      "_model_module_version": "1.5.0",
      "_model_name": "HBoxModel",
      "_view_count": null,
      "_view_module": "@jupyter-widgets/controls",
      "_view_module_version": "1.5.0",
      "_view_name": "HBoxView",
      "box_style": "",
      "children": [
       "IPY_MODEL_ad69791cb92b49458b56a81f5a77d583",
       "IPY_MODEL_4f408e84a59d4db3aa02ee556d93a029"
      ],
      "layout": "IPY_MODEL_aad08f15aae4485fb86bca69dd5c156a"
     }
    },
    "aad08f15aae4485fb86bca69dd5c156a": {
     "model_module": "@jupyter-widgets/base",
     "model_name": "LayoutModel",
     "state": {
      "_model_module": "@jupyter-widgets/base",
      "_model_module_version": "1.2.0",
      "_model_name": "LayoutModel",
      "_view_count": null,
      "_view_module": "@jupyter-widgets/base",
      "_view_module_version": "1.2.0",
      "_view_name": "LayoutView",
      "align_content": null,
      "align_items": null,
      "align_self": null,
      "border": null,
      "bottom": null,
      "display": null,
      "flex": null,
      "flex_flow": null,
      "grid_area": null,
      "grid_auto_columns": null,
      "grid_auto_flow": null,
      "grid_auto_rows": null,
      "grid_column": null,
      "grid_gap": null,
      "grid_row": null,
      "grid_template_areas": null,
      "grid_template_columns": null,
      "grid_template_rows": null,
      "height": null,
      "justify_content": null,
      "justify_items": null,
      "left": null,
      "margin": null,
      "max_height": null,
      "max_width": null,
      "min_height": null,
      "min_width": null,
      "object_fit": null,
      "object_position": null,
      "order": null,
      "overflow": null,
      "overflow_x": null,
      "overflow_y": null,
      "padding": null,
      "right": null,
      "top": null,
      "visibility": null,
      "width": null
     }
    },
    "ad69791cb92b49458b56a81f5a77d583": {
     "model_module": "@jupyter-widgets/controls",
     "model_name": "FloatProgressModel",
     "state": {
      "_dom_classes": [],
      "_model_module": "@jupyter-widgets/controls",
      "_model_module_version": "1.5.0",
      "_model_name": "FloatProgressModel",
      "_view_count": null,
      "_view_module": "@jupyter-widgets/controls",
      "_view_module_version": "1.5.0",
      "_view_name": "ProgressView",
      "bar_style": "success",
      "description": "100%",
      "description_tooltip": null,
      "layout": "IPY_MODEL_3414b75211b746f1af415fad53324c1c",
      "max": 250,
      "min": 0,
      "orientation": "horizontal",
      "style": "IPY_MODEL_d47be49a054846d9b78bfe4e3d3c6c85",
      "value": 250
     }
    },
    "d47be49a054846d9b78bfe4e3d3c6c85": {
     "model_module": "@jupyter-widgets/controls",
     "model_name": "ProgressStyleModel",
     "state": {
      "_model_module": "@jupyter-widgets/controls",
      "_model_module_version": "1.5.0",
      "_model_name": "ProgressStyleModel",
      "_view_count": null,
      "_view_module": "@jupyter-widgets/base",
      "_view_module_version": "1.2.0",
      "_view_name": "StyleView",
      "bar_color": null,
      "description_width": "initial"
     }
    }
   }
  }
 },
 "nbformat": 4,
 "nbformat_minor": 4
}
