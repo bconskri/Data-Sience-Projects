{
 "cells": [
  {
   "cell_type": "markdown",
   "metadata": {},
   "source": [
    "Привет! Меня зовут Валерий Гриднев, я провожу ревью твоей работы. Предлагаю общаться на «ты», если не против.\n",
    "\n",
    "В работе ты увидишь комментарии, помеченные разным цветом.\n",
    "\n",
    "<div class=\"alert alert-success\">\n",
    "Зеленым цветом помечены оброзцовые решения. Которые можно использовать в дальнейшем.\n",
    "</div>\n",
    "\n",
    "<div class=\"alert alert-warning\">\n",
    "Желтым цветом отмечено то, что ты можешь улучшить или доработать. Можешь учесть это при выполнении следующих работ или доработать проект сейчас, но это не обязательно.\n",
    "</div>\n",
    "\n",
    "<div class=\"alert alert-danger\">\n",
    "Красным цветом помечены моменты, которые необходимо доработать, чтобы проект был принят. Уверен, что у тебя все получится. Буду ждать твою работу на повторное ревью. \n",
    "</div>\n",
    "\n",
    "Будет комфортнее работать над проектом вместе, если ты будешь **писать об изменениях** в проекте по моим рекомендациям. Для этого выбери для своих комментариев \n",
    "\n",
    "<div class=\"alert alert-block alert-info\">заметный цвет</div>\n",
    "\n",
    "Пожалуйста, **не перемещай, не изменяй и не удаляй мои комментарии**. Всё это поможет выполнить повторную проверку твоего проекта оперативнее.\n",
    "___"
   ]
  },
  {
   "cell_type": "markdown",
   "metadata": {
    "toc": true
   },
   "source": [
    "<h1>Table of Contents<span class=\"tocSkip\"></span></h1>\n",
    "<div class=\"toc\"><ul class=\"toc-item\"><li><span><a href=\"#Подготовка-данных\" data-toc-modified-id=\"Подготовка-данных-1\"><span class=\"toc-item-num\">1&nbsp;&nbsp;</span>Подготовка данных</a></span><ul class=\"toc-item\"><li><span><a href=\"#Изучим-данные\" data-toc-modified-id=\"Изучим-данные-1.1\"><span class=\"toc-item-num\">1.1&nbsp;&nbsp;</span>Изучим данные</a></span></li><li><span><a href=\"#Проведем-преодобработку\" data-toc-modified-id=\"Проведем-преодобработку-1.2\"><span class=\"toc-item-num\">1.2&nbsp;&nbsp;</span>Проведем преодобработку</a></span></li></ul></li><li><span><a href=\"#Обучение-моделей\" data-toc-modified-id=\"Обучение-моделей-2\"><span class=\"toc-item-num\">2&nbsp;&nbsp;</span>Обучение моделей</a></span><ul class=\"toc-item\"><li><span><a href=\"#LGBMRegressor\" data-toc-modified-id=\"LGBMRegressor-2.1\"><span class=\"toc-item-num\">2.1&nbsp;&nbsp;</span>LGBMRegressor</a></span></li><li><span><a href=\"#Linear-Regresssion\" data-toc-modified-id=\"Linear-Regresssion-2.2\"><span class=\"toc-item-num\">2.2&nbsp;&nbsp;</span>Linear Regresssion</a></span></li><li><span><a href=\"#Lasso\" data-toc-modified-id=\"Lasso-2.3\"><span class=\"toc-item-num\">2.3&nbsp;&nbsp;</span>Lasso</a></span></li><li><span><a href=\"#Ridge\" data-toc-modified-id=\"Ridge-2.4\"><span class=\"toc-item-num\">2.4&nbsp;&nbsp;</span>Ridge</a></span></li></ul></li><li><span><a href=\"#Анализ-моделей\" data-toc-modified-id=\"Анализ-моделей-3\"><span class=\"toc-item-num\">3&nbsp;&nbsp;</span>Анализ моделей</a></span></li><li><span><a href=\"#Чек-лист-проверки\" data-toc-modified-id=\"Чек-лист-проверки-4\"><span class=\"toc-item-num\">4&nbsp;&nbsp;</span>Чек-лист проверки</a></span></li></ul></div>"
   ]
  },
  {
   "cell_type": "markdown",
   "metadata": {},
   "source": [
    "# Определение стоимости автомобилей"
   ]
  },
  {
   "cell_type": "markdown",
   "metadata": {},
   "source": [
    "Сервис по продаже автомобилей с пробегом «Не бит, не крашен» разрабатывает приложение для привлечения новых клиентов. В нём можно быстро узнать рыночную стоимость своего автомобиля. В вашем распоряжении исторические данные: технические характеристики, комплектации и цены автомобилей. Вам нужно построить модель для определения стоимости. \n",
    "\n",
    "Заказчику важны:\n",
    "\n",
    "- качество предсказания;\n",
    "- скорость предсказания;\n",
    "- время обучения."
   ]
  },
  {
   "cell_type": "markdown",
   "metadata": {},
   "source": [
    "# Описание данных"
   ]
  },
  {
   "cell_type": "markdown",
   "metadata": {},
   "source": [
    "Данные находятся в файле /datasets/autos.csv.   \n",
    "   \n",
    "**Признаки**   \n",
    "DateCrawled — дата скачивания анкеты из базы   \n",
    "VehicleType — тип автомобильного кузова   \n",
    "RegistrationYear — год регистрации автомобиля   \n",
    "Gearbox — тип коробки передач   \n",
    "Power — мощность (л. с.)    \n",
    "Model — модель автомобиля   \n",
    "Kilometer — пробег (км)   \n",
    "RegistrationMonth — месяц регистрации автомобиля   \n",
    "FuelType — тип топлива   \n",
    "Brand — марка автомобиля   \n",
    "NotRepaired — была машина в ремонте или нет   \n",
    "DateCreated — дата создания анкеты   \n",
    "NumberOfPictures — количество фотографий автомобиля   \n",
    "PostalCode — почтовый индекс владельца анкеты (пользователя)   \n",
    "LastSeen — дата последней активности пользователя   \n",
    "   \n",
    "**Целевой признак**   \n",
    "Price — цена (евро)   "
   ]
  },
  {
   "cell_type": "markdown",
   "metadata": {},
   "source": [
    "<div class=\"alert alert-success\">\n",
    "    \n",
    "**Комментарий ревьюера**\n",
    "    \n",
    "Родион, твоя работа требует правок, пожалуйста сделай их на основе моих комментариев)Всегда рад ответить на твои вопросы и помочь)Ну и конечно не стоит расстраиваться, не ошибается тот, кто ничего не делает)\n",
    "</div>"
   ]
  },
  {
   "cell_type": "markdown",
   "metadata": {},
   "source": [
    "## Подготовка данных"
   ]
  },
  {
   "cell_type": "code",
   "execution_count": null,
   "metadata": {},
   "outputs": [],
   "source": [
    "#!pip install seaborn>=0.11 -U"
   ]
  },
  {
   "cell_type": "code",
   "execution_count": null,
   "metadata": {},
   "outputs": [],
   "source": [
    "#\n",
    "import pandas as pd\n",
    "#\n",
    "pd.set_option('display.float_format', lambda x: '%.3f' % x)\n",
    "pd.set_option(\"precision\", 3)\n",
    "#\n",
    "import matplotlib.pyplot as plt\n",
    "import seaborn as sns\n",
    "import plotly.graph_objects as go\n",
    "from plotly.offline import init_notebook_mode, iplot\n",
    "\n",
    "sns.set_style('darkgrid')\n",
    "#\n",
    "import numpy as np\n",
    "from datetime import datetime\n",
    "from scipy import stats as st\n",
    "#\n",
    "#\n",
    "from sklearn.pipeline import Pipeline\n",
    "from sklearn.model_selection import train_test_split, cross_val_score, GridSearchCV, KFold\n",
    "from sklearn.preprocessing import OneHotEncoder, OrdinalEncoder, StandardScaler, PowerTransformer\n",
    "pd.options.mode.chained_assignment = None\n",
    "#\n",
    "from lightgbm import LGBMRegressor\n",
    "#\n",
    "from sklearn.tree import DecisionTreeClassifier\n",
    "from sklearn.ensemble import RandomForestClassifier, RandomForestRegressor\n",
    "from sklearn.linear_model import LogisticRegression, LinearRegression, Lasso, Ridge\n",
    "from sklearn.dummy import DummyClassifier, DummyRegressor\n",
    "#\n",
    "from sklearn.metrics import accuracy_score, confusion_matrix, recall_score, precision_score, \\\n",
    "                            f1_score, roc_auc_score, roc_curve, mean_squared_error, mean_absolute_error, \\\n",
    "                            make_scorer\n",
    "#\n",
    "from sklearn.utils import shuffle\n",
    "#\n",
    "from IPython.display import display, HTML, display_html\n",
    "#\n",
    "import copy"
   ]
  },
  {
   "cell_type": "markdown",
   "metadata": {},
   "source": [
    "<div class=\"alert alert-success\">\n",
    "    \n",
    "**Комментарий ревьюера**\n",
    "    \n",
    "Я бы рекомендовал не оставлять подобные комментарии при загрузки библиотеку, здесь все стандартные)\n",
    "</div>\n",
    "\n",
    "<div class=\"alert alert-block alert-info\">Комментарии я оставляю в первую очередь для себя. Так как копирую потом типовые блоки из проекта в проект</div>"
   ]
  },
  {
   "cell_type": "markdown",
   "metadata": {},
   "source": [
    "<div class=\"alert alert-success\">\n",
    "    \n",
    "**Комментарий ревьюера v_2**\n",
    "     \n",
    "Оставлять для себя можно на домашнем компьютере)Здесь мы тренируемся делать проекты/отчеты в нужном виде, чтобы все понимали что это за вид сделаны правила, их можно почитать в ноушине)\n",
    "</div>"
   ]
  },
  {
   "cell_type": "markdown",
   "metadata": {},
   "source": [
    "### Изучим данные"
   ]
  },
  {
   "cell_type": "code",
   "execution_count": null,
   "metadata": {
    "scrolled": true
   },
   "outputs": [],
   "source": [
    "%%time\n",
    "\n",
    "#откроем датасет\n",
    "#преобразуем колонки c датой и временем к DateTime сразу при открытии\n",
    "dates_columns = ['DateCrawled','DateCreated','LastSeen']\n",
    "df = pd.read_csv('/datasets/autos.csv', parse_dates=dates_columns)\n",
    "df.name = 'autos'\n",
    "\n",
    "print('Таблица',df.name)\n",
    "#столбцы к нижнему регистру\n",
    "df.columns = df.columns.str.lower()\n",
    "#\n",
    "display(df.head(5))\n",
    "display('Размерность данных:', df.shape)\n",
    "display('Типы:', df.dtypes)"
   ]
  },
  {
   "cell_type": "markdown",
   "metadata": {},
   "source": [
    "Даты преобразованы сразу при открытии данных. Остальные типы корректны. Присутствуют неифномативные для моделирования колонки 'postalcode', 'lastseen', 'numberofpictures'. Идет дублирование дат. Оценим количество пустых значений в колонках"
   ]
  },
  {
   "cell_type": "code",
   "execution_count": null,
   "metadata": {},
   "outputs": [],
   "source": [
    "#посмотрим диапазоны значений по полям\n",
    "print(df.name, ' describe ')\n",
    "display(df.describe())"
   ]
  },
  {
   "cell_type": "markdown",
   "metadata": {},
   "source": [
    "В столбце RegistrationYear существуют некорректные значения года регистрации.\n",
    "В столбце RegistrationMonth отсутсвует месяц регистрации.\n",
    "В столбце Power присутвует некорректное значение мощности."
   ]
  },
  {
   "cell_type": "code",
   "execution_count": null,
   "metadata": {},
   "outputs": [],
   "source": [
    "def na_persentage(dat):\n",
    "    print('Доля нулевых значений:')\n",
    "    gaps_in_the_data = (pd\n",
    "                        .DataFrame({'percent_of_nulls':dat.isna().sum()/len(dat)})\n",
    "                        .sort_values(by='percent_of_nulls', ascending=False)\n",
    "                       )\n",
    "    gaps_in_the_data['percent_of_nulls'] = gaps_in_the_data['percent_of_nulls'].map(lambda x: '{:.2%}'.format(x))\n",
    "    display(gaps_in_the_data)\n",
    "\n",
    "na_persentage(df)\n",
    "#Посчитаем количество полных дубликатов\n",
    "print('Количество полных дубликатов:', df.duplicated().sum())\n",
    "print()"
   ]
  },
  {
   "cell_type": "markdown",
   "metadata": {},
   "source": [
    "Много нулевых значений в полях: notrepaired, vehicletype, fueltype, gearbox\t, model.      \n",
    "Количество полных строковых дубликатов: 4   "
   ]
  },
  {
   "cell_type": "code",
   "execution_count": null,
   "metadata": {},
   "outputs": [],
   "source": [
    "#посмотрим состав категоральных\n",
    "print('Уникальных значений категоральных переменных:')\n",
    "for feature in df.select_dtypes('object'):\n",
    "    print(feature, ':', len(df[feature].unique()))\n",
    "        \n",
    "display('Состав категоральных переменных:')\n",
    "for feature in df.select_dtypes('object'):\n",
    "    print()\n",
    "    print(feature)\n",
    "    print(df[feature].value_counts(dropna=False))"
   ]
  },
  {
   "cell_type": "code",
   "execution_count": null,
   "metadata": {},
   "outputs": [],
   "source": [
    "flag_nographics = True\n",
    "\n",
    "number_column = ['price', 'power', 'kilometer']\n",
    "if (not flag_nographics):\n",
    "    #посмотрим распределение числовых данных\n",
    "    #нарисуем violine\n",
    "    data = []\n",
    "    buttons_list = []\n",
    "    i = 0\n",
    "    l = len(number_column)\n",
    "    for feature in number_column:\n",
    "        data.append(\n",
    "            go.Violin(y=df[feature], box_visible=True, line_color='black', \n",
    "                      meanline_visible=True, fillcolor='lightseagreen', \n",
    "                      opacity=0.6, x0=str(feature), visible=(feature == 'price'))\n",
    "        )\n",
    "        buttons_list.append(\n",
    "            dict(\n",
    "                args=['visible', [False]*i + [True] + [False]*(l-i-1)],\n",
    "                label=str(feature),\n",
    "                method='restyle'\n",
    "            ),\n",
    "        )\n",
    "        i += 1\n",
    "\n",
    "        layouts = go.Layout(\n",
    "            title='Рспределение числовых признаков',\n",
    "            updatemenus=list([\n",
    "                dict(\n",
    "                    x=-0.05,\n",
    "                    y=1,\n",
    "                    yanchor='top',\n",
    "                    buttons=buttons_list,\n",
    "                )\n",
    "            ]),\n",
    "        )\n",
    "\n",
    "        fig = {'data': data, 'layout': layouts}\n",
    "        iplot(fig, show_link=False)\n",
    "\n",
    "        print('\\nКоэффициенты корреляции для', df.name, number_column)\n",
    "        display(df[number_column].corr())\n",
    "        sns.pairplot(df[number_column])\n",
    "\n",
    "        plt.show()"
   ]
  },
  {
   "cell_type": "markdown",
   "metadata": {},
   "source": [
    "**Выводы:**   \n",
    "\n",
    "Столбцы, требующие обработки:\n",
    "- vehicletype. Восстановим пропущенные значения по наиболее часто встречающемуся типу из столбца model.\n",
    "- gearbox. Для всех NaN установим значение 'manual'.\n",
    "- power. Скоректируем на основе реальных значений в машинах.   \n",
    "- fueltype. Восстановим пропущенные значения по по наиболее часто встречающемуся типу из столбца model.\n",
    "- notrepaired. Для всех NaN установим значение 'yes'. \n",
    "- registrationyear. Скоректируем на основе реальных значений в машинах.\n",
    "- model. Для всех NaN установим значение 'unknown'.      \n",
    "- price. Есть значения цены 0 и есть отдельные выбросы высоких цен.\n",
    "\n",
    "Распределения числовых признаков нормальные. Неадекватных выбросов нет. Возможно только в мощности. Но решено оставить данные, так как можно потерять уникальные значения.   \n",
    "Мультиколлинеарности между числовые признаками не обнаружено.   "
   ]
  },
  {
   "cell_type": "markdown",
   "metadata": {},
   "source": [
    "### Проведем преодобработку"
   ]
  },
  {
   "cell_type": "code",
   "execution_count": null,
   "metadata": {},
   "outputs": [],
   "source": [
    "#избавимся от неинформативных для моделирования колонок 'postalcode', 'lastseen', 'numberofpictures'\n",
    "dfp = df.copy(deep=True)\n",
    "dfp.drop(['postalcode', 'lastseen', 'numberofpictures','datecrawled','datecreated', 'registrationmonth'], \n",
    "         axis=1, inplace=True)"
   ]
  },
  {
   "cell_type": "markdown",
   "metadata": {},
   "source": [
    "Заменим модель тип авто vehicletype наиболее встречающимся из модели model"
   ]
  },
  {
   "cell_type": "code",
   "execution_count": null,
   "metadata": {},
   "outputs": [],
   "source": [
    "def fill_by_moda(dat, find, replace):\n",
    "    find_replace_dict = dat.groupby(find)[replace].agg(\n",
    "        lambda x: x.value_counts().index[0]).to_dict()\n",
    "\n",
    "    def replace_by_find(dat):\n",
    "        if (not pd.isna(dat[replace])):\n",
    "            return dat[replace]\n",
    "        elif (not pd.isna(dat[find])):\n",
    "            return find_replace_dict[dat[find]]\n",
    "        else:\n",
    "            return str('NaN')\n",
    "\n",
    "    dfp[replace] = dfp[[replace,\n",
    "                              find]].apply(replace_by_find, axis=1)\n",
    "    \n",
    "fill_by_moda(dfp, 'model', 'vehicletype')"
   ]
  },
  {
   "cell_type": "markdown",
   "metadata": {},
   "source": [
    "gearbox. Для всех NaN установим значение 'manual'."
   ]
  },
  {
   "cell_type": "code",
   "execution_count": null,
   "metadata": {},
   "outputs": [],
   "source": [
    "# если notrepaired пропущено, считаем, что ремонта не было и продавцу нечего указывать\n",
    "dfp['gearbox'].fillna('manual', inplace=True)"
   ]
  },
  {
   "cell_type": "markdown",
   "metadata": {},
   "source": [
    "fueltype. Восстановим пропущенные значения по по наиболее часто встречающемуся типу из столбца model."
   ]
  },
  {
   "cell_type": "code",
   "execution_count": null,
   "metadata": {},
   "outputs": [],
   "source": [
    "fill_by_moda(dfp, 'model', 'fueltype')"
   ]
  },
  {
   "cell_type": "markdown",
   "metadata": {},
   "source": [
    "notrepaired. Для всех NaN установим значение 'yes"
   ]
  },
  {
   "cell_type": "code",
   "execution_count": null,
   "metadata": {},
   "outputs": [],
   "source": [
    "# если notrepaired пропущено, считаем, что ремонта не было и продавцу нечего указывать\n",
    "dfp['notrepaired'].fillna('yes', inplace=True)"
   ]
  },
  {
   "cell_type": "markdown",
   "metadata": {},
   "source": [
    "model. Для всех NaN установим значение 'unknown'"
   ]
  },
  {
   "cell_type": "code",
   "execution_count": null,
   "metadata": {},
   "outputs": [],
   "source": [
    "dfp['model'].fillna('unknown', inplace=True)"
   ]
  },
  {
   "cell_type": "markdown",
   "metadata": {},
   "source": [
    "price. Есть значения цены 0 и есть отдельные выбросы высоких цен."
   ]
  },
  {
   "cell_type": "code",
   "execution_count": null,
   "metadata": {},
   "outputs": [],
   "source": [
    "display(dfp['price'].value_counts())\n",
    "display(dfp['price'].quantile([.05, 0.85]))"
   ]
  },
  {
   "cell_type": "markdown",
   "metadata": {},
   "source": [
    "Есть 8234 записи с нулевой ценой. Они нам точно не нужны для моделирования. Также цена авто ниже 350евро кажется нецелесообразной для моделирования."
   ]
  },
  {
   "cell_type": "code",
   "execution_count": null,
   "metadata": {},
   "outputs": [],
   "source": [
    "#версия 1 когда не ограничиваем цену сверху\n",
    "#dfp = dfp.query('price >= 350')\n",
    "\n",
    "#версия 2. когда не ограничиваем цену сверху 85% квантилем\n",
    "dfp = dfp.query('9000 >= price >= 350')\n",
    "\n",
    "dfp['price'].hist(bins=100, figsize=(12,9))"
   ]
  },
  {
   "cell_type": "markdown",
   "metadata": {},
   "source": [
    "power. Скоректируем на основе реальных значений в машинах. "
   ]
  },
  {
   "cell_type": "code",
   "execution_count": null,
   "metadata": {
    "code_folding": []
   },
   "outputs": [],
   "source": [
    "display(dfp['power'].value_counts())\n",
    "display(dfp['power'].describe())\n",
    "dfp['power'].hist(bins=100, figsize=(12,9))"
   ]
  },
  {
   "cell_type": "markdown",
   "metadata": {},
   "source": [
    "Очень большой диапазон. Усечем его и уберем нулевую мощность - значения, которые неоткуда восстановить"
   ]
  },
  {
   "cell_type": "code",
   "execution_count": null,
   "metadata": {},
   "outputs": [],
   "source": [
    "dfp = dfp.query('0 < power < 900')\n",
    "dfp['power'].describe()\n",
    "dfp['power'].hist(bins=100, figsize=(12,9))"
   ]
  },
  {
   "cell_type": "markdown",
   "metadata": {},
   "source": [
    "Из гистограммы видно, что целесообразно оставить мощность до 400 л.с"
   ]
  },
  {
   "cell_type": "code",
   "execution_count": null,
   "metadata": {},
   "outputs": [],
   "source": [
    "dfp = dfp.query('0 < power <= 400')"
   ]
  },
  {
   "cell_type": "markdown",
   "metadata": {},
   "source": [
    "registrationyear. Скоректируем на основе реальных значений в машинах."
   ]
  },
  {
   "cell_type": "code",
   "execution_count": null,
   "metadata": {},
   "outputs": [],
   "source": [
    "dfp = dfp.query('0 < registrationyear')\n",
    "display(dfp['registrationyear'].value_counts())\n",
    "display(dfp['registrationyear'].describe())\n",
    "dfp['registrationyear'].hist(bins=100, figsize=(12,9))"
   ]
  },
  {
   "cell_type": "markdown",
   "metadata": {},
   "source": [
    "Очень большой диапазон. Усечем его"
   ]
  },
  {
   "cell_type": "markdown",
   "metadata": {},
   "source": [
    "Определим максимальнуюдатускаченной анкеты, чтобы определить верхнюю границу дат регистрации"
   ]
  },
  {
   "cell_type": "code",
   "execution_count": null,
   "metadata": {},
   "outputs": [],
   "source": [
    "print(df['datecrawled'].max())"
   ]
  },
  {
   "cell_type": "code",
   "execution_count": null,
   "metadata": {},
   "outputs": [],
   "source": [
    "dfp = dfp.query('1960 < registrationyear < 2017')\n",
    "dfp['registrationyear'].hist(bins=100, figsize=(12,9))"
   ]
  },
  {
   "cell_type": "markdown",
   "metadata": {},
   "source": [
    "Заменим данные в столбцах Gearbox и NotRepaired на булево.\n",
    "\n",
    "- Gearbox: 1 - означает механическую коробку передач. 0 - автоматическую.\n",
    "- NotRepaired: 1 - означает машину без ремонта. 0 - с ремонтом."
   ]
  },
  {
   "cell_type": "code",
   "execution_count": null,
   "metadata": {},
   "outputs": [],
   "source": [
    "dfp['manualgearbox'] = 0\n",
    "dfp.loc[dfp['gearbox'] == 'manual', 'manualgearbox'] = 1\n",
    "display(dfp['manualgearbox'].value_counts())\n",
    "display(dfp['gearbox'].value_counts())"
   ]
  },
  {
   "cell_type": "code",
   "execution_count": null,
   "metadata": {},
   "outputs": [],
   "source": [
    "dfp['not_repaired'] = 0\n",
    "dfp.loc[dfp['notrepaired'] == 'yes', 'not_repaired'] = 1\n",
    "display(dfp['not_repaired'].value_counts())\n",
    "display(dfp['notrepaired'].value_counts())\n",
    "\n",
    "dfp.drop(['gearbox', 'notrepaired'], axis=1, inplace=True)"
   ]
  },
  {
   "cell_type": "code",
   "execution_count": null,
   "metadata": {},
   "outputs": [],
   "source": [
    "#снова посчитаем количество полных дубликатов после всех преобразований\n",
    "print('Количество полных дубликатов:', dfp.duplicated().sum())"
   ]
  },
  {
   "cell_type": "markdown",
   "metadata": {},
   "source": [
    "Видно, что нулевые значения мы заполнили. Но при удалении даты LastSeen появилось много дублей. Необходимо их удалить."
   ]
  },
  {
   "cell_type": "code",
   "execution_count": null,
   "metadata": {},
   "outputs": [],
   "source": [
    "#удалим полные дубликаты\n",
    "dfp.drop_duplicates(keep='first', inplace=True)\n",
    "\n",
    "#енкодеры не работают с Nan. Заполним строкой \"Nan\"\n",
    "dfp.fillna(\"NaN\", inplace=True)\n",
    "\n",
    "display(dfp.head(5))"
   ]
  },
  {
   "cell_type": "markdown",
   "metadata": {},
   "source": [
    "<div class=\"alert alert-warning\">\n",
    "    \n",
    "**Комментарий ревьюера**\n",
    "    \n",
    "Сколько всего данных мы потеряли? Можем ли мы терять такой процент? Как думаешь, как такое сказывается на бизнесе?)\n",
    "</div>\n",
    "\n",
    "<div class=\"alert alert-block alert-info\">\n",
    "    Данные с точки зрения бизнеса мы не потеряли совсем, так как я удаляю только полные дубли, которые возникли из-за LastSeen. Т.е. одно и то же обявление просматривали несколько раз и каждый такой раз попал в выгрузку. Я это проверял пристальным вниманием на один из дублей. Просто большой и мусорный код получется ручной выборки - не стал оставлять в проекте. Оставил толоко вывод\n",
    "</div>"
   ]
  },
  {
   "cell_type": "markdown",
   "metadata": {},
   "source": [
    "<div class=\"alert alert-success\">\n",
    "    \n",
    "**Комментарий ревьюера v_2**\n",
    "     \n",
    "Только сразу стоило это написать)И пояснить)\n",
    "    \n",
    "Про большой и мусорный код понимаю, просто оставляй об этом упоминание)\n",
    "</div>"
   ]
  },
  {
   "cell_type": "markdown",
   "metadata": {},
   "source": [
    "## Обучение моделей"
   ]
  },
  {
   "cell_type": "markdown",
   "metadata": {},
   "source": [
    "<div class=\"alert alert-danger\">\n",
    "    \n",
    "**Комментарий ревьюера v_2**\n",
    "     \n",
    "Родион, не увидел дальше изменения в работе. \n",
    "    \n",
    "1) ** [Warning] No further splits with positive gain, best gain: -inf** - ты видел данное предупреждение, что думаешь? Откуда оно и почему появилось?)\n",
    "    \n",
    "2)Писал в прошлой итерации про то, какое значение метрики должно быть достигнуто)\n",
    "    \n",
    "Может произошла какая-то ошибка и что-то не сохранилось? Вопросов нет, но и доработок в этом блоке нет. Давай, чтобы не тратить время, пожалуйста напиши мне через куратора вопросы и в чем дело, постараюсь оперативно ответить, чтобы мы быстренько разобрались со всеми вопросами)Вот видео про бустинги, раз с ними возникают вопросы)\n",
    "    \n",
    "https://gb.ru/events/3247?fbclid=IwAR39qhpriB8ASe-1yMI5osMOFEh25IquJ77fLQxTcyVlSbmqHmurvhh_d1M\n",
    "    \n",
    "https://www.youtube.com/watch?v=UYDwhuyWYSo&ab_channel=ComputerScienceCenter\n",
    "    \n",
    "    \n",
    "</div>\n",
    "\n",
    "<div class=\"alert alert-danger\">\n",
    "Родион, еще раз здравствуй) Напишу тебе несколько пунктов улучшения работы(часть из них я уже писал в ревью) сделав которые, ты сможешь добиться нужного результата.\n",
    "1)Приведи в порядок структуру работы. Убери огромные функции не имеющие никакого смысла)Всё можно сделать компактнее и красивее)\n",
    "2)Ты идешь от сложного и поэтому теряешься в решении. Советую делать каждую работу по примерно такому алгоритму.\n",
    "Посмотрел кратко данные и сделал первые пометки и замечания\n",
    "Сделал небольшую предобработку, разделил и стандартизировал выборки\n",
    "Создал базовую модель и проверил ее результат\n",
    "И уже только после этого добавлять признаки, которые мы исследуем, добавлять новые модели. Смотреть как зависит результат от того или иного варианта заполнения. И всегда держать в голове, если есть копипаст или огромные ячейки с кодом, скорее всего где-то ты свернул не на ту дорогу)\n",
    "3)У тебя сначала идет стандартизация , потом ты всё обучил и зачем-то делаешь новое разделение и всё заново. Странно это всё)\n",
    "4)Ну и главные ошибки, которые на мой взгляд должны всё ломать)\n",
    "Рис_1.Ты стандартизировал данные, а потом кодируешь абсолютно всё, а не только категориальные признаки\n",
    "Рис_2.Какое-то странное преобразование после того, что мы уже и стандартизировали и закодировали)Делать это если и нужно, то до)\n",
    "Доп материалы по кодированию и стандартизации)\n",
    "    \n",
    "https://habr.com/ru/search/?q=%D0%BA%D0%B0%D1%82%D0%B5%D0%B3%D0%BE%D1%80%D0%B8%D0%B0%D0%BB%D1%8C%D0%BD%D1%8B%D0%B5+%D0%BF%D1%80%D0%B8%D0%B7%D0%BD%D0%B0%D0%BA%D0%B8#h\n",
    "    \n",
    "https://habr.com/ru/post/527334/\n",
    "    \n",
    "https://habr.com/ru/post/527860/\n",
    "    \n",
    "Ну и конечно если что-то непонятно, всегда рад еще раз объяснить)Худший студент тот, который не хочет получать знания, а тем кому интересно всегда одно удовольствие помогать)\n",
    "</div>\n"
   ]
  },
  {
   "cell_type": "markdown",
   "metadata": {},
   "source": [
    "<div class=\"alert alert-block alert-info\">\n",
    "   \n",
    "    \n",
    "1) Переделал все согласно всем рекомендациям.\n",
    "\n",
    "2) Нашел значительные недоработки в предобработке gearbox, fueltype, price, power, registrationyear  \n",
    "\n",
    "3) действительно была значительная ошибка, что кодировалось все, не только категориальные фичи    \n",
    "    \n",
    "4) Заменил данные в столбцах Gearbox и NotRepaired на булево, чтобы проще и точнее обучать модель.    \n",
    "\n",
    "5) Вообще не нашел что такое No further splits with positive gain, best gain: -inf. Точнее из документации понял только, что вроде бы как не происходит снижения Loss Function при переходе в ветвление по листьям. На это согласно документации должно влиять - min_split_gain. Но как не меняй параметр ничего толком в результате не меняется. Странно.\n",
    "\n",
    "6) Перепробовал из документации   \n",
    "    \n",
    "    -For Better Accuracy\n",
    "    \n",
    "    - Use large max_bin (may be slower)\n",
    "    \n",
    "    - Use small learning_rate with large num_iterations\n",
    "    \n",
    "    - Use large num_leaves (may cause over-fitting)\n",
    "Не помогает ничего. Ничего не виляется на RMSE.\n",
    "    \n",
    "Это первый проект, когда полный дата сет без удаления **таргетов** не дает нормального обучения моделей с самого начала моего обучения в DS. И я так и не выяснил причину. Обычнно изменение гипермаркетов хоть как-то влияло на результ. Тут нет.\n",
    "    \n",
    "LGBMRegressor начинает обучаться с 4743.915883 заканчивает 4140.391378292295\n",
    "\n",
    "LinerRegression дает 4217.804165595168\n",
    "    \n",
    "7) **Влияет только одно, что я и написал на второй итерации. Это просто надо срезать сверху price**. \n",
    "\n",
    "**Вот тогда да RMSE уменьшается при обучении с 3299.183016 до 2158**\n",
    "    \n",
    "LinerRegression дает 2303.701258873211\n",
    "    \n",
    "Но мне кажется это подгон. Так можно отрезать все что дороже 5000 тыс и получить RMSE 500. Я не понимаю, почему мы должны просто выкинуть из бизнес данных цены выше каких-то. Мало ли что и за какие деньги народ продает?!. Почему модели дают такую большу ошибку, если мы используем полный обьем данных Price?\n",
    "</div>"
   ]
  },
  {
   "attachments": {
    "image.png": {
     "image/png": "[encoded data removed]"
    }
   },
   "cell_type": "markdown",
   "metadata": {},
   "source": [
    "<div class=\"alert alert-success\">\n",
    "    \n",
    "**Комментарий ревьюера v_3**\n",
    "\n",
    "Снова здравствуй)Твоя работа очень тяжелая из-за графиков, по которым нет выводов и в принципе они не особо и нужны)Советую больше не использовать эту функцию)Рисуй руками только нужные фичи, а так это выглядит не очень, плюс замедляет проверку)Только с 4 попытки открылась работа)\n",
    "    \n",
    "1-4 ок)\n",
    "    \n",
    "5)Ты действительно подбирал все параметры?)![image.png](attachment:image.png)\n",
    "    \n",
    "6)Выбросы в таргетах удалять мы должны)А вот удалять строки где таргет норм, а чего-то не хватает стоит только в крайнем случае.\n",
    "    \n",
    "7)Перед обучением выведи фичи и таргет. У тебя совпадают индексы? \n",
    "    \n",
    "Про \"за какие деньги народ продает\") Это конечно да, но у нас сервис должен предоставлять адекватную оценку, а не подстраиваться под \"я люблю это машину, поэтому меньше чем за лям не отдам\")\n",
    "    \n",
    "Когда у тебя дедлайн? Давай сделаем так, если он уже подгорает, напиши мне просто после выводов базовую модель очищенную от выбросов, как писал тебе алгоритм, уверен что не выставляя кучу параметров она тебе даст решение в районе 2500. Если дедлайн терпит, доработай данную работу, но пожалуйста в отдельном блокноте, здесь уже путаница идёт, и пришли мне через Валерию)Вроде ответил на всё)Если что, напиши вопрос еще раз)\n",
    "    \n",
    "P.S. Обязательно посмотри индексы таргетов и фичей, если не совпадают, найди почему и исправь)\n",
    "</div>"
   ]
  },
  {
   "cell_type": "markdown",
   "metadata": {},
   "source": [
    "<div class=\"alert alert-block alert-info\">\n",
    "Приветсвую)\n",
    "    \n",
    "**Последняя версия v_4 доработки**\n",
    "\n",
    "Лишнюю графику отключил\n",
    "    \n",
    "5) В задании написано:\n",
    "    \n",
    "    Поскольку модель градиентного бустинга может обучаться долго, измените у неё только два-три параметра.\n",
    "    \n",
    "Я в GridSearch перебирал 4:\n",
    "    \n",
    "    'learning_rate': [i for i in [0.008, 0.05]],\n",
    "        \n",
    "    'n_estimators': [i for i in [100, 1000]],\n",
    "        \n",
    "    'max_depth': [i for i in range(2, 4, 1)],\n",
    "        \n",
    "    'num_leaves': [i for i in [50, 100]]\n",
    "\n",
    "Остальные руками менял хотя бы по разу и смотрел вообще что-то меняется или нет.\n",
    "\n",
    "6) Где таргет норм я не удалял. В предобработке я удалили выбросы по алгоритму:\n",
    "    \n",
    "    display(dfp['price'].quantile([.05, 0.85]))\n",
    "    \n",
    "    Есть 8234 записи с нулевой ценой. Они нам точно не нужны для моделирования. Также цена авто ниже 350евро кажется нецелесообразной для моделирования.\n",
    "    \n",
    "    #ограничиваем цену сверху 85% квантилем\n",
    "    dfp = dfp.query('9000 >= price >= 350')\n",
    "    \n",
    "Считаю данную предобработку в приницпе адекватной поставленной задаче. В боевых условиях я наверное бы попробовал просто разбить цену на страты и прогнозить в каждой страте отдельно. Так в машинах до 1000 евро и 200 огромная погрешность 20%. А в машинах 20тыс евро и 3 тыс не так много 15%\n",
    "    \n",
    "7) Я честно не понял почему работа не принята с комментами желтыми как ответы на вопросы). Так как я переделал всю работу с фичами, убрал выбросы из price и получил как требовалось \n",
    "    \n",
    "**RMSE LGBMRegressor 2158**)\n",
    "    \n",
    "RMSE Liner 2303)\n",
    "    \n",
    "Просто оставил вопрос, что не сталкивался еще за время обучения с таким поведением моделей с датасетом, что как ни крути пока в таргете выбросы не удалишь совсем криво прогнозят.\n",
    "    \n",
    "    **Дедлайн не терпит совсем**. Так как у меня следующий спринт \"Временные ряды\" длиной в неделю до 23.05 и теория и проект - первый раз так. В итоге сегодня последний день мягкого дедлайна по спринту, а к проекту \"Временные ряды\" у меня нет доступа, так как текущий не принят.\n",
    "    \n",
    "8) Проверил индексы таргетов и фичей и нашел большую ошибку прошлой доработки. Когда я исправлял кодирование только категориальных побил индексы. После исправления RMSE понизился значительно. Теперь дажн если вообще не удалять выбросы по таргету то RMSE LGBM 2018 что совсем неплохо.\n",
    "**Огромное спасибо за помощь**\n",
    "\n",
    "</div>"
   ]
  },
  {
   "cell_type": "markdown",
   "metadata": {},
   "source": [
    "<div class=\"alert alert-success\">\n",
    "    \n",
    "**Комментарий ревьюера v_4**\n",
    "    \n",
    "Так)ну всё кроме 7 Ок)А про 7, я хотел убедиться, что ты полностью разобрался и избавился от всех вопросов)Если это так)Работу принимаю)Если что пиши через куратора)Спасибо за работу!)\n",
    "</div>"
   ]
  },
  {
   "cell_type": "code",
   "execution_count": null,
   "metadata": {},
   "outputs": [],
   "source": [
    "#построим heatmap\n",
    "#plt.figure(figsize=(15, 10))\n",
    "#sns.heatmap(dfp.corr())\n",
    "\n",
    "features = dfp.drop(['price'], axis=1)\n",
    "target = dfp['price']\n",
    "\n",
    "features_train, features_valid, target_train, target_valid = train_test_split(\n",
    "    features, target, test_size=0.25, random_state=12345)\n",
    "\n",
    "categorical = features.select_dtypes(\n",
    "    include='object').columns.to_list()\n",
    "print('Категориальные поля:', categorical)\n",
    "numeric = features.select_dtypes(\n",
    "    include='number').columns.to_list()\n",
    "print('Числовые поля:', numeric)\n",
    "\n",
    "#проведем масштабирование признаков\n",
    "scaler = StandardScaler()\n",
    "scaler.fit(features_train[numeric]) \n",
    "features_train[numeric] = scaler.transform(features_train[numeric])\n",
    "features_valid[numeric] = scaler.transform(features_valid[numeric]) \n",
    "\n",
    "#закодируем категориальные переменные\n",
    "#при этом OrdinalEncoder возвращает тип array\n",
    "#оставим структуру DataFrame Pandas\n",
    "encoder = OrdinalEncoder()\n",
    "features_train[categorical] = encoder.fit_transform(features_train[categorical])\n",
    "features_valid[categorical] = encoder.fit_transform(features_valid[categorical])\n",
    "\n",
    "display(features_train)\n",
    "display(target_train)"
   ]
  },
  {
   "cell_type": "markdown",
   "metadata": {},
   "source": [
    "### LGBMRegressor"
   ]
  },
  {
   "cell_type": "code",
   "execution_count": null,
   "metadata": {},
   "outputs": [],
   "source": [
    "%%time\n",
    "#LGBM чтобы не усложнять указанием колонок с префиксом name:\n",
    "#работает с типом категориальных переменных \"category\" вместо \"object\"\n",
    "for i in range(len(categorical)):\n",
    "    features_train[categorical[i]] = features_train[categorical[i]].astype(\n",
    "        \"category\")\n",
    "    features_valid[categorical[i]] = features_valid[categorical[i]].astype(\n",
    "        \"category\")\n",
    "\n",
    "local_machine = False\n",
    "\n",
    "if local_machine:\n",
    "    params_lgbm = {\n",
    "        'learning_rate': [i for i in [0.008, 0.05]],\n",
    "        'n_estimators': [i for i in [100, 1000]],\n",
    "        'max_depth': [i for i in range(2, 4, 1)],\n",
    "        'num_leaves': [i for i in [50, 100]]\n",
    "    }\n",
    "\n",
    "    #применим KFold с shuffle, вместо простого указания кол-ва выборок кроссвалидации\n",
    "    kf = KFold(n_splits=3, shuffle=True, random_state=12345)\n",
    "    #\n",
    "    lgbm = LGBMRegressor(boosting_type='gbdt',\n",
    "                         max_bin=255,\n",
    "                         subsample_for_bin=50000,\n",
    "                         min_split_gain=0,\n",
    "                         min_child_weight=3,\n",
    "                         min_child_samples=10,\n",
    "                         subsample=0.3,\n",
    "                         subsample_freq=1,\n",
    "                         colsample_bytree=0.5,\n",
    "                         reg_alpha=0.1,\n",
    "                         reg_lambda=0,\n",
    "                         seed=38,\n",
    "                         silent=False)\n",
    "\n",
    "    grid_lgbm = GridSearchCV(estimator=lgbm,\n",
    "                             param_grid=params_lgbm,\n",
    "                             cv=kf,\n",
    "                             scoring='neg_mean_squared_error',\n",
    "                             n_jobs=-1)\n",
    "    grid_lgbm.fit(features_train, target_train, verbose=0)\n",
    "    print(\n",
    "    \"RMSE на валидационной выборке: \",\n",
    "    mean_squared_error(\n",
    "        target_valid, grid_lgbm.best_estimator_.predict(features_valid))**(.5))\n",
    "    print(grid_lgbm.best_params_)\n",
    "else:\n",
    "    lgbm = LGBMRegressor(boosting_type='gbdt',\n",
    "                         learning_rate = 0.05,\n",
    "                         max_depth = 3,\n",
    "                         n_estimators = 1000,\n",
    "                         num_leaves = 100,\n",
    "                         max_bin=255,\n",
    "                         subsample_for_bin=50000,\n",
    "                         min_split_gain=0.1,\n",
    "                         min_child_weight=3,\n",
    "                         min_child_samples=10,\n",
    "                         min_data_in_leaf=10,\n",
    "                         subsample=0.3,\n",
    "                         subsample_freq=1,\n",
    "                         colsample_bytree=0.5,\n",
    "                         reg_alpha=0.1,\n",
    "                         reg_lambda=0,\n",
    "                         seed=38,\n",
    "                         silent=False,\n",
    "                         random_state=12345)\n",
    "    lgbm.fit(features_train, target_train, verbose=0)\n",
    "    print(\n",
    "    \"RMSE на валидационной выборке: \",\n",
    "    mean_squared_error(\n",
    "        target_valid, lgbm.predict(features_valid))**(.5))\n"
   ]
  },
  {
   "cell_type": "markdown",
   "metadata": {},
   "source": [
    "RMSE на валидационной выборке:  1232.1084175837748"
   ]
  },
  {
   "cell_type": "markdown",
   "metadata": {},
   "source": [
    "<div class=\"alert alert-success\">\n",
    "    \n",
    "**Комментарий ревьюера**\n",
    "    \n",
    "За kfold сразу лайк)Молодец) Пожалуйста подбери гиперпараметры локально, и обучи только на них, т.к. сервера умирают)\n",
    "</div>"
   ]
  },
  {
   "cell_type": "markdown",
   "metadata": {},
   "source": [
    "### Linear Regresssion"
   ]
  },
  {
   "cell_type": "code",
   "execution_count": null,
   "metadata": {},
   "outputs": [],
   "source": [
    "%%time\n",
    "\n",
    "LinearReg = LinearRegression(normalize=True)\n",
    "LinearReg.fit(features_train, target_train);"
   ]
  },
  {
   "cell_type": "code",
   "execution_count": null,
   "metadata": {},
   "outputs": [],
   "source": [
    "%%time\n",
    "LR_predict = LinearReg.predict(features_valid)\n",
    "mean_squared_error(target_valid, LR_predict)**(.5)"
   ]
  },
  {
   "cell_type": "markdown",
   "metadata": {},
   "source": [
    "### Lasso"
   ]
  },
  {
   "cell_type": "code",
   "execution_count": null,
   "metadata": {},
   "outputs": [],
   "source": [
    "%%time\n",
    "lasso = Lasso(normalize=True)\n",
    "lasso.fit(features_train, target_train);"
   ]
  },
  {
   "cell_type": "code",
   "execution_count": null,
   "metadata": {},
   "outputs": [],
   "source": [
    "%%time\n",
    "lasso_predict = lasso.predict(features_valid)\n",
    "mean_squared_error(target_valid, lasso_predict)**(.5)"
   ]
  },
  {
   "cell_type": "markdown",
   "metadata": {},
   "source": [
    "### Ridge"
   ]
  },
  {
   "cell_type": "code",
   "execution_count": null,
   "metadata": {},
   "outputs": [],
   "source": [
    "%%time\n",
    "\n",
    "ridge = Ridge(normalize=True)\n",
    "ridge.fit(features_train, target_train);"
   ]
  },
  {
   "cell_type": "code",
   "execution_count": null,
   "metadata": {},
   "outputs": [],
   "source": [
    "%%time\n",
    "ridge_predict = ridge.predict(features_valid)\n",
    "mean_squared_error(target_valid, ridge_predict)**(.5)"
   ]
  },
  {
   "cell_type": "markdown",
   "metadata": {},
   "source": [
    "## Анализ моделей"
   ]
  },
  {
   "cell_type": "markdown",
   "metadata": {},
   "source": [
    "**Итоговый вывод:**  Градиентый бустинг с перебором гипермаркетов через GridSearch обучается дольше 3.96 s, и дает RMSE: 1232   \n",
    "Быстрее всего обучается Linear Regresssion  6 ms при этом RMSE: 1771"
   ]
  },
  {
   "cell_type": "markdown",
   "metadata": {},
   "source": [
    "<div class=\"alert alert-success\">\n",
    "    \n",
    "**Комментарий ревьюера**\n",
    "    \n",
    "Пока подсказок не даю, но чтобы я мог принять проект результат на тесте должен быть не больше 2500)Если будут трудности пиши вопросы, я отвечу и сделаю подсказку)Сразу подсказывать не хочу, т.к. знания добытые самостоятельно гораздо больше стоят)Жду доработок)\n",
    "</div>"
   ]
  },
  {
   "cell_type": "markdown",
   "metadata": {},
   "source": [
    "<div class=\"alert alert-block alert-info\">\n",
    "    \n",
    "v_4. Все доработал. **Итоговый вывод:**  Градиентый бустинг с перебором гипермаркетов через GridSearch обучается дольше 3.96 s, и дает RMSE: 1232   \n",
    "Быстрее всего обучается Linear Regresssion  6 ms при этом RMSE: 1771\n",
    "    \n",
    "</div>"
   ]
  },
  {
   "cell_type": "markdown",
   "metadata": {},
   "source": [
    "## Чек-лист проверки"
   ]
  },
  {
   "cell_type": "markdown",
   "metadata": {},
   "source": [
    "Поставьте 'x' в выполненных пунктах. Далее нажмите Shift+Enter."
   ]
  },
  {
   "cell_type": "markdown",
   "metadata": {},
   "source": [
    "- [x]  Jupyter Notebook открыт\n",
    "- [x]  Весь код выполняется без ошибок\n",
    "- [x]  Ячейки с кодом расположены в порядке исполнения\n",
    "- [x]  Выполнена загрузка и подготовка данных\n",
    "- [x]  Выполнено обучение моделей\n",
    "- [x]  Есть анализ скорости работы и качества моделей"
   ]
  },
  {
   "cell_type": "code",
   "execution_count": null,
   "metadata": {},
   "outputs": [],
   "source": []
  }
 ],
 "metadata": {
  "kernelspec": {
   "display_name": "Python 3",
   "language": "python",
   "name": "python3"
  },
  "language_info": {
   "codemirror_mode": {
    "name": "ipython",
    "version": 3
   },
   "file_extension": ".py",
   "mimetype": "text/x-python",
   "name": "python",
   "nbconvert_exporter": "python",
   "pygments_lexer": "ipython3",
   "version": "3.7.8"
  },
  "toc": {
   "base_numbering": 1,
   "nav_menu": {},
   "number_sections": true,
   "sideBar": true,
   "skip_h1_title": true,
   "title_cell": "Table of Contents",
   "title_sidebar": "Contents",
   "toc_cell": true,
   "toc_position": {},
   "toc_section_display": true,
   "toc_window_display": false
  },
  "varInspector": {
   "cols": {
    "lenName": 16,
    "lenType": 16,
    "lenVar": 40
   },
   "kernels_config": {
    "python": {
     "delete_cmd_postfix": "",
     "delete_cmd_prefix": "del ",
     "library": "var_list.py",
     "varRefreshCmd": "print(var_dic_list())"
    },
    "r": {
     "delete_cmd_postfix": ") ",
     "delete_cmd_prefix": "rm(",
     "library": "var_list.r",
     "varRefreshCmd": "cat(var_dic_list()) "
    }
   },
   "types_to_exclude": [
    "module",
    "function",
    "builtin_function_or_method",
    "instance",
    "_Feature"
   ],
   "window_display": false
  }
 },
 "nbformat": 4,
 "nbformat_minor": 2
}
